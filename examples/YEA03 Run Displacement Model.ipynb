{
 "cells": [
  {
   "cell_type": "markdown",
   "metadata": {},
   "source": [
    "# Import libraries"
   ]
  },
  {
   "cell_type": "code",
   "execution_count": 1,
   "metadata": {},
   "outputs": [],
   "source": [
    "import sys\n",
    "from pathlib import Path\n",
    "import matplotlib.pyplot as plt\n",
    "import matplotlib.ticker as ticker\n",
    "import numpy as np\n",
    "import pandas as pd\n",
    "\n",
    "%matplotlib inline"
   ]
  },
  {
   "cell_type": "markdown",
   "metadata": {},
   "source": [
    "# Import modules"
   ]
  },
  {
   "cell_type": "code",
   "execution_count": 2,
   "metadata": {},
   "outputs": [],
   "source": [
    "# Add path for module\n",
    "# FIXME: shouldn't need this with a package install (`__init__` should suffice?!)\n",
    "MODEL_DIR = Path().resolve().parent / \"YoungsEtAl2003\"\n",
    "sys.path.append(str(MODEL_DIR))\n",
    "\n",
    "import run_displacement_model"
   ]
  },
  {
   "cell_type": "markdown",
   "metadata": {},
   "source": [
    "# View the docstrings"
   ]
  },
  {
   "cell_type": "code",
   "execution_count": 3,
   "metadata": {},
   "outputs": [
    {
     "name": "stdout",
     "output_type": "stream",
     "text": [
      "Help on module run_displacement_model:\n",
      "\n",
      "NAME\n",
      "    run_displacement_model\n",
      "\n",
      "DESCRIPTION\n",
      "    This file runs the YEA03 principal fault displacement model.\n",
      "    - Any number of scenarios are allowed (e.g., user can enter multiple magnitudes).\n",
      "    - The results are returned in a pandas DataFrame.\n",
      "    - Results with full aleatory variability and with location-only aleatory variability are always returned.\n",
      "    - The results with full aleatory variability are computed by convolving distributions for normalized\n",
      "    displacement (based on magnitude) and normalization ratio (based on location) using the Monte Carlo sampling\n",
      "    method described in Moss and Ross (2011).\n",
      "    - Only the principal fault displacement models are implemented herein currently.\n",
      "    - Only the D/AD relationship is implemented because the D/MD results on Figures 6 and 7a in Youngs\n",
      "    et al. (2003) cannot be reproduced using the formulations and coefficients in the appendix.\n",
      "    - The AD value used in YEA03 and herein is based on Wells and Coppersmith (1994) for all styles.\n",
      "    - Command-line use is supported; try `python run_displacement_model.py --help`\n",
      "    - Module use is supported; try `from run_displacement_model import run_model`\n",
      "    \n",
      "    # NOTE: Several helper functions are defined herein, but the main function is `run_model()`.\n",
      "    \n",
      "    Reference: https://doi.org/10.1193/1.1542891\n",
      "\n",
      "FUNCTIONS\n",
      "    main()\n",
      "    \n",
      "    run_model(*, magnitude: Union[float, int, List[Union[float, int]], numpy.ndarray], location: Union[float, int, List[Union[float, int]], numpy.ndarray], percentile: Union[float, int, List[Union[float, int]], numpy.ndarray], submodel: Union[str, List[str], numpy.ndarray] = 'd_ad', style: Union[str, List[str], numpy.ndarray] = 'normal') -> pandas.core.frame.DataFrame\n",
      "        Run YEA03 principal fault displacement model. All parameters must be passed as keyword\n",
      "        arguments. Any number of scenarios (i.e., magnitude inputs, location inputs, etc.) are allowed.\n",
      "        \n",
      "        Parameters\n",
      "        ----------\n",
      "        magnitude : Union[float, list, numpy.ndarray]\n",
      "            Earthquake moment magnitude.\n",
      "        \n",
      "        location : Union[float, list, numpy.ndarray]\n",
      "            Normalized location along rupture length, range [0, 1.0].\n",
      "        \n",
      "        percentile : Union[float, list, numpy.ndarray]\n",
      "            Aleatory quantile value. Use -1 for mean.\n",
      "        \n",
      "        submodel : Union[str, list, numpy.ndarray]\n",
      "            YEA03 normalization model name (case-insensitive). Valid options are \"d_ad\".\n",
      "        \n",
      "        style : Union[str, list, numpy.ndarray], optional\n",
      "            Style of faulting (case-insensitive). Default is \"normal\".\n",
      "        \n",
      "        Returns\n",
      "        -------\n",
      "        pandas.DataFrame\n",
      "            A DataFrame with the following columns:\n",
      "            - 'magnitude': Earthquake moment magnitude [from user input].\n",
      "            - 'location':  Normalized location along rupture length [from user input].\n",
      "            - 'style': Style of faulting [from user input].\n",
      "            - 'percentile': Aleatory quantile value [from user input].\n",
      "            - 'model_name': Normalization ratio model name [from user input].\n",
      "            - 'mu': Log10 transform of mean average or maximum displacement in m.\n",
      "            - 'sigma': Standard deviation of average or maximum displacement in same units as `mu`.\n",
      "            - 'alpha': Shape parameter for Gamma distribution (D/AD).\n",
      "            - 'beta': Scale parameter for Gamma distribution (D/AD).\n",
      "            - 'xd': Median predicted displacement for AD.\n",
      "            - 'd_xd': Normalization ratio D/AD for aleatory quantile.\n",
      "            - 'displ_without_aleatory': Displacement in meters without aleatory variability on magntiude.\n",
      "            - 'displ_with_aleatory': Displacement in meters with full aleatory variability.\n",
      "        \n",
      "        Warns\n",
      "        -----\n",
      "        UserWarning\n",
      "            If an unsupported `style` is provided. The user input will be over-ridden with \"normal\".\n",
      "        \n",
      "        UserWarning\n",
      "            If an unsupported `submodel` is provided. The user input will be over-ridden with \"d_ad\".\n",
      "        \n",
      "        Notes\n",
      "        ------\n",
      "        Only the D/AD relationship is implemented because the D/MD results on Figures 6 and 7a in Youngs\n",
      "            et al. (2003) cannot be reproduced using the formulations and coefficients in the appendix.\n",
      "        \n",
      "        Command-line interface usage\n",
      "            Run (e.g.) `python run_displacement_model.py --magnitude 7 --location 0.5 --percentile 0.5 --submodel d_ad`\n",
      "            Run `python run_displacement_model.py --help`\n",
      "        \n",
      "        #TODO\n",
      "        ------\n",
      "        Raise a ValueError for invalid location\n",
      "        Raise a ValueError for invalid percentile.\n",
      "        Raise a UserWarning for magntiudes outside recommended ranges.\n",
      "\n",
      "DATA\n",
      "    List = typing.List\n",
      "    N = 500000\n",
      "    SEED = 123\n",
      "    Union = typing.Union\n",
      "\n",
      "FILE\n",
      "    d:\\documents\\_mydocs\\work fdhi\\team\\journal\\kea23\\youngsetal2003\\run_displacement_model.py\n",
      "\n",
      "\n"
     ]
    }
   ],
   "source": [
    "help(run_displacement_model)"
   ]
  },
  {
   "cell_type": "markdown",
   "metadata": {},
   "source": [
    "# An important note: Capturing aleatory variabilty in models that predict normalized displacement"
   ]
  },
  {
   "cell_type": "markdown",
   "metadata": {},
   "source": [
    "The Youngs et al. (2003) model provides predictions based on normalized displacement $D/AD$ or $D/MD$ as a fuction of folded normalized location along the rupture. Accordingly, the aleatory variability associated with the position along the rupture is captured in the $D/AD$ and $D/MD$ formulations. Specifically, these models use Gamma and Beta distributions, respectively, to model the aleatory variability.\n",
    "\n",
    "To obtain the actual displacement $D$, relations for the normalization variables $AD$ or $MD$ are required. Moss and Ross (2011) provide models for $AD$ and $MD$. The models are in the form of $\\log_{10}(XD) \\sim f(\\mathbf{M})$, similar to the well-known Wells and Coppersmith (1994) models. The actual displacement is therefore calculated as $D = D/AD \\times AD$, for example. \n",
    "\n",
    "However, simply multiplying the normalization ratio by the median-predicted $AD$ or $MD$ under-estimates the total aleatory variability because the variability in the magnitude scaling of $AD$ or $MD$ is not captured. As described in Youngs et al. (2003) and Moss and Ross (2011), the distribution for $D/AD$ (or $D/MD$) must be convolved with the distribution for $AD$ (or $MD$) to capture the full aleatory variability for both location dependence and magnitude dependence.\n",
    "\n",
    "For completeness, the results with and without full aleatory variability are included in the outputs. The full aleatory variability is computed using Monte Carlo sampling, as described in Moss and Ross (2011). Five hundred thousand (500,000) samples are drawn for each distribution. (This value was selected because it generally produces smooth slip profiles but is still reasonably fast.) In general, neglecting the aleatory variability on magnitude will over-estimate  hazard at low percentiles (i.e., aleatory quantiles) and under-estimate hazard at high percentiles."
   ]
  },
  {
   "cell_type": "markdown",
   "metadata": {},
   "source": [
    "## Example"
   ]
  },
  {
   "cell_type": "markdown",
   "metadata": {},
   "source": [
    "Let's look at the results for a simple case: a $\\mathbf{M}$ 6.8 earthquake at $x/L$ position of 0.25. Let's use the $D/AD$ model formulation, and let's look at the 84th percentile prediction."
   ]
  },
  {
   "cell_type": "code",
   "execution_count": 4,
   "metadata": {},
   "outputs": [
    {
     "data": {
      "text/html": [
       "<div>\n",
       "<style scoped>\n",
       "    .dataframe tbody tr th:only-of-type {\n",
       "        vertical-align: middle;\n",
       "    }\n",
       "\n",
       "    .dataframe tbody tr th {\n",
       "        vertical-align: top;\n",
       "    }\n",
       "\n",
       "    .dataframe thead th {\n",
       "        text-align: right;\n",
       "    }\n",
       "</style>\n",
       "<table border=\"1\" class=\"dataframe\">\n",
       "  <thead>\n",
       "    <tr style=\"text-align: right;\">\n",
       "      <th></th>\n",
       "      <th>magnitude</th>\n",
       "      <th>location</th>\n",
       "      <th>style</th>\n",
       "      <th>percentile</th>\n",
       "      <th>model_name</th>\n",
       "      <th>mu</th>\n",
       "      <th>sigma</th>\n",
       "      <th>alpha</th>\n",
       "      <th>beta</th>\n",
       "      <th>xd</th>\n",
       "      <th>d_xd</th>\n",
       "      <th>displ_without_aleatory</th>\n",
       "      <th>displ_with_aleatory</th>\n",
       "    </tr>\n",
       "  </thead>\n",
       "  <tbody>\n",
       "    <tr>\n",
       "      <th>0</th>\n",
       "      <td>6.8</td>\n",
       "      <td>0.25</td>\n",
       "      <td>normal</td>\n",
       "      <td>0.84</td>\n",
       "      <td>d_ad</td>\n",
       "      <td>-0.108</td>\n",
       "      <td>0.36</td>\n",
       "      <td>1.238623</td>\n",
       "      <td>0.895834</td>\n",
       "      <td>0.77983</td>\n",
       "      <td>1.969372</td>\n",
       "      <td>1.535775</td>\n",
       "      <td>2.077515</td>\n",
       "    </tr>\n",
       "  </tbody>\n",
       "</table>\n",
       "</div>"
      ],
      "text/plain": [
       "   magnitude  location   style  percentile model_name     mu  sigma     alpha      beta       xd      d_xd  displ_without_aleatory  displ_with_aleatory\n",
       "0        6.8      0.25  normal        0.84       d_ad -0.108   0.36  1.238623  0.895834  0.77983  1.969372                1.535775             2.077515"
      ]
     },
     "execution_count": 4,
     "metadata": {},
     "output_type": "execute_result"
    }
   ],
   "source": [
    "mag, loc, perc, model = (6.8, 0.25, 0.84, \"d_ad\")\n",
    "\n",
    "results = run_displacement_model.run_model(\n",
    "    magnitude=mag, location=loc, percentile=perc, submodel=model\n",
    ")\n",
    "\n",
    "results"
   ]
  },
  {
   "cell_type": "markdown",
   "metadata": {},
   "source": [
    "Note that in the above table, the `model_name` is specified in the row as \"d_ad\". This means that the value in column `xd` is \"AD\" or average displacement. Similarly, the value in `d_xd` corresponds to \"D/AD\".\n",
    "\n",
    "As discussed abovery variability in the prediction. The predicted displacement (based on the magnitude, location, and percentile for a row) with full aleatory variability is in column `displ_with_aleatory`. The prediction with *only* location-based aleatory variability is in column `displ_without_aleatory`.\n",
    "\n",
    "The full aleatory variability is computed by convolving 500,000 samples from the $AD$ distribution, which is based on $\\mu$ and $\\sigma$ in the table, with 500,000 samples from the $D/AD$ distribution, which is based on the $\\alpha$ and $\\beta$ values in the table. Then, the 84th percentile of the convolved distributions is calculated to provide the `displ_with_aleatory` value.\n",
    "\n",
    "The `displ_without_aleatory` value represents the median-predicted $AD$, which is in column `xd`, and the 84th percentile $D/AD$, which is in column `d_xd`. In other words, it it is the value in `xd` multiplied by `d_xd`. "
   ]
  },
  {
   "cell_type": "markdown",
   "metadata": {},
   "source": [
    "In summary: \n",
    "- Each row contains results for the scenario (`magnitude`, `location`) and `model_name`. \n",
    "- Statistical distribution parameters `mu` and `sigma` are based on `magnitude` and the normalization variable provided in `model_name`.\n",
    "- Statistical distribution parameters `alpha` and `beta` are based on `location` and the model in `model_name`.\n",
    "- The `xd` value is the median prediction *Prob(50)* for the normalization variable. It is used in the final displacement calulation in column `displ_without_aleatory`.\n",
    "- The `d_xd` value is the based on the aleatory quantile of interest, given in the `percentile` column. It is the prediction *Prob(percentile)* for the normalized ratio. It is used in the final displacement calulation in column `displ_without_aleatory`.\n",
    "- The **recommended displacement with full aleatory variability** is provided in `displ_with_aleatory` and is based on the aleatory quantile of interest in the `percentile` column; specifically, it is the *Prob(percentile)* from 500,000 convolved distribution samples."
   ]
  },
  {
   "cell_type": "markdown",
   "metadata": {},
   "source": [
    "# Run displacement model"
   ]
  },
  {
   "cell_type": "markdown",
   "metadata": {},
   "source": [
    "## Single scenarios"
   ]
  },
  {
   "cell_type": "markdown",
   "metadata": {},
   "source": [
    "A single scenario is defined as a magnitude/location/percentile/style. Here is an example (note all parameters must be passed as keyword arguments)."
   ]
  },
  {
   "cell_type": "code",
   "execution_count": 5,
   "metadata": {},
   "outputs": [
    {
     "data": {
      "text/html": [
       "<div>\n",
       "<style scoped>\n",
       "    .dataframe tbody tr th:only-of-type {\n",
       "        vertical-align: middle;\n",
       "    }\n",
       "\n",
       "    .dataframe tbody tr th {\n",
       "        vertical-align: top;\n",
       "    }\n",
       "\n",
       "    .dataframe thead th {\n",
       "        text-align: right;\n",
       "    }\n",
       "</style>\n",
       "<table border=\"1\" class=\"dataframe\">\n",
       "  <thead>\n",
       "    <tr style=\"text-align: right;\">\n",
       "      <th></th>\n",
       "      <th>magnitude</th>\n",
       "      <th>location</th>\n",
       "      <th>style</th>\n",
       "      <th>percentile</th>\n",
       "      <th>model_name</th>\n",
       "      <th>mu</th>\n",
       "      <th>sigma</th>\n",
       "      <th>alpha</th>\n",
       "      <th>beta</th>\n",
       "      <th>xd</th>\n",
       "      <th>d_xd</th>\n",
       "      <th>displ_without_aleatory</th>\n",
       "      <th>displ_with_aleatory</th>\n",
       "    </tr>\n",
       "  </thead>\n",
       "  <tbody>\n",
       "    <tr>\n",
       "      <th>0</th>\n",
       "      <td>6.8</td>\n",
       "      <td>0.25</td>\n",
       "      <td>normal</td>\n",
       "      <td>0.5</td>\n",
       "      <td>d_ad</td>\n",
       "      <td>-0.108</td>\n",
       "      <td>0.36</td>\n",
       "      <td>1.238623</td>\n",
       "      <td>0.895834</td>\n",
       "      <td>0.77983</td>\n",
       "      <td>0.829335</td>\n",
       "      <td>0.646741</td>\n",
       "      <td>0.608636</td>\n",
       "    </tr>\n",
       "  </tbody>\n",
       "</table>\n",
       "</div>"
      ],
      "text/plain": [
       "   magnitude  location   style  percentile model_name     mu  sigma     alpha      beta       xd      d_xd  displ_without_aleatory  displ_with_aleatory\n",
       "0        6.8      0.25  normal         0.5       d_ad -0.108   0.36  1.238623  0.895834  0.77983  0.829335                0.646741             0.608636"
      ]
     },
     "execution_count": 5,
     "metadata": {},
     "output_type": "execute_result"
    }
   ],
   "source": [
    "mag, loc, perc, model = (6.8, 0.25, 0.5, \"d_ad\")\n",
    "\n",
    "results = run_displacement_model.run_model(\n",
    "    magnitude=mag, location=loc, percentile=perc, submodel=model\n",
    ")\n",
    "\n",
    "results"
   ]
  },
  {
   "cell_type": "markdown",
   "metadata": {},
   "source": [
    "This model should only be used for normal faulting. That is the default style. A `UserWarning` will be issued and the user input will be over-ridden in the output table if another style is entered, such as `style=\"strike-slip\"`:"
   ]
  },
  {
   "cell_type": "code",
   "execution_count": 6,
   "metadata": {},
   "outputs": [
    {
     "name": "stderr",
     "output_type": "stream",
     "text": [
      "D:\\Documents\\_mydocs\\Work FDHI\\TEAM\\Journal\\kea23\\YoungsEtAl2003\\run_displacement_model.py:468: UserWarning: This model is only recommended for normal faulting, but 'strike-slip' was entered.User input will be over-ridden.\n",
      "  warnings.warn(\n"
     ]
    },
    {
     "data": {
      "text/html": [
       "<div>\n",
       "<style scoped>\n",
       "    .dataframe tbody tr th:only-of-type {\n",
       "        vertical-align: middle;\n",
       "    }\n",
       "\n",
       "    .dataframe tbody tr th {\n",
       "        vertical-align: top;\n",
       "    }\n",
       "\n",
       "    .dataframe thead th {\n",
       "        text-align: right;\n",
       "    }\n",
       "</style>\n",
       "<table border=\"1\" class=\"dataframe\">\n",
       "  <thead>\n",
       "    <tr style=\"text-align: right;\">\n",
       "      <th></th>\n",
       "      <th>magnitude</th>\n",
       "      <th>location</th>\n",
       "      <th>style</th>\n",
       "      <th>percentile</th>\n",
       "      <th>model_name</th>\n",
       "      <th>mu</th>\n",
       "      <th>sigma</th>\n",
       "      <th>alpha</th>\n",
       "      <th>beta</th>\n",
       "      <th>xd</th>\n",
       "      <th>d_xd</th>\n",
       "      <th>displ_without_aleatory</th>\n",
       "      <th>displ_with_aleatory</th>\n",
       "    </tr>\n",
       "  </thead>\n",
       "  <tbody>\n",
       "    <tr>\n",
       "      <th>0</th>\n",
       "      <td>6.8</td>\n",
       "      <td>0.25</td>\n",
       "      <td>normal</td>\n",
       "      <td>0.5</td>\n",
       "      <td>d_ad</td>\n",
       "      <td>-0.108</td>\n",
       "      <td>0.36</td>\n",
       "      <td>1.238623</td>\n",
       "      <td>0.895834</td>\n",
       "      <td>0.77983</td>\n",
       "      <td>0.829335</td>\n",
       "      <td>0.646741</td>\n",
       "      <td>0.608636</td>\n",
       "    </tr>\n",
       "  </tbody>\n",
       "</table>\n",
       "</div>"
      ],
      "text/plain": [
       "   magnitude  location   style  percentile model_name     mu  sigma     alpha      beta       xd      d_xd  displ_without_aleatory  displ_with_aleatory\n",
       "0        6.8      0.25  normal         0.5       d_ad -0.108   0.36  1.238623  0.895834  0.77983  0.829335                0.646741             0.608636"
      ]
     },
     "execution_count": 6,
     "metadata": {},
     "output_type": "execute_result"
    }
   ],
   "source": [
    "results = run_displacement_model.run_model(\n",
    "    magnitude=mag, location=loc, percentile=perc, submodel=model, style=\"strike-slip\"\n",
    ")\n",
    "\n",
    "results"
   ]
  },
  {
   "cell_type": "markdown",
   "metadata": {},
   "source": [
    "Youngs et al. (2003) model provides three alternative submodels: one is based on normalized displacement $D/AD$ and the other two are on $D/MD$. \n",
    "\n",
    "The results for the $D/MD$ models on Figures 6 and 7a in Youngs et al. (2003) cannot be reproduced using the formulations and coefficient provided in their appendix; therefore, only the $D/AD$ model is implemented herein and that is the default for `submodel`. A `UserWarning` will be issued and the user input will be over-ridden in the output table if another `submodel` is entered:"
   ]
  },
  {
   "cell_type": "code",
   "execution_count": 7,
   "metadata": {},
   "outputs": [
    {
     "name": "stderr",
     "output_type": "stream",
     "text": [
      "D:\\Documents\\_mydocs\\Work FDHI\\TEAM\\Journal\\kea23\\YoungsEtAl2003\\run_displacement_model.py:477: UserWarning: Only the D/AD relationship is implemented because the D/MD results on Figures 6 and 7a in Youngs et al. (2003) cannot be reproduced using the formulations and coefficients in the appendix.User input 'd_md' will be over-ridden.\n",
      "  warnings.warn(\n"
     ]
    },
    {
     "data": {
      "text/html": [
       "<div>\n",
       "<style scoped>\n",
       "    .dataframe tbody tr th:only-of-type {\n",
       "        vertical-align: middle;\n",
       "    }\n",
       "\n",
       "    .dataframe tbody tr th {\n",
       "        vertical-align: top;\n",
       "    }\n",
       "\n",
       "    .dataframe thead th {\n",
       "        text-align: right;\n",
       "    }\n",
       "</style>\n",
       "<table border=\"1\" class=\"dataframe\">\n",
       "  <thead>\n",
       "    <tr style=\"text-align: right;\">\n",
       "      <th></th>\n",
       "      <th>magnitude</th>\n",
       "      <th>location</th>\n",
       "      <th>style</th>\n",
       "      <th>percentile</th>\n",
       "      <th>model_name</th>\n",
       "      <th>mu</th>\n",
       "      <th>sigma</th>\n",
       "      <th>alpha</th>\n",
       "      <th>beta</th>\n",
       "      <th>xd</th>\n",
       "      <th>d_xd</th>\n",
       "      <th>displ_without_aleatory</th>\n",
       "      <th>displ_with_aleatory</th>\n",
       "    </tr>\n",
       "  </thead>\n",
       "  <tbody>\n",
       "    <tr>\n",
       "      <th>0</th>\n",
       "      <td>6.8</td>\n",
       "      <td>0.25</td>\n",
       "      <td>normal</td>\n",
       "      <td>0.5</td>\n",
       "      <td>d_ad</td>\n",
       "      <td>-0.108</td>\n",
       "      <td>0.36</td>\n",
       "      <td>1.238623</td>\n",
       "      <td>0.895834</td>\n",
       "      <td>0.77983</td>\n",
       "      <td>0.829335</td>\n",
       "      <td>0.646741</td>\n",
       "      <td>0.608636</td>\n",
       "    </tr>\n",
       "  </tbody>\n",
       "</table>\n",
       "</div>"
      ],
      "text/plain": [
       "   magnitude  location   style  percentile model_name     mu  sigma     alpha      beta       xd      d_xd  displ_without_aleatory  displ_with_aleatory\n",
       "0        6.8      0.25  normal         0.5       d_ad -0.108   0.36  1.238623  0.895834  0.77983  0.829335                0.646741             0.608636"
      ]
     },
     "execution_count": 7,
     "metadata": {},
     "output_type": "execute_result"
    }
   ],
   "source": [
    "results = run_displacement_model.run_model(\n",
    "    magnitude=mag, location=loc, percentile=perc, submodel=\"d_md\"\n",
    ")\n",
    "\n",
    "results"
   ]
  },
  {
   "cell_type": "markdown",
   "metadata": {},
   "source": [
    "An error results if the wrong submodel is entered:"
   ]
  },
  {
   "cell_type": "code",
   "execution_count": 8,
   "metadata": {},
   "outputs": [],
   "source": [
    "del mag, loc, perc, model"
   ]
  },
  {
   "cell_type": "markdown",
   "metadata": {},
   "source": [
    "## Multiple scenarios"
   ]
  },
  {
   "cell_type": "markdown",
   "metadata": {},
   "source": [
    "Multiple magnitude/location/percentile/submodel scenarios can be run. All combinations of magnitudes, locations, percentiles, and submodels are run. Here is an example."
   ]
  },
  {
   "cell_type": "code",
   "execution_count": 9,
   "metadata": {},
   "outputs": [
    {
     "data": {
      "text/html": [
       "<div>\n",
       "<style scoped>\n",
       "    .dataframe tbody tr th:only-of-type {\n",
       "        vertical-align: middle;\n",
       "    }\n",
       "\n",
       "    .dataframe tbody tr th {\n",
       "        vertical-align: top;\n",
       "    }\n",
       "\n",
       "    .dataframe thead th {\n",
       "        text-align: right;\n",
       "    }\n",
       "</style>\n",
       "<table border=\"1\" class=\"dataframe\">\n",
       "  <thead>\n",
       "    <tr style=\"text-align: right;\">\n",
       "      <th></th>\n",
       "      <th>magnitude</th>\n",
       "      <th>location</th>\n",
       "      <th>style</th>\n",
       "      <th>percentile</th>\n",
       "      <th>model_name</th>\n",
       "      <th>mu</th>\n",
       "      <th>sigma</th>\n",
       "      <th>alpha</th>\n",
       "      <th>beta</th>\n",
       "      <th>xd</th>\n",
       "      <th>d_xd</th>\n",
       "      <th>displ_without_aleatory</th>\n",
       "      <th>displ_with_aleatory</th>\n",
       "    </tr>\n",
       "  </thead>\n",
       "  <tbody>\n",
       "    <tr>\n",
       "      <th>0</th>\n",
       "      <td>6.8</td>\n",
       "      <td>0.25</td>\n",
       "      <td>normal</td>\n",
       "      <td>0.50</td>\n",
       "      <td>d_ad</td>\n",
       "      <td>-0.108</td>\n",
       "      <td>0.36</td>\n",
       "      <td>1.238623</td>\n",
       "      <td>0.895834</td>\n",
       "      <td>0.77983</td>\n",
       "      <td>0.829335</td>\n",
       "      <td>0.646741</td>\n",
       "      <td>0.608636</td>\n",
       "    </tr>\n",
       "    <tr>\n",
       "      <th>1</th>\n",
       "      <td>6.8</td>\n",
       "      <td>0.25</td>\n",
       "      <td>normal</td>\n",
       "      <td>0.84</td>\n",
       "      <td>d_ad</td>\n",
       "      <td>-0.108</td>\n",
       "      <td>0.36</td>\n",
       "      <td>1.238623</td>\n",
       "      <td>0.895834</td>\n",
       "      <td>0.77983</td>\n",
       "      <td>1.969372</td>\n",
       "      <td>1.535775</td>\n",
       "      <td>2.077515</td>\n",
       "    </tr>\n",
       "    <tr>\n",
       "      <th>2</th>\n",
       "      <td>6.8</td>\n",
       "      <td>0.50</td>\n",
       "      <td>normal</td>\n",
       "      <td>0.50</td>\n",
       "      <td>d_ad</td>\n",
       "      <td>-0.108</td>\n",
       "      <td>0.36</td>\n",
       "      <td>1.860788</td>\n",
       "      <td>0.795329</td>\n",
       "      <td>0.77983</td>\n",
       "      <td>1.224923</td>\n",
       "      <td>0.955232</td>\n",
       "      <td>0.909339</td>\n",
       "    </tr>\n",
       "    <tr>\n",
       "      <th>3</th>\n",
       "      <td>6.8</td>\n",
       "      <td>0.50</td>\n",
       "      <td>normal</td>\n",
       "      <td>0.84</td>\n",
       "      <td>d_ad</td>\n",
       "      <td>-0.108</td>\n",
       "      <td>0.36</td>\n",
       "      <td>1.860788</td>\n",
       "      <td>0.795329</td>\n",
       "      <td>0.77983</td>\n",
       "      <td>2.461902</td>\n",
       "      <td>1.919865</td>\n",
       "      <td>2.740790</td>\n",
       "    </tr>\n",
       "  </tbody>\n",
       "</table>\n",
       "</div>"
      ],
      "text/plain": [
       "   magnitude  location   style  percentile model_name     mu  sigma     alpha      beta       xd      d_xd  displ_without_aleatory  displ_with_aleatory\n",
       "0        6.8      0.25  normal        0.50       d_ad -0.108   0.36  1.238623  0.895834  0.77983  0.829335                0.646741             0.608636\n",
       "1        6.8      0.25  normal        0.84       d_ad -0.108   0.36  1.238623  0.895834  0.77983  1.969372                1.535775             2.077515\n",
       "2        6.8      0.50  normal        0.50       d_ad -0.108   0.36  1.860788  0.795329  0.77983  1.224923                0.955232             0.909339\n",
       "3        6.8      0.50  normal        0.84       d_ad -0.108   0.36  1.860788  0.795329  0.77983  2.461902                1.919865             2.740790"
      ]
     },
     "execution_count": 9,
     "metadata": {},
     "output_type": "execute_result"
    }
   ],
   "source": [
    "mags, locs, percs, models = (\n",
    "    6.8,\n",
    "    [0.25, 0.5],\n",
    "    [0.5, 0.84],\n",
    "    \"d_ad\",\n",
    ")\n",
    "\n",
    "results = run_displacement_model.run_model(\n",
    "    magnitude=mags, location=locs, percentile=percs, submodel=models\n",
    ")\n",
    "\n",
    "results"
   ]
  },
  {
   "cell_type": "code",
   "execution_count": 10,
   "metadata": {},
   "outputs": [],
   "source": [
    "del mags, locs, percs, models"
   ]
  },
  {
   "cell_type": "markdown",
   "metadata": {},
   "source": [
    "# Scratch"
   ]
  },
  {
   "cell_type": "code",
   "execution_count": 11,
   "metadata": {},
   "outputs": [
    {
     "data": {
      "text/html": [
       "<div>\n",
       "<style scoped>\n",
       "    .dataframe tbody tr th:only-of-type {\n",
       "        vertical-align: middle;\n",
       "    }\n",
       "\n",
       "    .dataframe tbody tr th {\n",
       "        vertical-align: top;\n",
       "    }\n",
       "\n",
       "    .dataframe thead th {\n",
       "        text-align: right;\n",
       "    }\n",
       "</style>\n",
       "<table border=\"1\" class=\"dataframe\">\n",
       "  <thead>\n",
       "    <tr style=\"text-align: right;\">\n",
       "      <th></th>\n",
       "      <th>magnitude</th>\n",
       "      <th>location</th>\n",
       "      <th>style</th>\n",
       "      <th>percentile</th>\n",
       "      <th>model_name</th>\n",
       "      <th>mu</th>\n",
       "      <th>sigma</th>\n",
       "      <th>alpha</th>\n",
       "      <th>beta</th>\n",
       "      <th>xd</th>\n",
       "      <th>d_xd</th>\n",
       "      <th>displ_without_aleatory</th>\n",
       "      <th>displ_with_aleatory</th>\n",
       "    </tr>\n",
       "  </thead>\n",
       "  <tbody>\n",
       "    <tr>\n",
       "      <th>0</th>\n",
       "      <td>6.75</td>\n",
       "      <td>0.0</td>\n",
       "      <td>normal</td>\n",
       "      <td>0.05</td>\n",
       "      <td>d_ad</td>\n",
       "      <td>-0.1425</td>\n",
       "      <td>0.36</td>\n",
       "      <td>0.824482</td>\n",
       "      <td>1.009041</td>\n",
       "      <td>0.720278</td>\n",
       "      <td>0.025012</td>\n",
       "      <td>0.018015</td>\n",
       "      <td>0.013691</td>\n",
       "    </tr>\n",
       "    <tr>\n",
       "      <th>1</th>\n",
       "      <td>6.75</td>\n",
       "      <td>0.0</td>\n",
       "      <td>normal</td>\n",
       "      <td>0.15</td>\n",
       "      <td>d_ad</td>\n",
       "      <td>-0.1425</td>\n",
       "      <td>0.36</td>\n",
       "      <td>0.824482</td>\n",
       "      <td>1.009041</td>\n",
       "      <td>0.720278</td>\n",
       "      <td>0.098627</td>\n",
       "      <td>0.071039</td>\n",
       "      <td>0.055965</td>\n",
       "    </tr>\n",
       "    <tr>\n",
       "      <th>2</th>\n",
       "      <td>6.75</td>\n",
       "      <td>0.0</td>\n",
       "      <td>normal</td>\n",
       "      <td>0.50</td>\n",
       "      <td>d_ad</td>\n",
       "      <td>-0.1425</td>\n",
       "      <td>0.36</td>\n",
       "      <td>0.824482</td>\n",
       "      <td>1.009041</td>\n",
       "      <td>0.720278</td>\n",
       "      <td>0.529333</td>\n",
       "      <td>0.381267</td>\n",
       "      <td>0.354922</td>\n",
       "    </tr>\n",
       "    <tr>\n",
       "      <th>3</th>\n",
       "      <td>6.75</td>\n",
       "      <td>0.0</td>\n",
       "      <td>normal</td>\n",
       "      <td>0.85</td>\n",
       "      <td>d_ad</td>\n",
       "      <td>-0.1425</td>\n",
       "      <td>0.36</td>\n",
       "      <td>0.824482</td>\n",
       "      <td>1.009041</td>\n",
       "      <td>0.720278</td>\n",
       "      <td>1.625788</td>\n",
       "      <td>1.171019</td>\n",
       "      <td>1.526587</td>\n",
       "    </tr>\n",
       "    <tr>\n",
       "      <th>4</th>\n",
       "      <td>6.75</td>\n",
       "      <td>0.0</td>\n",
       "      <td>normal</td>\n",
       "      <td>0.95</td>\n",
       "      <td>d_ad</td>\n",
       "      <td>-0.1425</td>\n",
       "      <td>0.36</td>\n",
       "      <td>0.824482</td>\n",
       "      <td>1.009041</td>\n",
       "      <td>0.720278</td>\n",
       "      <td>2.669693</td>\n",
       "      <td>1.922921</td>\n",
       "      <td>3.234006</td>\n",
       "    </tr>\n",
       "  </tbody>\n",
       "</table>\n",
       "</div>"
      ],
      "text/plain": [
       "   magnitude  location   style  percentile model_name      mu  sigma     alpha      beta        xd      d_xd  displ_without_aleatory  displ_with_aleatory\n",
       "0       6.75       0.0  normal        0.05       d_ad -0.1425   0.36  0.824482  1.009041  0.720278  0.025012                0.018015             0.013691\n",
       "1       6.75       0.0  normal        0.15       d_ad -0.1425   0.36  0.824482  1.009041  0.720278  0.098627                0.071039             0.055965\n",
       "2       6.75       0.0  normal        0.50       d_ad -0.1425   0.36  0.824482  1.009041  0.720278  0.529333                0.381267             0.354922\n",
       "3       6.75       0.0  normal        0.85       d_ad -0.1425   0.36  0.824482  1.009041  0.720278  1.625788                1.171019             1.526587\n",
       "4       6.75       0.0  normal        0.95       d_ad -0.1425   0.36  0.824482  1.009041  0.720278  2.669693                1.922921             3.234006"
      ]
     },
     "execution_count": 11,
     "metadata": {},
     "output_type": "execute_result"
    }
   ],
   "source": [
    "mag = 6.75\n",
    "locs = np.arange(0, 1.01, 0.01)\n",
    "perc = [0.05, 0.15, 0.5, 0.85, 0.95]\n",
    "models = \"d_ad\"\n",
    "\n",
    "df = run_displacement_model.run_model(\n",
    "    magnitude=mag, location=locs, percentile=perc, submodel=models\n",
    ")\n",
    "\n",
    "df.head()"
   ]
  },
  {
   "cell_type": "code",
   "execution_count": 12,
   "metadata": {},
   "outputs": [
    {
     "data": {
      "text/plain": [
       "Text(0.5, 1.02, 'Magnitude 6.75')"
      ]
     },
     "execution_count": 12,
     "metadata": {},
     "output_type": "execute_result"
    },
    {
     "data": {
      "image/png": "[encoded data removed]",
      "text/plain": [
       "<Figure size 1008x288 with 3 Axes>"
      ]
     },
     "metadata": {
      "needs_background": "light"
     },
     "output_type": "display_data"
    }
   ],
   "source": [
    "lines = {0.05: \":\", 0.95: \":\", 0.15: \"--\", 0.85: \"--\", 0.5: \"-\"}\n",
    "\n",
    "fig, axs = plt.subplots(1, 3, figsize=(14, 4), sharex=True)\n",
    "\n",
    "for p, group in df.groupby([\"percentile\"]):\n",
    "    group = group.sort_values(by=\"location\")\n",
    "    ptile = \"Mean\" if p == -1 else f\"P({int(p*100)})\"\n",
    "    axs[0].semilogy(group[\"location\"], group[\"d_xd\"], c=\"k\", ls=lines[p], label=ptile)\n",
    "    axs[1].semilogy(\n",
    "        group[\"location\"],\n",
    "        group[\"displ_without_aleatory\"],\n",
    "        c=\"k\",\n",
    "        ls=lines[p],\n",
    "        label=ptile,\n",
    "    )\n",
    "    axs[2].semilogy(\n",
    "        group[\"location\"], group[\"displ_with_aleatory\"], c=\"k\", ls=lines[p], label=ptile\n",
    "    )\n",
    "\n",
    "for _ax in axs:\n",
    "    _ax.set(xlabel=\"x/L\", xlim=[0, 0.5], ylim=[0.005, 10])\n",
    "    _ax.legend(loc=\"lower right\")\n",
    "    _ax.yaxis.set_major_formatter(ticker.FormatStrFormatter(\"%g\"))\n",
    "    _ax.tick_params(\n",
    "        axis=\"y\", which=\"both\", right=True, labelright=False, direction=\"in\"\n",
    "    )\n",
    "    _ax.tick_params(axis='both', which='major', length=5)\n",
    "\n",
    "axs[0].set(ylabel=\"D/AD\", title=\"Normalized Displacment\")\n",
    "axs[1].set(ylabel=\"Displ. (m)\", title=\"Partial Aleatory\")\n",
    "axs[2].set(ylabel=\"Displ. (m)\", title=\"Full Aleatory\")\n",
    "\n",
    "axs[0].text(0.05, 0.01, \"Note: Matches Fig. 7b\\nin Youngs et al.\")\n",
    "\n",
    "fig.subplots_adjust(hspace=0.2, wspace=0.3)\n",
    "\n",
    "fig.suptitle(f\"Magnitude {mag}\", y=1.02, fontsize=14)"
   ]
  }
 ],
 "metadata": {
  "kernelspec": {
   "display_name": "fdhi",
   "language": "python",
   "name": "fdhi"
  },
  "language_info": {
   "codemirror_mode": {
    "name": "ipython",
    "version": 3
   },
   "file_extension": ".py",
   "mimetype": "text/x-python",
   "name": "python",
   "nbconvert_exporter": "python",
   "pygments_lexer": "ipython3",
   "version": "3.8.3"
  },
  "toc": {
   "base_numbering": 1,
   "nav_menu": {},
   "number_sections": true,
   "sideBar": true,
   "skip_h1_title": false,
   "title_cell": "Table of Contents",
   "title_sidebar": "Contents",
   "toc_cell": false,
   "toc_position": {
    "height": "calc(100% - 180px)",
    "left": "10px",
    "top": "150px",
    "width": "384px"
   },
   "toc_section_display": true,
   "toc_window_display": true
  }
 },
 "nbformat": 4,
 "nbformat_minor": 4
}
