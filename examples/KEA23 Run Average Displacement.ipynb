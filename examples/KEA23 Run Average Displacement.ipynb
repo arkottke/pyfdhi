{
 "cells": [
  {
   "cell_type": "markdown",
   "metadata": {},
   "source": [
    "# Import libraries"
   ]
  },
  {
   "cell_type": "code",
   "execution_count": 1,
   "metadata": {},
   "outputs": [],
   "source": [
    "import sys\n",
    "from pathlib import Path\n",
    "import matplotlib.pyplot as plt\n",
    "import numpy as np\n",
    "import pandas as pd\n",
    "\n",
    "%matplotlib inline"
   ]
  },
  {
   "cell_type": "markdown",
   "metadata": {},
   "source": [
    "# Import modules"
   ]
  },
  {
   "cell_type": "code",
   "execution_count": 2,
   "metadata": {},
   "outputs": [],
   "source": [
    "# Add path for module\n",
    "# FIXME: shouldn't need this with a package install (`__init__` should suffice?!)\n",
    "MODEL_DIR = Path().resolve().parent / \"KuehnEtAl2023\"\n",
    "sys.path.append(str(MODEL_DIR))\n",
    "\n",
    "import run_average_displacement"
   ]
  },
  {
   "cell_type": "markdown",
   "metadata": {},
   "source": [
    "# View the docstrings"
   ]
  },
  {
   "cell_type": "code",
   "execution_count": 3,
   "metadata": {},
   "outputs": [
    {
     "name": "stdout",
     "output_type": "stream",
     "text": [
      "Help on module run_average_displacement:\n",
      "\n",
      "NAME\n",
      "    run_average_displacement\n",
      "\n",
      "DESCRIPTION\n",
      "    This file runs the KEA23 displacement model to calculate the average displacement that is implied by the model prediction.\n",
      "    - The model-implied Average Displacement is calculated as the area under the mean slip profile.\n",
      "    - The mean model (i.e., mean coefficients) is used.\n",
      "    - The results are returned in a pandas DataFrame.\n",
      "    - Command-line use is supported; try `python run_average_displacement.py --help`\n",
      "    - Module use is supported; try `from run_average_displacement import run_ad`\n",
      "    \n",
      "    # NOTE: This script just calls `run_displacement_profile.py` which in turn calls `run_displacement_model.py`\n",
      "    \n",
      "    Reference: https://doi.org/10.1177/ToBeAssigned\n",
      "\n",
      "FUNCTIONS\n",
      "    main()\n",
      "    \n",
      "    run_ad(*, magnitude: Union[float, int, List[Union[float, int]], numpy.ndarray], style: str) -> pandas.core.frame.DataFrame\n",
      "        Run KEA23 displacement model to calculate the average displacement that is implied by the model\n",
      "        prediction. All parameters must be passed as keyword arguments. The mean model (i.e., mean\n",
      "        coefficients) is used. Only one style of faulting is allowed, but multiple magnitudes are\n",
      "        allowed.\n",
      "        \n",
      "        Parameters\n",
      "        ----------\n",
      "        magnitude : Union[float, list, numpy.ndarray]\n",
      "            Earthquake moment magnitude.\n",
      "        \n",
      "        style : str\n",
      "            Style of faulting (case-insensitive). Valid options are 'strike-slip', 'reverse', or\n",
      "            'normal'. Only one value allowed.\n",
      "        \n",
      "        Returns\n",
      "        -------\n",
      "        pandas.DataFrame\n",
      "            A DataFrame with the following columns:\n",
      "            - 'magnitude': Earthquake moment magnitude [from user input].\n",
      "            - 'style': Style of faulting [from user input].\n",
      "            - 'model_number': Model coefficient row number. Returns -1 for mean model.\n",
      "            - 'avg_displ': Average displacement in meters.\n",
      "        \n",
      "        Raises (inherited from `run_displacement_model.py`)\n",
      "        ------\n",
      "        ValueError\n",
      "            If the provided `style` is not one of the supported styles.\n",
      "        \n",
      "        TypeError\n",
      "            If more than one value is provided for `style`.\n",
      "        \n",
      "        Notes\n",
      "        ------\n",
      "        Command-line interface usage\n",
      "            Run (e.g.) `python run_average_displacement.py --magnitude 5 6 7 --style reverse`\n",
      "            Run `python run_average_displacement.py --help`\n",
      "        \n",
      "        #TODO\n",
      "        ------\n",
      "        Raise a UserWarning for magntiudes outside recommended ranges.\n",
      "\n",
      "DATA\n",
      "    List = typing.List\n",
      "    Union = typing.Union\n",
      "\n",
      "FILE\n",
      "    d:\\documents\\_mydocs\\work fdhi\\team\\journal\\kea23\\kuehnetal2023\\run_average_displacement.py\n",
      "\n",
      "\n"
     ]
    }
   ],
   "source": [
    "help(run_average_displacement)"
   ]
  },
  {
   "cell_type": "markdown",
   "metadata": {},
   "source": [
    "# Run Average Displacement"
   ]
  },
  {
   "cell_type": "markdown",
   "metadata": {},
   "source": [
    "## Single scenarios"
   ]
  },
  {
   "cell_type": "markdown",
   "metadata": {},
   "source": [
    "A single scenario is defined as a magnitude/style. Here is an example (note all parameters must be passed as keyword arguments)."
   ]
  },
  {
   "cell_type": "code",
   "execution_count": 4,
   "metadata": {},
   "outputs": [
    {
     "data": {
      "text/html": [
       "<div>\n",
       "<style scoped>\n",
       "    .dataframe tbody tr th:only-of-type {\n",
       "        vertical-align: middle;\n",
       "    }\n",
       "\n",
       "    .dataframe tbody tr th {\n",
       "        vertical-align: top;\n",
       "    }\n",
       "\n",
       "    .dataframe thead th {\n",
       "        text-align: right;\n",
       "    }\n",
       "</style>\n",
       "<table border=\"1\" class=\"dataframe\">\n",
       "  <thead>\n",
       "    <tr style=\"text-align: right;\">\n",
       "      <th></th>\n",
       "      <th>magnitude</th>\n",
       "      <th>style</th>\n",
       "      <th>model_number</th>\n",
       "      <th>avg_displ</th>\n",
       "    </tr>\n",
       "  </thead>\n",
       "  <tbody>\n",
       "    <tr>\n",
       "      <th>0</th>\n",
       "      <td>7.0</td>\n",
       "      <td>strike-slip</td>\n",
       "      <td>-1</td>\n",
       "      <td>1.447169</td>\n",
       "    </tr>\n",
       "  </tbody>\n",
       "</table>\n",
       "</div>"
      ],
      "text/plain": [
       "   magnitude        style  model_number  avg_displ\n",
       "0        7.0  strike-slip            -1   1.447169"
      ]
     },
     "execution_count": 4,
     "metadata": {},
     "output_type": "execute_result"
    }
   ],
   "source": [
    "df = run_average_displacement.run_ad(magnitude=7, style=\"strike-slip\")\n",
    "df"
   ]
  },
  {
   "cell_type": "code",
   "execution_count": 5,
   "metadata": {},
   "outputs": [
    {
     "data": {
      "text/html": [
       "<div>\n",
       "<style scoped>\n",
       "    .dataframe tbody tr th:only-of-type {\n",
       "        vertical-align: middle;\n",
       "    }\n",
       "\n",
       "    .dataframe tbody tr th {\n",
       "        vertical-align: top;\n",
       "    }\n",
       "\n",
       "    .dataframe thead th {\n",
       "        text-align: right;\n",
       "    }\n",
       "</style>\n",
       "<table border=\"1\" class=\"dataframe\">\n",
       "  <thead>\n",
       "    <tr style=\"text-align: right;\">\n",
       "      <th></th>\n",
       "      <th>magnitude</th>\n",
       "      <th>style</th>\n",
       "      <th>model_number</th>\n",
       "      <th>avg_displ</th>\n",
       "    </tr>\n",
       "  </thead>\n",
       "  <tbody>\n",
       "    <tr>\n",
       "      <th>0</th>\n",
       "      <td>7.0</td>\n",
       "      <td>reverse</td>\n",
       "      <td>-1</td>\n",
       "      <td>1.550645</td>\n",
       "    </tr>\n",
       "  </tbody>\n",
       "</table>\n",
       "</div>"
      ],
      "text/plain": [
       "   magnitude    style  model_number  avg_displ\n",
       "0        7.0  reverse            -1   1.550645"
      ]
     },
     "execution_count": 5,
     "metadata": {},
     "output_type": "execute_result"
    }
   ],
   "source": [
    "df = run_average_displacement.run_ad(magnitude=7, style=\"reverse\")\n",
    "df"
   ]
  },
  {
   "cell_type": "code",
   "execution_count": 6,
   "metadata": {},
   "outputs": [
    {
     "data": {
      "text/html": [
       "<div>\n",
       "<style scoped>\n",
       "    .dataframe tbody tr th:only-of-type {\n",
       "        vertical-align: middle;\n",
       "    }\n",
       "\n",
       "    .dataframe tbody tr th {\n",
       "        vertical-align: top;\n",
       "    }\n",
       "\n",
       "    .dataframe thead th {\n",
       "        text-align: right;\n",
       "    }\n",
       "</style>\n",
       "<table border=\"1\" class=\"dataframe\">\n",
       "  <thead>\n",
       "    <tr style=\"text-align: right;\">\n",
       "      <th></th>\n",
       "      <th>magnitude</th>\n",
       "      <th>style</th>\n",
       "      <th>model_number</th>\n",
       "      <th>avg_displ</th>\n",
       "    </tr>\n",
       "  </thead>\n",
       "  <tbody>\n",
       "    <tr>\n",
       "      <th>0</th>\n",
       "      <td>7.0</td>\n",
       "      <td>normal</td>\n",
       "      <td>-1</td>\n",
       "      <td>1.465161</td>\n",
       "    </tr>\n",
       "  </tbody>\n",
       "</table>\n",
       "</div>"
      ],
      "text/plain": [
       "   magnitude   style  model_number  avg_displ\n",
       "0        7.0  normal            -1   1.465161"
      ]
     },
     "execution_count": 6,
     "metadata": {},
     "output_type": "execute_result"
    }
   ],
   "source": [
    "df = run_average_displacement.run_ad(magnitude=7, style=\"normal\")\n",
    "df"
   ]
  },
  {
   "cell_type": "markdown",
   "metadata": {},
   "source": [
    "## Multiple scenarios"
   ]
  },
  {
   "cell_type": "markdown",
   "metadata": {},
   "source": [
    "Because the profiles are based on the mean model coefficients (this is hard-coded in run_average_displacement.py), multiple mangitudes or percentiles can be run. However, only one style is permitted."
   ]
  },
  {
   "cell_type": "code",
   "execution_count": 7,
   "metadata": {},
   "outputs": [
    {
     "data": {
      "text/html": [
       "<div>\n",
       "<style scoped>\n",
       "    .dataframe tbody tr th:only-of-type {\n",
       "        vertical-align: middle;\n",
       "    }\n",
       "\n",
       "    .dataframe tbody tr th {\n",
       "        vertical-align: top;\n",
       "    }\n",
       "\n",
       "    .dataframe thead th {\n",
       "        text-align: right;\n",
       "    }\n",
       "</style>\n",
       "<table border=\"1\" class=\"dataframe\">\n",
       "  <thead>\n",
       "    <tr style=\"text-align: right;\">\n",
       "      <th></th>\n",
       "      <th>magnitude</th>\n",
       "      <th>style</th>\n",
       "      <th>model_number</th>\n",
       "      <th>avg_displ</th>\n",
       "    </tr>\n",
       "  </thead>\n",
       "  <tbody>\n",
       "    <tr>\n",
       "      <th>0</th>\n",
       "      <td>5.0</td>\n",
       "      <td>reverse</td>\n",
       "      <td>-1</td>\n",
       "      <td>0.148525</td>\n",
       "    </tr>\n",
       "    <tr>\n",
       "      <th>1</th>\n",
       "      <td>6.0</td>\n",
       "      <td>reverse</td>\n",
       "      <td>-1</td>\n",
       "      <td>0.521413</td>\n",
       "    </tr>\n",
       "    <tr>\n",
       "      <th>2</th>\n",
       "      <td>7.0</td>\n",
       "      <td>reverse</td>\n",
       "      <td>-1</td>\n",
       "      <td>1.550645</td>\n",
       "    </tr>\n",
       "    <tr>\n",
       "      <th>3</th>\n",
       "      <td>8.0</td>\n",
       "      <td>reverse</td>\n",
       "      <td>-1</td>\n",
       "      <td>3.663152</td>\n",
       "    </tr>\n",
       "  </tbody>\n",
       "</table>\n",
       "</div>"
      ],
      "text/plain": [
       "   magnitude    style  model_number  avg_displ\n",
       "0        5.0  reverse            -1   0.148525\n",
       "1        6.0  reverse            -1   0.521413\n",
       "2        7.0  reverse            -1   1.550645\n",
       "3        8.0  reverse            -1   3.663152"
      ]
     },
     "execution_count": 7,
     "metadata": {},
     "output_type": "execute_result"
    }
   ],
   "source": [
    "df = run_average_displacement.run_ad(magnitude=[5,6,7,8], style=\"reverse\")\n",
    "df"
   ]
  },
  {
   "cell_type": "code",
   "execution_count": 8,
   "metadata": {},
   "outputs": [
    {
     "name": "stdout",
     "output_type": "stream",
     "text": [
      "Expected a string, got '['strike-slip', 'reverse']', which is a list.(In other words, only one value is allowed; check you have not entered a list or array.)\n"
     ]
    }
   ],
   "source": [
    "try:\n",
    "    results = run_average_displacement.run_ad(magnitude=7, style=[\"strike-slip\", \"reverse\"])\n",
    "except TypeError as e:\n",
    "    print(e)"
   ]
  },
  {
   "cell_type": "markdown",
   "metadata": {},
   "source": [
    "## Create magnitude scaling plots"
   ]
  },
  {
   "cell_type": "code",
   "execution_count": 9,
   "metadata": {},
   "outputs": [
    {
     "name": "stderr",
     "output_type": "stream",
     "text": [
      "D:\\Documents\\_mydocs\\Work FDHI\\TEAM\\Journal\\kea23\\KuehnEtAl2023\\run_displacement_model.py:90: RuntimeWarning: invalid value encountered in power\n",
      "  D_mean = (np.power(lam * mu + 1, 1 / lam)) * (\n"
     ]
    },
    {
     "data": {
      "text/html": [
       "<div>\n",
       "<style scoped>\n",
       "    .dataframe tbody tr th:only-of-type {\n",
       "        vertical-align: middle;\n",
       "    }\n",
       "\n",
       "    .dataframe tbody tr th {\n",
       "        vertical-align: top;\n",
       "    }\n",
       "\n",
       "    .dataframe thead th {\n",
       "        text-align: right;\n",
       "    }\n",
       "</style>\n",
       "<table border=\"1\" class=\"dataframe\">\n",
       "  <thead>\n",
       "    <tr style=\"text-align: right;\">\n",
       "      <th></th>\n",
       "      <th>magnitude</th>\n",
       "      <th>style</th>\n",
       "      <th>model_number</th>\n",
       "      <th>avg_displ</th>\n",
       "    </tr>\n",
       "  </thead>\n",
       "  <tbody>\n",
       "    <tr>\n",
       "      <th>0</th>\n",
       "      <td>5.0</td>\n",
       "      <td>strike-slip</td>\n",
       "      <td>-1</td>\n",
       "      <td>0.000470</td>\n",
       "    </tr>\n",
       "    <tr>\n",
       "      <th>1</th>\n",
       "      <td>5.1</td>\n",
       "      <td>strike-slip</td>\n",
       "      <td>-1</td>\n",
       "      <td>0.001268</td>\n",
       "    </tr>\n",
       "    <tr>\n",
       "      <th>2</th>\n",
       "      <td>5.2</td>\n",
       "      <td>strike-slip</td>\n",
       "      <td>-1</td>\n",
       "      <td>0.002821</td>\n",
       "    </tr>\n",
       "    <tr>\n",
       "      <th>3</th>\n",
       "      <td>5.3</td>\n",
       "      <td>strike-slip</td>\n",
       "      <td>-1</td>\n",
       "      <td>0.005499</td>\n",
       "    </tr>\n",
       "    <tr>\n",
       "      <th>4</th>\n",
       "      <td>5.4</td>\n",
       "      <td>strike-slip</td>\n",
       "      <td>-1</td>\n",
       "      <td>0.009747</td>\n",
       "    </tr>\n",
       "  </tbody>\n",
       "</table>\n",
       "</div>"
      ],
      "text/plain": [
       "   magnitude        style  model_number  avg_displ\n",
       "0        5.0  strike-slip            -1   0.000470\n",
       "1        5.1  strike-slip            -1   0.001268\n",
       "2        5.2  strike-slip            -1   0.002821\n",
       "3        5.3  strike-slip            -1   0.005499\n",
       "4        5.4  strike-slip            -1   0.009747"
      ]
     },
     "execution_count": 9,
     "metadata": {},
     "output_type": "execute_result"
    }
   ],
   "source": [
    "magnitudes = np.arange(5, 8.6, 0.1)\n",
    "\n",
    "df_ss = run_average_displacement.run_ad(magnitude=magnitudes, style=\"strike-slip\")\n",
    "df_rv = run_average_displacement.run_ad(magnitude=magnitudes, style=\"reverse\")\n",
    "df_nm = run_average_displacement.run_ad(magnitude=magnitudes, style=\"normal\")\n",
    "\n",
    "df_ss.to_csv(\"kea23_ss_ad.csv\", index=False)\n",
    "df_rv.to_csv(\"kea23_rv_ad.csv\", index=False)\n",
    "df_nm.to_csv(\"kea23_nm_ad.csv\", index=False)\n",
    "\n",
    "df_ss.head()"
   ]
  },
  {
   "cell_type": "code",
   "execution_count": 10,
   "metadata": {},
   "outputs": [
    {
     "data": {
      "image/png": "[encoded data removed]",
      "text/plain": [
       "<Figure size 576x288 with 1 Axes>"
      ]
     },
     "metadata": {
      "needs_background": "light"
     },
     "output_type": "display_data"
    }
   ],
   "source": [
    "fig, ax = plt.subplots(1, 1, figsize=(8, 4))\n",
    "ax.semilogy(df_ss[\"magnitude\"], df_ss[\"avg_displ\"], label=\"Strike-Slip\")\n",
    "ax.semilogy(df_rv[\"magnitude\"], df_rv[\"avg_displ\"], label=\"Reverse\")\n",
    "ax.semilogy(df_nm[\"magnitude\"], df_nm[\"avg_displ\"], label=\"Normal\")\n",
    "ax.set(\n",
    "    xlabel=\"Magnitude\",\n",
    "    ylabel=\"Average (Aggregated) Displacement (m)\",\n",
    "    title=\"Magnitude Scaling\",\n",
    ")\n",
    "ax.legend(loc=\"lower right\")\n",
    "plt.savefig(\"magnitude_scaling_ad.png\", bbox_inches=\"tight\")"
   ]
  }
 ],
 "metadata": {
  "kernelspec": {
   "display_name": "fdhi",
   "language": "python",
   "name": "fdhi"
  },
  "language_info": {
   "codemirror_mode": {
    "name": "ipython",
    "version": 3
   },
   "file_extension": ".py",
   "mimetype": "text/x-python",
   "name": "python",
   "nbconvert_exporter": "python",
   "pygments_lexer": "ipython3",
   "version": "3.8.3"
  },
  "toc": {
   "base_numbering": 1,
   "nav_menu": {},
   "number_sections": true,
   "sideBar": true,
   "skip_h1_title": false,
   "title_cell": "Table of Contents",
   "title_sidebar": "Contents",
   "toc_cell": false,
   "toc_position": {
    "height": "calc(100% - 180px)",
    "left": "10px",
    "top": "150px",
    "width": "307.2px"
   },
   "toc_section_display": true,
   "toc_window_display": true
  }
 },
 "nbformat": 4,
 "nbformat_minor": 4
}
