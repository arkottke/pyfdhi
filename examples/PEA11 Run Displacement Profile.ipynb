{
 "cells": [
  {
   "cell_type": "markdown",
   "metadata": {},
   "source": [
    "# Import libraries"
   ]
  },
  {
   "cell_type": "code",
   "execution_count": 1,
   "metadata": {},
   "outputs": [],
   "source": [
    "import sys\n",
    "from pathlib import Path\n",
    "import matplotlib.pyplot as plt\n",
    "import numpy as np\n",
    "import pandas as pd\n",
    "\n",
    "%matplotlib inline"
   ]
  },
  {
   "cell_type": "markdown",
   "metadata": {},
   "source": [
    "# Import modules"
   ]
  },
  {
   "cell_type": "code",
   "execution_count": 2,
   "metadata": {},
   "outputs": [],
   "source": [
    "# Add path for module\n",
    "# FIXME: shouldn't need this with a package install (`__init__` should suffice?!)\n",
    "MODEL_DIR = Path().resolve().parent / \"PetersenEtAl2011\"\n",
    "sys.path.append(str(MODEL_DIR))\n",
    "\n",
    "import run_displacement_profile"
   ]
  },
  {
   "cell_type": "markdown",
   "metadata": {},
   "source": [
    "# View the docstrings"
   ]
  },
  {
   "cell_type": "code",
   "execution_count": 3,
   "metadata": {},
   "outputs": [
    {
     "name": "stdout",
     "output_type": "stream",
     "text": [
      "Help on module run_displacement_profile:\n",
      "\n",
      "NAME\n",
      "    run_displacement_profile\n",
      "\n",
      "DESCRIPTION\n",
      "    This file runs the PEA11 principal fault displacement model to create a slip profile.\n",
      "    - Any number of scenarios are allowed (e.g., user can enter multiple magnitudes).\n",
      "    - The results are returned in a pandas DataFrame.\n",
      "    - Only the principal fault displacement models for direct (i.e., not normalized) predictions are\n",
      "    implemented herein currently.\n",
      "    - Command-line use is supported; try `python run_displacement_profile.py --help`\n",
      "    - Module use is supported; try `from run_displacement_profile import run_profile`\n",
      "    \n",
      "    # NOTE: This script just loops over locations in `run_displacement_model.py`\n",
      "    \n",
      "    Reference: https://doi.org/10.1785/0120100035\n",
      "\n",
      "FUNCTIONS\n",
      "    main()\n",
      "    \n",
      "    run_profile(*, magnitude: Union[float, int, List[Union[float, int]], numpy.ndarray], percentile: Union[float, int, List[Union[float, int]], numpy.ndarray], submodel: Union[str, List[str], numpy.ndarray] = 'elliptical', style: Union[str, List[str], numpy.ndarray] = 'strike-slip', location_step: float = 0.05, debug_bilinear_model: bool = False) -> pandas.core.frame.DataFrame\n",
      "        Run PEA11 principal fault displacement model to create slip profile. All parameters must be\n",
      "        passed as keyword arguments. Any number of scenarios (i.e., magnitude inputs, percentile\n",
      "        inputs, etc.) are allowed.\n",
      "        \n",
      "        Parameters\n",
      "        ----------\n",
      "        magnitude : Union[float, list, numpy.ndarray]\n",
      "            Earthquake moment magnitude.\n",
      "        \n",
      "        percentile : Union[float, list, numpy.ndarray]\n",
      "            Aleatory quantile value. Use -1 for mean.\n",
      "        \n",
      "        submodel : Union[str, list, numpy.ndarray], optional\n",
      "            PEA11 shape model name  (case-insensitive). Default is \"elliptical\". Valid options are\n",
      "            \"elliptical\", \"quadratic\", or \"bilinear\".\n",
      "        \n",
      "        style : Union[str, list, numpy.ndarray], optional\n",
      "            Style of faulting (case-insensitive). Default is \"strike-slip\".\n",
      "        \n",
      "        location_step : float, optional\n",
      "            Profile step interval in percentage. Default 0.05.\n",
      "        \n",
      "        debug_bilinear_model : bool, optional\n",
      "            If True, bilinear model will run for any percentile with a UserWarning. If False, bilinear\n",
      "            model results will be dropped for every percentile except median. Default False.\n",
      "        \n",
      "            # NOTE: There is an issue with the bilinear model. The standard deviation changes across\n",
      "            ... l/L' and Figure 5b in PEA11 cannot be reproduced.\n",
      "        \n",
      "        Returns\n",
      "        -------\n",
      "        pandas.DataFrame\n",
      "            A DataFrame with the following columns:\n",
      "            - 'magnitude': Earthquake moment magnitude [from user input].\n",
      "            - 'location':  Normalized location along rupture length [generated from location_step].\n",
      "            - 'style': Style of faulting [from user input].\n",
      "            - 'percentile': Aleatory quantile value [from user input].\n",
      "            - 'model_name': Profile shape model name [from user input].\n",
      "            - 'mu': Natural log transform of mean displacement in cm.\n",
      "            - 'sigma': Standard deviation in same units as `mu`.\n",
      "            - 'displ': Displacement in meters.\n",
      "        \n",
      "        Raises (inherited from `run_displacement_model.py`)\n",
      "        ------\n",
      "        ValueError\n",
      "            If invalid `submodel` is provided.\n",
      "        \n",
      "        Warns  (inherited from `run_displacement_model.py`)\n",
      "        -----\n",
      "        UserWarning\n",
      "            If an unsupported `style` is provided. The user input will be over-ridden with \"strike-slip\".\n",
      "        \n",
      "        Notes\n",
      "        ------\n",
      "        Command-line interface usage\n",
      "            Run (e.g.) `python run_displacement_profile.py --magnitude 7 7.5 --percentile 0.5 -shape bilinear -step 0.01`\n",
      "            Run `python run_displacement_profile.py --help`\n",
      "        \n",
      "        #TODO\n",
      "        ------\n",
      "        Raise a ValueError for invalid location_step size.\n",
      "        Raise a ValueError for invalid percentile.\n",
      "        Raise a UserWarning for magntiudes outside recommended ranges.\n",
      "\n",
      "DATA\n",
      "    List = typing.List\n",
      "    Union = typing.Union\n",
      "\n",
      "FILE\n",
      "    d:\\documents\\_mydocs\\work fdhi\\team\\journal\\kea23\\petersenetal2011\\run_displacement_profile.py\n",
      "\n",
      "\n"
     ]
    }
   ],
   "source": [
    "help(run_displacement_profile)"
   ]
  },
  {
   "cell_type": "markdown",
   "metadata": {},
   "source": [
    "# Run profile"
   ]
  },
  {
   "cell_type": "markdown",
   "metadata": {},
   "source": [
    "## Single scenarios"
   ]
  },
  {
   "cell_type": "markdown",
   "metadata": {},
   "source": [
    "A single scenario is defined as a magnitude/percentile/submodel. The default submodel is the elliptical model. Here is an example (note all parameters must be passed as keyword arguments)."
   ]
  },
  {
   "cell_type": "code",
   "execution_count": 4,
   "metadata": {},
   "outputs": [
    {
     "data": {
      "text/html": [
       "<div>\n",
       "<style scoped>\n",
       "    .dataframe tbody tr th:only-of-type {\n",
       "        vertical-align: middle;\n",
       "    }\n",
       "\n",
       "    .dataframe tbody tr th {\n",
       "        vertical-align: top;\n",
       "    }\n",
       "\n",
       "    .dataframe thead th {\n",
       "        text-align: right;\n",
       "    }\n",
       "</style>\n",
       "<table border=\"1\" class=\"dataframe\">\n",
       "  <thead>\n",
       "    <tr style=\"text-align: right;\">\n",
       "      <th></th>\n",
       "      <th>magnitude</th>\n",
       "      <th>location</th>\n",
       "      <th>style</th>\n",
       "      <th>percentile</th>\n",
       "      <th>model_name</th>\n",
       "      <th>mu</th>\n",
       "      <th>sigma</th>\n",
       "      <th>displ</th>\n",
       "    </tr>\n",
       "  </thead>\n",
       "  <tbody>\n",
       "    <tr>\n",
       "      <th>0</th>\n",
       "      <td>6.8</td>\n",
       "      <td>0.00</td>\n",
       "      <td>strike-slip</td>\n",
       "      <td>0.5</td>\n",
       "      <td>elliptical</td>\n",
       "      <td>0.971160</td>\n",
       "      <td>1.1348</td>\n",
       "      <td>0.026410</td>\n",
       "    </tr>\n",
       "    <tr>\n",
       "      <th>1</th>\n",
       "      <td>6.8</td>\n",
       "      <td>0.05</td>\n",
       "      <td>strike-slip</td>\n",
       "      <td>0.5</td>\n",
       "      <td>elliptical</td>\n",
       "      <td>2.411384</td>\n",
       "      <td>1.1348</td>\n",
       "      <td>0.111494</td>\n",
       "    </tr>\n",
       "    <tr>\n",
       "      <th>2</th>\n",
       "      <td>6.8</td>\n",
       "      <td>0.10</td>\n",
       "      <td>strike-slip</td>\n",
       "      <td>0.5</td>\n",
       "      <td>elliptical</td>\n",
       "      <td>2.953620</td>\n",
       "      <td>1.1348</td>\n",
       "      <td>0.191752</td>\n",
       "    </tr>\n",
       "    <tr>\n",
       "      <th>3</th>\n",
       "      <td>6.8</td>\n",
       "      <td>0.15</td>\n",
       "      <td>strike-slip</td>\n",
       "      <td>0.5</td>\n",
       "      <td>elliptical</td>\n",
       "      <td>3.330759</td>\n",
       "      <td>1.1348</td>\n",
       "      <td>0.279596</td>\n",
       "    </tr>\n",
       "    <tr>\n",
       "      <th>4</th>\n",
       "      <td>6.8</td>\n",
       "      <td>0.20</td>\n",
       "      <td>strike-slip</td>\n",
       "      <td>0.5</td>\n",
       "      <td>elliptical</td>\n",
       "      <td>3.614440</td>\n",
       "      <td>1.1348</td>\n",
       "      <td>0.371305</td>\n",
       "    </tr>\n",
       "  </tbody>\n",
       "</table>\n",
       "</div>"
      ],
      "text/plain": [
       "   magnitude  location        style  percentile  model_name        mu   sigma     displ\n",
       "0        6.8      0.00  strike-slip         0.5  elliptical  0.971160  1.1348  0.026410\n",
       "1        6.8      0.05  strike-slip         0.5  elliptical  2.411384  1.1348  0.111494\n",
       "2        6.8      0.10  strike-slip         0.5  elliptical  2.953620  1.1348  0.191752\n",
       "3        6.8      0.15  strike-slip         0.5  elliptical  3.330759  1.1348  0.279596\n",
       "4        6.8      0.20  strike-slip         0.5  elliptical  3.614440  1.1348  0.371305"
      ]
     },
     "execution_count": 4,
     "metadata": {},
     "output_type": "execute_result"
    }
   ],
   "source": [
    "mag, perc = 6.8, 0.5\n",
    "\n",
    "results = run_displacement_profile.run_profile(magnitude=mag, percentile=perc)\n",
    "\n",
    "results.head()"
   ]
  },
  {
   "cell_type": "markdown",
   "metadata": {},
   "source": [
    "The default location spacing is 0.05, but it can be changed with `location_step=0.01`, for example:"
   ]
  },
  {
   "cell_type": "code",
   "execution_count": 5,
   "metadata": {},
   "outputs": [
    {
     "data": {
      "text/html": [
       "<div>\n",
       "<style scoped>\n",
       "    .dataframe tbody tr th:only-of-type {\n",
       "        vertical-align: middle;\n",
       "    }\n",
       "\n",
       "    .dataframe tbody tr th {\n",
       "        vertical-align: top;\n",
       "    }\n",
       "\n",
       "    .dataframe thead th {\n",
       "        text-align: right;\n",
       "    }\n",
       "</style>\n",
       "<table border=\"1\" class=\"dataframe\">\n",
       "  <thead>\n",
       "    <tr style=\"text-align: right;\">\n",
       "      <th></th>\n",
       "      <th>magnitude</th>\n",
       "      <th>location</th>\n",
       "      <th>style</th>\n",
       "      <th>percentile</th>\n",
       "      <th>model_name</th>\n",
       "      <th>mu</th>\n",
       "      <th>sigma</th>\n",
       "      <th>displ</th>\n",
       "    </tr>\n",
       "  </thead>\n",
       "  <tbody>\n",
       "    <tr>\n",
       "      <th>0</th>\n",
       "      <td>6.8</td>\n",
       "      <td>0.00</td>\n",
       "      <td>strike-slip</td>\n",
       "      <td>0.5</td>\n",
       "      <td>elliptical</td>\n",
       "      <td>0.971160</td>\n",
       "      <td>1.1348</td>\n",
       "      <td>0.026410</td>\n",
       "    </tr>\n",
       "    <tr>\n",
       "      <th>1</th>\n",
       "      <td>6.8</td>\n",
       "      <td>0.01</td>\n",
       "      <td>strike-slip</td>\n",
       "      <td>0.5</td>\n",
       "      <td>elliptical</td>\n",
       "      <td>1.628668</td>\n",
       "      <td>1.1348</td>\n",
       "      <td>0.050971</td>\n",
       "    </tr>\n",
       "    <tr>\n",
       "      <th>2</th>\n",
       "      <td>6.8</td>\n",
       "      <td>0.02</td>\n",
       "      <td>strike-slip</td>\n",
       "      <td>0.5</td>\n",
       "      <td>elliptical</td>\n",
       "      <td>1.896308</td>\n",
       "      <td>1.1348</td>\n",
       "      <td>0.066613</td>\n",
       "    </tr>\n",
       "    <tr>\n",
       "      <th>3</th>\n",
       "      <td>6.8</td>\n",
       "      <td>0.03</td>\n",
       "      <td>strike-slip</td>\n",
       "      <td>0.5</td>\n",
       "      <td>elliptical</td>\n",
       "      <td>2.098434</td>\n",
       "      <td>1.1348</td>\n",
       "      <td>0.081534</td>\n",
       "    </tr>\n",
       "    <tr>\n",
       "      <th>4</th>\n",
       "      <td>6.8</td>\n",
       "      <td>0.04</td>\n",
       "      <td>strike-slip</td>\n",
       "      <td>0.5</td>\n",
       "      <td>elliptical</td>\n",
       "      <td>2.266097</td>\n",
       "      <td>1.1348</td>\n",
       "      <td>0.096417</td>\n",
       "    </tr>\n",
       "  </tbody>\n",
       "</table>\n",
       "</div>"
      ],
      "text/plain": [
       "   magnitude  location        style  percentile  model_name        mu   sigma     displ\n",
       "0        6.8      0.00  strike-slip         0.5  elliptical  0.971160  1.1348  0.026410\n",
       "1        6.8      0.01  strike-slip         0.5  elliptical  1.628668  1.1348  0.050971\n",
       "2        6.8      0.02  strike-slip         0.5  elliptical  1.896308  1.1348  0.066613\n",
       "3        6.8      0.03  strike-slip         0.5  elliptical  2.098434  1.1348  0.081534\n",
       "4        6.8      0.04  strike-slip         0.5  elliptical  2.266097  1.1348  0.096417"
      ]
     },
     "execution_count": 5,
     "metadata": {},
     "output_type": "execute_result"
    }
   ],
   "source": [
    "results = run_displacement_profile.run_profile(magnitude=mag, percentile=perc, location_step=0.01)\n",
    "\n",
    "results.head()"
   ]
  },
  {
   "cell_type": "markdown",
   "metadata": {},
   "source": [
    "And the profile can be plotted:"
   ]
  },
  {
   "cell_type": "code",
   "execution_count": 6,
   "metadata": {},
   "outputs": [
    {
     "data": {
      "image/png": "[encoded data removed]",
      "text/plain": [
       "<Figure size 720x288 with 1 Axes>"
      ]
     },
     "metadata": {
      "needs_background": "light"
     },
     "output_type": "display_data"
    }
   ],
   "source": [
    "fig, ax = plt.subplots(1, 1, figsize=(10, 4))\n",
    "x, y = results[\"location\"], results[\"displ\"]\n",
    "ax.plot(x, y, label=results[\"model_name\"].iloc[0])\n",
    "title = f\"Magnitude {mag}, Percentile={perc}\"\n",
    "ax.set(xlabel=\"x/L\", ylabel=\"Principal Displacement (m)\", title=title)\n",
    "ax.legend(loc=\"best\");"
   ]
  },
  {
   "cell_type": "markdown",
   "metadata": {},
   "source": [
    "This model should only be used for strike-slip faulting. That is the default style. A `UserWarning` will be issued and the user input will be over-ridden in the output table if another style is entered, such as `style=\"reverse\"`:"
   ]
  },
  {
   "cell_type": "code",
   "execution_count": 7,
   "metadata": {},
   "outputs": [
    {
     "name": "stderr",
     "output_type": "stream",
     "text": [
      "D:\\Documents\\_mydocs\\Work FDHI\\TEAM\\Journal\\kea23\\PetersenEtAl2011\\run_displacement_model.py:172: UserWarning: This model is only recommended for strike-slip faulting, but 'normal' was entered.User input will be over-ridden.\n",
      "  warnings.warn(\n"
     ]
    },
    {
     "data": {
      "text/html": [
       "<div>\n",
       "<style scoped>\n",
       "    .dataframe tbody tr th:only-of-type {\n",
       "        vertical-align: middle;\n",
       "    }\n",
       "\n",
       "    .dataframe tbody tr th {\n",
       "        vertical-align: top;\n",
       "    }\n",
       "\n",
       "    .dataframe thead th {\n",
       "        text-align: right;\n",
       "    }\n",
       "</style>\n",
       "<table border=\"1\" class=\"dataframe\">\n",
       "  <thead>\n",
       "    <tr style=\"text-align: right;\">\n",
       "      <th></th>\n",
       "      <th>magnitude</th>\n",
       "      <th>location</th>\n",
       "      <th>style</th>\n",
       "      <th>percentile</th>\n",
       "      <th>model_name</th>\n",
       "      <th>mu</th>\n",
       "      <th>sigma</th>\n",
       "      <th>displ</th>\n",
       "    </tr>\n",
       "  </thead>\n",
       "  <tbody>\n",
       "    <tr>\n",
       "      <th>0</th>\n",
       "      <td>6.8</td>\n",
       "      <td>0.00</td>\n",
       "      <td>strike-slip</td>\n",
       "      <td>0.5</td>\n",
       "      <td>elliptical</td>\n",
       "      <td>0.971160</td>\n",
       "      <td>1.1348</td>\n",
       "      <td>0.026410</td>\n",
       "    </tr>\n",
       "    <tr>\n",
       "      <th>1</th>\n",
       "      <td>6.8</td>\n",
       "      <td>0.05</td>\n",
       "      <td>strike-slip</td>\n",
       "      <td>0.5</td>\n",
       "      <td>elliptical</td>\n",
       "      <td>2.411384</td>\n",
       "      <td>1.1348</td>\n",
       "      <td>0.111494</td>\n",
       "    </tr>\n",
       "    <tr>\n",
       "      <th>2</th>\n",
       "      <td>6.8</td>\n",
       "      <td>0.10</td>\n",
       "      <td>strike-slip</td>\n",
       "      <td>0.5</td>\n",
       "      <td>elliptical</td>\n",
       "      <td>2.953620</td>\n",
       "      <td>1.1348</td>\n",
       "      <td>0.191752</td>\n",
       "    </tr>\n",
       "    <tr>\n",
       "      <th>3</th>\n",
       "      <td>6.8</td>\n",
       "      <td>0.15</td>\n",
       "      <td>strike-slip</td>\n",
       "      <td>0.5</td>\n",
       "      <td>elliptical</td>\n",
       "      <td>3.330759</td>\n",
       "      <td>1.1348</td>\n",
       "      <td>0.279596</td>\n",
       "    </tr>\n",
       "    <tr>\n",
       "      <th>4</th>\n",
       "      <td>6.8</td>\n",
       "      <td>0.20</td>\n",
       "      <td>strike-slip</td>\n",
       "      <td>0.5</td>\n",
       "      <td>elliptical</td>\n",
       "      <td>3.614440</td>\n",
       "      <td>1.1348</td>\n",
       "      <td>0.371305</td>\n",
       "    </tr>\n",
       "  </tbody>\n",
       "</table>\n",
       "</div>"
      ],
      "text/plain": [
       "   magnitude  location        style  percentile  model_name        mu   sigma     displ\n",
       "0        6.8      0.00  strike-slip         0.5  elliptical  0.971160  1.1348  0.026410\n",
       "1        6.8      0.05  strike-slip         0.5  elliptical  2.411384  1.1348  0.111494\n",
       "2        6.8      0.10  strike-slip         0.5  elliptical  2.953620  1.1348  0.191752\n",
       "3        6.8      0.15  strike-slip         0.5  elliptical  3.330759  1.1348  0.279596\n",
       "4        6.8      0.20  strike-slip         0.5  elliptical  3.614440  1.1348  0.371305"
      ]
     },
     "execution_count": 7,
     "metadata": {},
     "output_type": "execute_result"
    }
   ],
   "source": [
    "results = run_displacement_profile.run_profile(magnitude=mag, percentile=perc, style=\"normal\")\n",
    "\n",
    "results.head()"
   ]
  },
  {
   "cell_type": "markdown",
   "metadata": {},
   "source": [
    "The Petersen et al. (2011) model provides three alternative submodels for different profile shapes. The default is the elliptical model, but the user can choose other options, such as `submodel=\"quadratic\"`. An error results if the wrong submodel is entered:"
   ]
  },
  {
   "cell_type": "code",
   "execution_count": 8,
   "metadata": {},
   "outputs": [
    {
     "name": "stdout",
     "output_type": "stream",
     "text": [
      "Invalid submodel names: ['meow']. Supported submodels are ['elliptical', 'quadratic', 'bilinear'].\n"
     ]
    }
   ],
   "source": [
    "try:\n",
    "    results = run_displacement_profile.run_profile(magnitude=mag, percentile=perc, submodel=\"meow\")\n",
    "except ValueError as e:\n",
    "    print(e)"
   ]
  },
  {
   "cell_type": "code",
   "execution_count": 9,
   "metadata": {},
   "outputs": [],
   "source": [
    "del mag, perc"
   ]
  },
  {
   "cell_type": "markdown",
   "metadata": {},
   "source": [
    "## Multiple scenarios"
   ]
  },
  {
   "cell_type": "markdown",
   "metadata": {},
   "source": [
    "Multiple magnitude/percentile/submodel scenarios can be run. All combinations of magnitudes, percentiles, and submodels are run. Here is an example."
   ]
  },
  {
   "cell_type": "code",
   "execution_count": 10,
   "metadata": {},
   "outputs": [
    {
     "data": {
      "text/html": [
       "<div>\n",
       "<style scoped>\n",
       "    .dataframe tbody tr th:only-of-type {\n",
       "        vertical-align: middle;\n",
       "    }\n",
       "\n",
       "    .dataframe tbody tr th {\n",
       "        vertical-align: top;\n",
       "    }\n",
       "\n",
       "    .dataframe thead th {\n",
       "        text-align: right;\n",
       "    }\n",
       "</style>\n",
       "<table border=\"1\" class=\"dataframe\">\n",
       "  <thead>\n",
       "    <tr style=\"text-align: right;\">\n",
       "      <th></th>\n",
       "      <th>magnitude</th>\n",
       "      <th>location</th>\n",
       "      <th>style</th>\n",
       "      <th>percentile</th>\n",
       "      <th>model_name</th>\n",
       "      <th>mu</th>\n",
       "      <th>sigma</th>\n",
       "      <th>displ</th>\n",
       "    </tr>\n",
       "  </thead>\n",
       "  <tbody>\n",
       "    <tr>\n",
       "      <th>0</th>\n",
       "      <td>6.0</td>\n",
       "      <td>0.00</td>\n",
       "      <td>strike-slip</td>\n",
       "      <td>0.5</td>\n",
       "      <td>elliptical</td>\n",
       "      <td>-0.463000</td>\n",
       "      <td>1.1348</td>\n",
       "      <td>0.006294</td>\n",
       "    </tr>\n",
       "    <tr>\n",
       "      <th>1</th>\n",
       "      <td>6.0</td>\n",
       "      <td>0.05</td>\n",
       "      <td>strike-slip</td>\n",
       "      <td>0.5</td>\n",
       "      <td>elliptical</td>\n",
       "      <td>0.977224</td>\n",
       "      <td>1.1348</td>\n",
       "      <td>0.026571</td>\n",
       "    </tr>\n",
       "    <tr>\n",
       "      <th>2</th>\n",
       "      <td>6.0</td>\n",
       "      <td>0.10</td>\n",
       "      <td>strike-slip</td>\n",
       "      <td>0.5</td>\n",
       "      <td>elliptical</td>\n",
       "      <td>1.519460</td>\n",
       "      <td>1.1348</td>\n",
       "      <td>0.045698</td>\n",
       "    </tr>\n",
       "    <tr>\n",
       "      <th>3</th>\n",
       "      <td>6.0</td>\n",
       "      <td>0.15</td>\n",
       "      <td>strike-slip</td>\n",
       "      <td>0.5</td>\n",
       "      <td>elliptical</td>\n",
       "      <td>1.896599</td>\n",
       "      <td>1.1348</td>\n",
       "      <td>0.066632</td>\n",
       "    </tr>\n",
       "    <tr>\n",
       "      <th>4</th>\n",
       "      <td>6.0</td>\n",
       "      <td>0.20</td>\n",
       "      <td>strike-slip</td>\n",
       "      <td>0.5</td>\n",
       "      <td>elliptical</td>\n",
       "      <td>2.180280</td>\n",
       "      <td>1.1348</td>\n",
       "      <td>0.088488</td>\n",
       "    </tr>\n",
       "  </tbody>\n",
       "</table>\n",
       "</div>"
      ],
      "text/plain": [
       "   magnitude  location        style  percentile  model_name        mu   sigma     displ\n",
       "0        6.0      0.00  strike-slip         0.5  elliptical -0.463000  1.1348  0.006294\n",
       "1        6.0      0.05  strike-slip         0.5  elliptical  0.977224  1.1348  0.026571\n",
       "2        6.0      0.10  strike-slip         0.5  elliptical  1.519460  1.1348  0.045698\n",
       "3        6.0      0.15  strike-slip         0.5  elliptical  1.896599  1.1348  0.066632\n",
       "4        6.0      0.20  strike-slip         0.5  elliptical  2.180280  1.1348  0.088488"
      ]
     },
     "metadata": {},
     "output_type": "display_data"
    },
    {
     "data": {
      "text/html": [
       "<div>\n",
       "<style scoped>\n",
       "    .dataframe tbody tr th:only-of-type {\n",
       "        vertical-align: middle;\n",
       "    }\n",
       "\n",
       "    .dataframe tbody tr th {\n",
       "        vertical-align: top;\n",
       "    }\n",
       "\n",
       "    .dataframe thead th {\n",
       "        text-align: right;\n",
       "    }\n",
       "</style>\n",
       "<table border=\"1\" class=\"dataframe\">\n",
       "  <thead>\n",
       "    <tr style=\"text-align: right;\">\n",
       "      <th></th>\n",
       "      <th>magnitude</th>\n",
       "      <th>location</th>\n",
       "      <th>style</th>\n",
       "      <th>percentile</th>\n",
       "      <th>model_name</th>\n",
       "      <th>mu</th>\n",
       "      <th>sigma</th>\n",
       "      <th>displ</th>\n",
       "    </tr>\n",
       "  </thead>\n",
       "  <tbody>\n",
       "    <tr>\n",
       "      <th>100</th>\n",
       "      <td>8.0</td>\n",
       "      <td>0.80</td>\n",
       "      <td>strike-slip</td>\n",
       "      <td>0.5</td>\n",
       "      <td>elliptical</td>\n",
       "      <td>5.765680</td>\n",
       "      <td>1.1348</td>\n",
       "      <td>3.191560</td>\n",
       "    </tr>\n",
       "    <tr>\n",
       "      <th>101</th>\n",
       "      <td>8.0</td>\n",
       "      <td>0.85</td>\n",
       "      <td>strike-slip</td>\n",
       "      <td>0.5</td>\n",
       "      <td>elliptical</td>\n",
       "      <td>5.481999</td>\n",
       "      <td>1.1348</td>\n",
       "      <td>2.403267</td>\n",
       "    </tr>\n",
       "    <tr>\n",
       "      <th>102</th>\n",
       "      <td>8.0</td>\n",
       "      <td>0.90</td>\n",
       "      <td>strike-slip</td>\n",
       "      <td>0.5</td>\n",
       "      <td>elliptical</td>\n",
       "      <td>5.104860</td>\n",
       "      <td>1.1348</td>\n",
       "      <td>1.648210</td>\n",
       "    </tr>\n",
       "    <tr>\n",
       "      <th>103</th>\n",
       "      <td>8.0</td>\n",
       "      <td>0.95</td>\n",
       "      <td>strike-slip</td>\n",
       "      <td>0.5</td>\n",
       "      <td>elliptical</td>\n",
       "      <td>4.562624</td>\n",
       "      <td>1.1348</td>\n",
       "      <td>0.958346</td>\n",
       "    </tr>\n",
       "    <tr>\n",
       "      <th>104</th>\n",
       "      <td>8.0</td>\n",
       "      <td>1.00</td>\n",
       "      <td>strike-slip</td>\n",
       "      <td>0.5</td>\n",
       "      <td>elliptical</td>\n",
       "      <td>3.122400</td>\n",
       "      <td>1.1348</td>\n",
       "      <td>0.227008</td>\n",
       "    </tr>\n",
       "  </tbody>\n",
       "</table>\n",
       "</div>"
      ],
      "text/plain": [
       "     magnitude  location        style  percentile  model_name        mu   sigma     displ\n",
       "100        8.0      0.80  strike-slip         0.5  elliptical  5.765680  1.1348  3.191560\n",
       "101        8.0      0.85  strike-slip         0.5  elliptical  5.481999  1.1348  2.403267\n",
       "102        8.0      0.90  strike-slip         0.5  elliptical  5.104860  1.1348  1.648210\n",
       "103        8.0      0.95  strike-slip         0.5  elliptical  4.562624  1.1348  0.958346\n",
       "104        8.0      1.00  strike-slip         0.5  elliptical  3.122400  1.1348  0.227008"
      ]
     },
     "metadata": {},
     "output_type": "display_data"
    }
   ],
   "source": [
    "mags, perc, shape = [6, 6.5, 7, 7.5, 8], 0.5, \"Elliptical\"\n",
    "\n",
    "results = run_displacement_profile.run_profile(magnitude=mags, percentile=perc, submodel=shape)\n",
    "\n",
    "display(results.head())\n",
    "display(results.tail())"
   ]
  },
  {
   "cell_type": "markdown",
   "metadata": {},
   "source": [
    "And we can plot the different scenarios:"
   ]
  },
  {
   "cell_type": "code",
   "execution_count": 11,
   "metadata": {},
   "outputs": [
    {
     "data": {
      "image/png": "[encoded data removed]",
      "text/plain": [
       "<Figure size 720x288 with 1 Axes>"
      ]
     },
     "metadata": {
      "needs_background": "light"
     },
     "output_type": "display_data"
    }
   ],
   "source": [
    "fig, ax = plt.subplots(1, 1, figsize=(10, 4))\n",
    "\n",
    "for m, group in results.groupby([\"magnitude\"]):\n",
    "    x, y = group[\"location\"], group[\"displ\"]\n",
    "    label = f\"Mag {m}\"\n",
    "    ax.plot(x, y, label=label)\n",
    "\n",
    "ptile = \"Mean\" if perc == -1 else f\"P({int(perc*100)})\"\n",
    "title = f\"Elliptical shape, {ptile}\"\n",
    "ax.set(xlabel=\"x/L\", ylabel=\"Principal Displacement (m)\", title=title)\n",
    "ax.legend(loc=\"best\");"
   ]
  },
  {
   "cell_type": "markdown",
   "metadata": {},
   "source": [
    "## *** #FIXME: Bilinear model"
   ]
  },
  {
   "cell_type": "markdown",
   "metadata": {},
   "source": [
    "There is a problem with how the bilinear model is currently implemented for anything except the median (50th percentile). The standard deviation changes across $l/L$ and Figure 5b in PEA11 cannot be reproduced. \n",
    "\n",
    "By default, values that are not the median will be dropped from the results; however, this can be over-ridden for debugging purposes with `debug_bilinear_model=True`:"
   ]
  },
  {
   "cell_type": "code",
   "execution_count": 12,
   "metadata": {},
   "outputs": [
    {
     "name": "stderr",
     "output_type": "stream",
     "text": [
      "D:\\Documents\\_mydocs\\Work FDHI\\TEAM\\Journal\\kea23\\PetersenEtAl2011\\run_displacement_model.py:252: UserWarning: #FIXME: Don't use the bilinear model for anything except median 50th percentile; current code does not reproduce Fig 5b in P11.\n",
      "  warnings.warn(\n"
     ]
    }
   ],
   "source": [
    "mags, perc, shape, step = 7, [0.5, 0.84], \"bilinear\", 0.01\n",
    "\n",
    "results = run_displacement_profile.run_profile(\n",
    "    magnitude=mags,\n",
    "    percentile=perc,\n",
    "    submodel=shape,\n",
    "    location_step=step,\n",
    "    debug_bilinear_model=True,\n",
    ")"
   ]
  },
  {
   "cell_type": "code",
   "execution_count": 13,
   "metadata": {},
   "outputs": [
    {
     "data": {
      "image/png": "[encoded data removed]",
      "text/plain": [
       "<Figure size 1008x288 with 2 Axes>"
      ]
     },
     "metadata": {
      "needs_background": "light"
     },
     "output_type": "display_data"
    }
   ],
   "source": [
    "fig, [ax1, ax2] = plt.subplots(1, 2, figsize=(14, 4))\n",
    "\n",
    "for p, group in results.groupby([\"percentile\"]):\n",
    "    x, y = group[\"location\"], group[\"displ\"]\n",
    "    label = \"Mean\" if p == -1 else f\"P({int(p*100)})\"\n",
    "    ax1.plot(x, y, label=label)\n",
    "    ax2.semilogy(x, y, label=label)\n",
    "\n",
    "for _ax in [ax1, ax2]:\n",
    "    _ax.set(xlabel=\"x/L\", ylabel=\"Principal Displacement (m)\")\n",
    "    _ax.legend(loc=\"best\")\n",
    "\n",
    "title = \"Demonstration of current issue with bilinear model implementation; #FIXME\"\n",
    "fig.suptitle(title);"
   ]
  }
 ],
 "metadata": {
  "kernelspec": {
   "display_name": "fdhi",
   "language": "python",
   "name": "fdhi"
  },
  "language_info": {
   "codemirror_mode": {
    "name": "ipython",
    "version": 3
   },
   "file_extension": ".py",
   "mimetype": "text/x-python",
   "name": "python",
   "nbconvert_exporter": "python",
   "pygments_lexer": "ipython3",
   "version": "3.8.3"
  },
  "toc": {
   "base_numbering": 1,
   "nav_menu": {},
   "number_sections": true,
   "sideBar": true,
   "skip_h1_title": false,
   "title_cell": "Table of Contents",
   "title_sidebar": "Contents",
   "toc_cell": false,
   "toc_position": {},
   "toc_section_display": true,
   "toc_window_display": true
  }
 },
 "nbformat": 4,
 "nbformat_minor": 4
}
