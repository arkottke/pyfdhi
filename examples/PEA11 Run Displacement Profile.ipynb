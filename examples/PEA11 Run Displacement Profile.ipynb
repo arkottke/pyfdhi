{
 "cells": [
  {
   "cell_type": "markdown",
   "metadata": {},
   "source": [
    "# Import libraries"
   ]
  },
  {
   "cell_type": "code",
   "execution_count": 1,
   "metadata": {},
   "outputs": [],
   "source": [
    "import sys\n",
    "from pathlib import Path\n",
    "import matplotlib.pyplot as plt\n",
    "import numpy as np\n",
    "import pandas as pd\n",
    "\n",
    "%matplotlib inline"
   ]
  },
  {
   "cell_type": "markdown",
   "metadata": {},
   "source": [
    "# Import modules"
   ]
  },
  {
   "cell_type": "code",
   "execution_count": 2,
   "metadata": {},
   "outputs": [],
   "source": [
    "# Add path for module\n",
    "# FIXME: shouldn't need this with a package install (`__init__` should suffice)\n",
    "SCRIPT_DIR = Path().resolve().parent\n",
    "sys.path.append(str(SCRIPT_DIR))\n",
    "\n",
    "from PetersenEtAl2011 import run_displacement_profile"
   ]
  },
  {
   "cell_type": "markdown",
   "metadata": {},
   "source": [
    "# Run profile"
   ]
  },
  {
   "cell_type": "markdown",
   "metadata": {},
   "source": [
    "## Quadratic"
   ]
  },
  {
   "cell_type": "markdown",
   "metadata": {},
   "source": [
    "### Default spacing for plotting"
   ]
  },
  {
   "cell_type": "code",
   "execution_count": 3,
   "metadata": {},
   "outputs": [
    {
     "data": {
      "text/html": [
       "<div>\n",
       "<style scoped>\n",
       "    .dataframe tbody tr th:only-of-type {\n",
       "        vertical-align: middle;\n",
       "    }\n",
       "\n",
       "    .dataframe tbody tr th {\n",
       "        vertical-align: top;\n",
       "    }\n",
       "\n",
       "    .dataframe thead th {\n",
       "        text-align: right;\n",
       "    }\n",
       "</style>\n",
       "<table border=\"1\" class=\"dataframe\">\n",
       "  <thead>\n",
       "    <tr style=\"text-align: right;\">\n",
       "      <th></th>\n",
       "      <th>magnitude</th>\n",
       "      <th>location</th>\n",
       "      <th>style</th>\n",
       "      <th>percentile</th>\n",
       "      <th>model_name</th>\n",
       "      <th>mu</th>\n",
       "      <th>sigma</th>\n",
       "      <th>displ</th>\n",
       "    </tr>\n",
       "  </thead>\n",
       "  <tbody>\n",
       "    <tr>\n",
       "      <th>0</th>\n",
       "      <td>6.8</td>\n",
       "      <td>0.00</td>\n",
       "      <td>strike-slip</td>\n",
       "      <td>0.5</td>\n",
       "      <td>quadratic</td>\n",
       "      <td>1.623480</td>\n",
       "      <td>1.1346</td>\n",
       "      <td>0.050707</td>\n",
       "    </tr>\n",
       "    <tr>\n",
       "      <th>1</th>\n",
       "      <td>6.8</td>\n",
       "      <td>0.05</td>\n",
       "      <td>strike-slip</td>\n",
       "      <td>0.5</td>\n",
       "      <td>quadratic</td>\n",
       "      <td>2.296529</td>\n",
       "      <td>1.1346</td>\n",
       "      <td>0.099396</td>\n",
       "    </tr>\n",
       "    <tr>\n",
       "      <th>2</th>\n",
       "      <td>6.8</td>\n",
       "      <td>0.10</td>\n",
       "      <td>strike-slip</td>\n",
       "      <td>0.5</td>\n",
       "      <td>quadratic</td>\n",
       "      <td>2.868717</td>\n",
       "      <td>1.1346</td>\n",
       "      <td>0.176144</td>\n",
       "    </tr>\n",
       "    <tr>\n",
       "      <th>3</th>\n",
       "      <td>6.8</td>\n",
       "      <td>0.15</td>\n",
       "      <td>strike-slip</td>\n",
       "      <td>0.5</td>\n",
       "      <td>quadratic</td>\n",
       "      <td>3.340043</td>\n",
       "      <td>1.1346</td>\n",
       "      <td>0.282203</td>\n",
       "    </tr>\n",
       "    <tr>\n",
       "      <th>4</th>\n",
       "      <td>6.8</td>\n",
       "      <td>0.20</td>\n",
       "      <td>strike-slip</td>\n",
       "      <td>0.5</td>\n",
       "      <td>quadratic</td>\n",
       "      <td>3.710508</td>\n",
       "      <td>1.1346</td>\n",
       "      <td>0.408746</td>\n",
       "    </tr>\n",
       "  </tbody>\n",
       "</table>\n",
       "</div>"
      ],
      "text/plain": [
       "   magnitude  location        style  percentile model_name        mu   sigma     displ\n",
       "0        6.8      0.00  strike-slip         0.5  quadratic  1.623480  1.1346  0.050707\n",
       "1        6.8      0.05  strike-slip         0.5  quadratic  2.296529  1.1346  0.099396\n",
       "2        6.8      0.10  strike-slip         0.5  quadratic  2.868717  1.1346  0.176144\n",
       "3        6.8      0.15  strike-slip         0.5  quadratic  3.340043  1.1346  0.282203\n",
       "4        6.8      0.20  strike-slip         0.5  quadratic  3.710508  1.1346  0.408746"
      ]
     },
     "execution_count": 3,
     "metadata": {},
     "output_type": "execute_result"
    }
   ],
   "source": [
    "magnitude, percentile, submodel = 6.8, 0.5, \"quadratic\"\n",
    "\n",
    "df = run_displacement_profile.run_profile(\n",
    "    magnitude=magnitude, percentile=percentile, submodel=submodel\n",
    ")\n",
    "\n",
    "df.head()"
   ]
  },
  {
   "cell_type": "markdown",
   "metadata": {},
   "source": [
    "### Check concept for AD calc"
   ]
  },
  {
   "cell_type": "code",
   "execution_count": 4,
   "metadata": {},
   "outputs": [
    {
     "data": {
      "text/html": [
       "<div>\n",
       "<style scoped>\n",
       "    .dataframe tbody tr th:only-of-type {\n",
       "        vertical-align: middle;\n",
       "    }\n",
       "\n",
       "    .dataframe tbody tr th {\n",
       "        vertical-align: top;\n",
       "    }\n",
       "\n",
       "    .dataframe thead th {\n",
       "        text-align: right;\n",
       "    }\n",
       "</style>\n",
       "<table border=\"1\" class=\"dataframe\">\n",
       "  <thead>\n",
       "    <tr style=\"text-align: right;\">\n",
       "      <th></th>\n",
       "      <th>magnitude</th>\n",
       "      <th>location</th>\n",
       "      <th>style</th>\n",
       "      <th>percentile</th>\n",
       "      <th>model_name</th>\n",
       "      <th>mu</th>\n",
       "      <th>sigma</th>\n",
       "      <th>displ</th>\n",
       "    </tr>\n",
       "  </thead>\n",
       "  <tbody>\n",
       "    <tr>\n",
       "      <th>0</th>\n",
       "      <td>6.8</td>\n",
       "      <td>0.00</td>\n",
       "      <td>strike-slip</td>\n",
       "      <td>-1.0</td>\n",
       "      <td>quadratic</td>\n",
       "      <td>1.623480</td>\n",
       "      <td>1.1346</td>\n",
       "      <td>0.096517</td>\n",
       "    </tr>\n",
       "    <tr>\n",
       "      <th>1</th>\n",
       "      <td>6.8</td>\n",
       "      <td>0.01</td>\n",
       "      <td>strike-slip</td>\n",
       "      <td>-1.0</td>\n",
       "      <td>quadratic</td>\n",
       "      <td>1.766159</td>\n",
       "      <td>1.1346</td>\n",
       "      <td>0.111319</td>\n",
       "    </tr>\n",
       "    <tr>\n",
       "      <th>2</th>\n",
       "      <td>6.8</td>\n",
       "      <td>0.02</td>\n",
       "      <td>strike-slip</td>\n",
       "      <td>-1.0</td>\n",
       "      <td>quadratic</td>\n",
       "      <td>1.904803</td>\n",
       "      <td>1.1346</td>\n",
       "      <td>0.127874</td>\n",
       "    </tr>\n",
       "    <tr>\n",
       "      <th>3</th>\n",
       "      <td>6.8</td>\n",
       "      <td>0.03</td>\n",
       "      <td>strike-slip</td>\n",
       "      <td>-1.0</td>\n",
       "      <td>quadratic</td>\n",
       "      <td>2.039413</td>\n",
       "      <td>1.1346</td>\n",
       "      <td>0.146300</td>\n",
       "    </tr>\n",
       "    <tr>\n",
       "      <th>4</th>\n",
       "      <td>6.8</td>\n",
       "      <td>0.04</td>\n",
       "      <td>strike-slip</td>\n",
       "      <td>-1.0</td>\n",
       "      <td>quadratic</td>\n",
       "      <td>2.169988</td>\n",
       "      <td>1.1346</td>\n",
       "      <td>0.166706</td>\n",
       "    </tr>\n",
       "  </tbody>\n",
       "</table>\n",
       "</div>"
      ],
      "text/plain": [
       "   magnitude  location        style  percentile model_name        mu   sigma     displ\n",
       "0        6.8      0.00  strike-slip        -1.0  quadratic  1.623480  1.1346  0.096517\n",
       "1        6.8      0.01  strike-slip        -1.0  quadratic  1.766159  1.1346  0.111319\n",
       "2        6.8      0.02  strike-slip        -1.0  quadratic  1.904803  1.1346  0.127874\n",
       "3        6.8      0.03  strike-slip        -1.0  quadratic  2.039413  1.1346  0.146300\n",
       "4        6.8      0.04  strike-slip        -1.0  quadratic  2.169988  1.1346  0.166706"
      ]
     },
     "execution_count": 4,
     "metadata": {},
     "output_type": "execute_result"
    }
   ],
   "source": [
    "magnitude, percentile, submodel, step_size = 6.8, -1, \"quadratic\", 0.01\n",
    "\n",
    "df = run_displacement_profile.run_profile(\n",
    "    magnitude=magnitude, percentile=percentile, submodel=submodel, location_step=step_size\n",
    ")\n",
    "\n",
    "df.head()"
   ]
  },
  {
   "cell_type": "code",
   "execution_count": 5,
   "metadata": {},
   "outputs": [
    {
     "data": {
      "image/png": "[encoded data removed]",
      "text/plain": [
       "<Figure size 720x288 with 1 Axes>"
      ]
     },
     "metadata": {
      "needs_background": "light"
     },
     "output_type": "display_data"
    }
   ],
   "source": [
    "fig, ax = plt.subplots(1, 1, figsize=(10, 4))\n",
    "x, y = df[\"location\"], df[\"displ\"]\n",
    "ax.plot(x, y, c=\"tab:orange\", label=df[\"model_name\"].iloc[0])\n",
    "title = f\"Magnitude {magnitude},  Percentile={percentile}\"\n",
    "ax.set(xlabel=\"x/L\", ylabel=\"Principal Displacement (m)\", title=title)\n",
    "ax.legend(loc=\"best\");"
   ]
  },
  {
   "cell_type": "code",
   "execution_count": 6,
   "metadata": {},
   "outputs": [
    {
     "name": "stdout",
     "output_type": "stream",
     "text": [
      "82.02053285455878\n",
      "0.8202053285455879\n"
     ]
    }
   ],
   "source": [
    "print(np.trapz(y))\n",
    "print(np.trapz(y, x))"
   ]
  },
  {
   "cell_type": "markdown",
   "metadata": {},
   "source": [
    "## Elliptical"
   ]
  },
  {
   "cell_type": "code",
   "execution_count": 7,
   "metadata": {},
   "outputs": [
    {
     "data": {
      "text/html": [
       "<div>\n",
       "<style scoped>\n",
       "    .dataframe tbody tr th:only-of-type {\n",
       "        vertical-align: middle;\n",
       "    }\n",
       "\n",
       "    .dataframe tbody tr th {\n",
       "        vertical-align: top;\n",
       "    }\n",
       "\n",
       "    .dataframe thead th {\n",
       "        text-align: right;\n",
       "    }\n",
       "</style>\n",
       "<table border=\"1\" class=\"dataframe\">\n",
       "  <thead>\n",
       "    <tr style=\"text-align: right;\">\n",
       "      <th></th>\n",
       "      <th>magnitude</th>\n",
       "      <th>location</th>\n",
       "      <th>style</th>\n",
       "      <th>percentile</th>\n",
       "      <th>model_name</th>\n",
       "      <th>mu</th>\n",
       "      <th>sigma</th>\n",
       "      <th>displ</th>\n",
       "    </tr>\n",
       "  </thead>\n",
       "  <tbody>\n",
       "    <tr>\n",
       "      <th>0</th>\n",
       "      <td>6.8</td>\n",
       "      <td>0.00</td>\n",
       "      <td>strike-slip</td>\n",
       "      <td>0.5</td>\n",
       "      <td>elliptical</td>\n",
       "      <td>0.971160</td>\n",
       "      <td>1.1348</td>\n",
       "      <td>0.026410</td>\n",
       "    </tr>\n",
       "    <tr>\n",
       "      <th>1</th>\n",
       "      <td>6.8</td>\n",
       "      <td>0.01</td>\n",
       "      <td>strike-slip</td>\n",
       "      <td>0.5</td>\n",
       "      <td>elliptical</td>\n",
       "      <td>1.628668</td>\n",
       "      <td>1.1348</td>\n",
       "      <td>0.050971</td>\n",
       "    </tr>\n",
       "    <tr>\n",
       "      <th>2</th>\n",
       "      <td>6.8</td>\n",
       "      <td>0.02</td>\n",
       "      <td>strike-slip</td>\n",
       "      <td>0.5</td>\n",
       "      <td>elliptical</td>\n",
       "      <td>1.896308</td>\n",
       "      <td>1.1348</td>\n",
       "      <td>0.066613</td>\n",
       "    </tr>\n",
       "    <tr>\n",
       "      <th>3</th>\n",
       "      <td>6.8</td>\n",
       "      <td>0.03</td>\n",
       "      <td>strike-slip</td>\n",
       "      <td>0.5</td>\n",
       "      <td>elliptical</td>\n",
       "      <td>2.098434</td>\n",
       "      <td>1.1348</td>\n",
       "      <td>0.081534</td>\n",
       "    </tr>\n",
       "    <tr>\n",
       "      <th>4</th>\n",
       "      <td>6.8</td>\n",
       "      <td>0.04</td>\n",
       "      <td>strike-slip</td>\n",
       "      <td>0.5</td>\n",
       "      <td>elliptical</td>\n",
       "      <td>2.266097</td>\n",
       "      <td>1.1348</td>\n",
       "      <td>0.096417</td>\n",
       "    </tr>\n",
       "    <tr>\n",
       "      <th>...</th>\n",
       "      <td>...</td>\n",
       "      <td>...</td>\n",
       "      <td>...</td>\n",
       "      <td>...</td>\n",
       "      <td>...</td>\n",
       "      <td>...</td>\n",
       "      <td>...</td>\n",
       "      <td>...</td>\n",
       "    </tr>\n",
       "    <tr>\n",
       "      <th>96</th>\n",
       "      <td>6.8</td>\n",
       "      <td>0.96</td>\n",
       "      <td>strike-slip</td>\n",
       "      <td>0.5</td>\n",
       "      <td>elliptical</td>\n",
       "      <td>2.266097</td>\n",
       "      <td>1.1348</td>\n",
       "      <td>0.096417</td>\n",
       "    </tr>\n",
       "    <tr>\n",
       "      <th>97</th>\n",
       "      <td>6.8</td>\n",
       "      <td>0.97</td>\n",
       "      <td>strike-slip</td>\n",
       "      <td>0.5</td>\n",
       "      <td>elliptical</td>\n",
       "      <td>2.098434</td>\n",
       "      <td>1.1348</td>\n",
       "      <td>0.081534</td>\n",
       "    </tr>\n",
       "    <tr>\n",
       "      <th>98</th>\n",
       "      <td>6.8</td>\n",
       "      <td>0.98</td>\n",
       "      <td>strike-slip</td>\n",
       "      <td>0.5</td>\n",
       "      <td>elliptical</td>\n",
       "      <td>1.896308</td>\n",
       "      <td>1.1348</td>\n",
       "      <td>0.066613</td>\n",
       "    </tr>\n",
       "    <tr>\n",
       "      <th>99</th>\n",
       "      <td>6.8</td>\n",
       "      <td>0.99</td>\n",
       "      <td>strike-slip</td>\n",
       "      <td>0.5</td>\n",
       "      <td>elliptical</td>\n",
       "      <td>1.628668</td>\n",
       "      <td>1.1348</td>\n",
       "      <td>0.050971</td>\n",
       "    </tr>\n",
       "    <tr>\n",
       "      <th>100</th>\n",
       "      <td>6.8</td>\n",
       "      <td>1.00</td>\n",
       "      <td>strike-slip</td>\n",
       "      <td>0.5</td>\n",
       "      <td>elliptical</td>\n",
       "      <td>0.971160</td>\n",
       "      <td>1.1348</td>\n",
       "      <td>0.026410</td>\n",
       "    </tr>\n",
       "  </tbody>\n",
       "</table>\n",
       "<p>101 rows × 8 columns</p>\n",
       "</div>"
      ],
      "text/plain": [
       "     magnitude  location        style  percentile  model_name        mu   sigma     displ\n",
       "0          6.8      0.00  strike-slip         0.5  elliptical  0.971160  1.1348  0.026410\n",
       "1          6.8      0.01  strike-slip         0.5  elliptical  1.628668  1.1348  0.050971\n",
       "2          6.8      0.02  strike-slip         0.5  elliptical  1.896308  1.1348  0.066613\n",
       "3          6.8      0.03  strike-slip         0.5  elliptical  2.098434  1.1348  0.081534\n",
       "4          6.8      0.04  strike-slip         0.5  elliptical  2.266097  1.1348  0.096417\n",
       "..         ...       ...          ...         ...         ...       ...     ...       ...\n",
       "96         6.8      0.96  strike-slip         0.5  elliptical  2.266097  1.1348  0.096417\n",
       "97         6.8      0.97  strike-slip         0.5  elliptical  2.098434  1.1348  0.081534\n",
       "98         6.8      0.98  strike-slip         0.5  elliptical  1.896308  1.1348  0.066613\n",
       "99         6.8      0.99  strike-slip         0.5  elliptical  1.628668  1.1348  0.050971\n",
       "100        6.8      1.00  strike-slip         0.5  elliptical  0.971160  1.1348  0.026410\n",
       "\n",
       "[101 rows x 8 columns]"
      ]
     },
     "execution_count": 7,
     "metadata": {},
     "output_type": "execute_result"
    }
   ],
   "source": [
    "magnitude, percentile, step_size = 6.8, 0.5, 0.01\n",
    "\n",
    "df = run_displacement_profile.run_profile(\n",
    "    magnitude=magnitude, percentile=percentile, location_step=step_size\n",
    ")\n",
    "\n",
    "df"
   ]
  },
  {
   "cell_type": "code",
   "execution_count": 8,
   "metadata": {},
   "outputs": [
    {
     "data": {
      "image/png": "[encoded data removed]",
      "text/plain": [
       "<Figure size 720x288 with 1 Axes>"
      ]
     },
     "metadata": {
      "needs_background": "light"
     },
     "output_type": "display_data"
    }
   ],
   "source": [
    "fig, ax = plt.subplots(1, 1, figsize=(10, 4))\n",
    "x, y = df[\"location\"], df[\"displ\"]\n",
    "ax.plot(x, y, c=\"tab:orange\", label=df[\"model_name\"].iloc[0])\n",
    "title = f\"Magnitude {magnitude},  Percentile={percentile}\"\n",
    "ax.set(xlabel=\"x/L\", ylabel=\"Principal Displacement (m)\", title=title)\n",
    "ax.legend(loc=\"best\");"
   ]
  }
 ],
 "metadata": {
  "kernelspec": {
   "display_name": "fdhi",
   "language": "python",
   "name": "fdhi"
  },
  "language_info": {
   "codemirror_mode": {
    "name": "ipython",
    "version": 3
   },
   "file_extension": ".py",
   "mimetype": "text/x-python",
   "name": "python",
   "nbconvert_exporter": "python",
   "pygments_lexer": "ipython3",
   "version": "3.8.3"
  },
  "toc": {
   "base_numbering": 1,
   "nav_menu": {},
   "number_sections": true,
   "sideBar": true,
   "skip_h1_title": false,
   "title_cell": "Table of Contents",
   "title_sidebar": "Contents",
   "toc_cell": false,
   "toc_position": {},
   "toc_section_display": true,
   "toc_window_display": true
  }
 },
 "nbformat": 4,
 "nbformat_minor": 4
}
