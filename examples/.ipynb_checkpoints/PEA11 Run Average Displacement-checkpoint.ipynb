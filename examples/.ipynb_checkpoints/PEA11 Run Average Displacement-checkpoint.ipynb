{
 "cells": [
  {
   "cell_type": "markdown",
   "metadata": {},
   "source": [
    "# Import libraries"
   ]
  },
  {
   "cell_type": "code",
   "execution_count": 1,
   "metadata": {},
   "outputs": [],
   "source": [
    "import sys\n",
    "from pathlib import Path\n",
    "import matplotlib.pyplot as plt\n",
    "import numpy as np\n",
    "import pandas as pd\n",
    "\n",
    "%matplotlib inline"
   ]
  },
  {
   "cell_type": "markdown",
   "metadata": {},
   "source": [
    "# Import modules"
   ]
  },
  {
   "cell_type": "code",
   "execution_count": 2,
   "metadata": {},
   "outputs": [],
   "source": [
    "# Add path for module\n",
    "# FIXME: shouldn't need this with a package install (`__init__` should suffice?!)\n",
    "MODEL_DIR = Path().resolve().parent / \"PetersenEtAl2011\"\n",
    "sys.path.append(str(MODEL_DIR))\n",
    "\n",
    "import run_average_displacement"
   ]
  },
  {
   "cell_type": "markdown",
   "metadata": {},
   "source": [
    "# View the docstrings"
   ]
  },
  {
   "cell_type": "code",
   "execution_count": 3,
   "metadata": {},
   "outputs": [
    {
     "name": "stdout",
     "output_type": "stream",
     "text": [
      "Help on module run_average_displacement:\n",
      "\n",
      "NAME\n",
      "    run_average_displacement\n",
      "\n",
      "DESCRIPTION\n",
      "    This file runs the PEA11 principal fault displacement model to calculate the average\n",
      "    displacement that is implied by the model prediction.\n",
      "    - Any number of scenarios are allowed (e.g., user can enter multiple magnitudes).\n",
      "    - The model-implied Average Displacement is calculated as the area under the mean slip profile.\n",
      "    - The results are returned in a pandas DataFrame.\n",
      "    - Only the principal fault displacement models for direct (i.e., not normalized) predictions are\n",
      "    implemented herein currently.\n",
      "    - Command-line use is supported; try `python run_average_displacement.py --help`\n",
      "    - Module use is supported; try `from run_average_displacement import run_ad`\n",
      "    \n",
      "    # NOTE: This script just calls `run_displacement_profile.py` which in turn calls `run_displacement_model.py`\n",
      "    \n",
      "    Reference: https://doi.org/10.1785/0120100035\n",
      "\n",
      "FUNCTIONS\n",
      "    main()\n",
      "    \n",
      "    run_ad(*, magnitude: Union[float, int, List[Union[float, int]], numpy.ndarray], submodel: Union[str, List[str], numpy.ndarray] = 'elliptical', style: Union[str, List[str], numpy.ndarray] = 'strike-slip') -> pandas.core.frame.DataFrame\n",
      "        Run PEA11 principal fault displacement model to calculate the average displacement that is\n",
      "        implied by the model prediction. All parameters must be passed as keyword arguments. Any number\n",
      "        of scenarios (i.e., magnitude inputs, submodel inputs, etc.) are allowed.\n",
      "        \n",
      "        Parameters\n",
      "        ----------\n",
      "        magnitude : Union[float, list, numpy.ndarray]\n",
      "            Earthquake moment magnitude.\n",
      "        \n",
      "        submodel : Union[str, list, numpy.ndarray], optional\n",
      "            PEA11 shape model name  (case-insensitive). Default is \"elliptical\". Valid options are\n",
      "            \"elliptical\", \"quadratic\", or \"bilinear\".\n",
      "        \n",
      "        \n",
      "        style : Union[str, list, numpy.ndarray], optional\n",
      "            Style of faulting (case-insensitive). Default is \"strike-slip\".\n",
      "        \n",
      "        Returns\n",
      "        -------\n",
      "        pandas.DataFrame\n",
      "            A DataFrame with the following columns:\n",
      "            - 'magnitude': Earthquake moment magnitude [from user input].\n",
      "            - 'style': Style of faulting [from user input].\n",
      "            - 'model_name': Profile shape model name [from user input].\n",
      "            - 'avg_displ': Average displacement in meters.\n",
      "        \n",
      "        Raises (inherited from `run_displacement_model.py`)\n",
      "        ------\n",
      "        ValueError\n",
      "            If invalid `submodel` is provided.\n",
      "        \n",
      "        Warns  (inherited from `run_displacement_model.py`)\n",
      "        -----\n",
      "        UserWarning\n",
      "            If an unsupported `style` is provided. The user input will be over-ridden with \"strike-slip\".\n",
      "        \n",
      "        Notes\n",
      "        ------\n",
      "        Command-line interface usage\n",
      "            Run (e.g.) `python run_average_displacement.py --magnitude 7 7.5 --submodel quadratic`\n",
      "            Run `python run_average_displacement.py --help`\n",
      "        \n",
      "        #TODO\n",
      "        ------\n",
      "        Raise a UserWarning for magntiudes outside recommended ranges.\n",
      "\n",
      "DATA\n",
      "    List = typing.List\n",
      "    Union = typing.Union\n",
      "\n",
      "FILE\n",
      "    d:\\documents\\_mydocs\\work fdhi\\team\\journal\\kea23\\petersenetal2011\\run_average_displacement.py\n",
      "\n",
      "\n"
     ]
    }
   ],
   "source": [
    "help(run_average_displacement)"
   ]
  },
  {
   "cell_type": "markdown",
   "metadata": {},
   "source": [
    "# Run Average Displacement"
   ]
  },
  {
   "cell_type": "markdown",
   "metadata": {},
   "source": [
    "## Single scenarios"
   ]
  },
  {
   "cell_type": "markdown",
   "metadata": {},
   "source": [
    "A single scenario is defined as a magnitude/style. Here is an example (note all parameters must be passed as keyword arguments)."
   ]
  },
  {
   "cell_type": "code",
   "execution_count": 4,
   "metadata": {},
   "outputs": [
    {
     "data": {
      "text/html": [
       "<div>\n",
       "<style scoped>\n",
       "    .dataframe tbody tr th:only-of-type {\n",
       "        vertical-align: middle;\n",
       "    }\n",
       "\n",
       "    .dataframe tbody tr th {\n",
       "        vertical-align: top;\n",
       "    }\n",
       "\n",
       "    .dataframe thead th {\n",
       "        text-align: right;\n",
       "    }\n",
       "</style>\n",
       "<table border=\"1\" class=\"dataframe\">\n",
       "  <thead>\n",
       "    <tr style=\"text-align: right;\">\n",
       "      <th></th>\n",
       "      <th>magnitude</th>\n",
       "      <th>model_name</th>\n",
       "      <th>style</th>\n",
       "      <th>avg_displ</th>\n",
       "    </tr>\n",
       "  </thead>\n",
       "  <tbody>\n",
       "    <tr>\n",
       "      <th>0</th>\n",
       "      <td>7.0</td>\n",
       "      <td>elliptical</td>\n",
       "      <td>strike-slip</td>\n",
       "      <td>1.183029</td>\n",
       "    </tr>\n",
       "  </tbody>\n",
       "</table>\n",
       "</div>"
      ],
      "text/plain": [
       "   magnitude  model_name        style  avg_displ\n",
       "0        7.0  elliptical  strike-slip   1.183029"
      ]
     },
     "execution_count": 4,
     "metadata": {},
     "output_type": "execute_result"
    }
   ],
   "source": [
    "df = run_average_displacement.run_ad(magnitude=7)\n",
    "df"
   ]
  },
  {
   "cell_type": "markdown",
   "metadata": {},
   "source": [
    "The Petersen et al. (2011) model provides three alternative submodels for different profile shapes. The default is the elliptical model, but the user can choose other options, such as `submodel=\"quadratic\"`:"
   ]
  },
  {
   "cell_type": "code",
   "execution_count": 5,
   "metadata": {},
   "outputs": [
    {
     "data": {
      "text/html": [
       "<div>\n",
       "<style scoped>\n",
       "    .dataframe tbody tr th:only-of-type {\n",
       "        vertical-align: middle;\n",
       "    }\n",
       "\n",
       "    .dataframe tbody tr th {\n",
       "        vertical-align: top;\n",
       "    }\n",
       "\n",
       "    .dataframe thead th {\n",
       "        text-align: right;\n",
       "    }\n",
       "</style>\n",
       "<table border=\"1\" class=\"dataframe\">\n",
       "  <thead>\n",
       "    <tr style=\"text-align: right;\">\n",
       "      <th></th>\n",
       "      <th>magnitude</th>\n",
       "      <th>model_name</th>\n",
       "      <th>style</th>\n",
       "      <th>avg_displ</th>\n",
       "    </tr>\n",
       "  </thead>\n",
       "  <tbody>\n",
       "    <tr>\n",
       "      <th>0</th>\n",
       "      <td>7.0</td>\n",
       "      <td>quadratic</td>\n",
       "      <td>strike-slip</td>\n",
       "      <td>1.173158</td>\n",
       "    </tr>\n",
       "  </tbody>\n",
       "</table>\n",
       "</div>"
      ],
      "text/plain": [
       "   magnitude model_name        style  avg_displ\n",
       "0        7.0  quadratic  strike-slip   1.173158"
      ]
     },
     "execution_count": 5,
     "metadata": {},
     "output_type": "execute_result"
    }
   ],
   "source": [
    "df = run_average_displacement.run_ad(magnitude=7, submodel=\"quadratic\")\n",
    "df"
   ]
  },
  {
   "cell_type": "markdown",
   "metadata": {},
   "source": [
    "This model should only be used for strike-slip faulting. That is the default style. A `UserWarning` will be issued and the user input will be over-ridden in the output table if another style is entered, such as `style=\"reverse\"`:"
   ]
  },
  {
   "cell_type": "code",
   "execution_count": 6,
   "metadata": {},
   "outputs": [
    {
     "name": "stderr",
     "output_type": "stream",
     "text": [
      "D:\\Documents\\_mydocs\\Work FDHI\\TEAM\\Journal\\kea23\\PetersenEtAl2011\\run_displacement_model.py:158: UserWarning: This model is only recommended for strike-slip faulting, but 'reverse' was entered.User input will be over-ridden.\n",
      "  warnings.warn(\n"
     ]
    },
    {
     "data": {
      "text/html": [
       "<div>\n",
       "<style scoped>\n",
       "    .dataframe tbody tr th:only-of-type {\n",
       "        vertical-align: middle;\n",
       "    }\n",
       "\n",
       "    .dataframe tbody tr th {\n",
       "        vertical-align: top;\n",
       "    }\n",
       "\n",
       "    .dataframe thead th {\n",
       "        text-align: right;\n",
       "    }\n",
       "</style>\n",
       "<table border=\"1\" class=\"dataframe\">\n",
       "  <thead>\n",
       "    <tr style=\"text-align: right;\">\n",
       "      <th></th>\n",
       "      <th>magnitude</th>\n",
       "      <th>model_name</th>\n",
       "      <th>style</th>\n",
       "      <th>avg_displ</th>\n",
       "    </tr>\n",
       "  </thead>\n",
       "  <tbody>\n",
       "    <tr>\n",
       "      <th>0</th>\n",
       "      <td>7.0</td>\n",
       "      <td>quadratic</td>\n",
       "      <td>strike-slip</td>\n",
       "      <td>1.173158</td>\n",
       "    </tr>\n",
       "  </tbody>\n",
       "</table>\n",
       "</div>"
      ],
      "text/plain": [
       "   magnitude model_name        style  avg_displ\n",
       "0        7.0  quadratic  strike-slip   1.173158"
      ]
     },
     "execution_count": 6,
     "metadata": {},
     "output_type": "execute_result"
    }
   ],
   "source": [
    "df = run_average_displacement.run_ad(magnitude=7, submodel=\"quadratic\", style=\"reverse\")\n",
    "df"
   ]
  },
  {
   "cell_type": "markdown",
   "metadata": {},
   "source": [
    "## Multiple scenarios"
   ]
  },
  {
   "cell_type": "markdown",
   "metadata": {},
   "source": [
    "Multiple magnitude/submodel scenarios can be run. All combinations of magnitudes and submodels are run. Here is an example."
   ]
  },
  {
   "cell_type": "code",
   "execution_count": 7,
   "metadata": {},
   "outputs": [
    {
     "data": {
      "text/html": [
       "<div>\n",
       "<style scoped>\n",
       "    .dataframe tbody tr th:only-of-type {\n",
       "        vertical-align: middle;\n",
       "    }\n",
       "\n",
       "    .dataframe tbody tr th {\n",
       "        vertical-align: top;\n",
       "    }\n",
       "\n",
       "    .dataframe thead th {\n",
       "        text-align: right;\n",
       "    }\n",
       "</style>\n",
       "<table border=\"1\" class=\"dataframe\">\n",
       "  <thead>\n",
       "    <tr style=\"text-align: right;\">\n",
       "      <th></th>\n",
       "      <th>magnitude</th>\n",
       "      <th>model_name</th>\n",
       "      <th>style</th>\n",
       "      <th>avg_displ</th>\n",
       "    </tr>\n",
       "  </thead>\n",
       "  <tbody>\n",
       "    <tr>\n",
       "      <th>0</th>\n",
       "      <td>6.5</td>\n",
       "      <td>elliptical</td>\n",
       "      <td>strike-slip</td>\n",
       "      <td>0.482742</td>\n",
       "    </tr>\n",
       "    <tr>\n",
       "      <th>1</th>\n",
       "      <td>6.5</td>\n",
       "      <td>quadratic</td>\n",
       "      <td>strike-slip</td>\n",
       "      <td>0.479481</td>\n",
       "    </tr>\n",
       "    <tr>\n",
       "      <th>2</th>\n",
       "      <td>7.0</td>\n",
       "      <td>elliptical</td>\n",
       "      <td>strike-slip</td>\n",
       "      <td>1.183029</td>\n",
       "    </tr>\n",
       "    <tr>\n",
       "      <th>3</th>\n",
       "      <td>7.0</td>\n",
       "      <td>quadratic</td>\n",
       "      <td>strike-slip</td>\n",
       "      <td>1.173158</td>\n",
       "    </tr>\n",
       "    <tr>\n",
       "      <th>4</th>\n",
       "      <td>7.5</td>\n",
       "      <td>elliptical</td>\n",
       "      <td>strike-slip</td>\n",
       "      <td>2.899180</td>\n",
       "    </tr>\n",
       "    <tr>\n",
       "      <th>5</th>\n",
       "      <td>7.5</td>\n",
       "      <td>quadratic</td>\n",
       "      <td>strike-slip</td>\n",
       "      <td>2.870394</td>\n",
       "    </tr>\n",
       "  </tbody>\n",
       "</table>\n",
       "</div>"
      ],
      "text/plain": [
       "   magnitude  model_name        style  avg_displ\n",
       "0        6.5  elliptical  strike-slip   0.482742\n",
       "1        6.5   quadratic  strike-slip   0.479481\n",
       "2        7.0  elliptical  strike-slip   1.183029\n",
       "3        7.0   quadratic  strike-slip   1.173158\n",
       "4        7.5  elliptical  strike-slip   2.899180\n",
       "5        7.5   quadratic  strike-slip   2.870394"
      ]
     },
     "execution_count": 7,
     "metadata": {},
     "output_type": "execute_result"
    }
   ],
   "source": [
    "df = run_average_displacement.run_ad(\n",
    "    magnitude=[6.5, 7, 7.5], submodel=[\"elliptical\", \"quadratic\"]\n",
    ")\n",
    "df"
   ]
  },
  {
   "cell_type": "markdown",
   "metadata": {},
   "source": [
    "## Create magnitude scaling plots"
   ]
  },
  {
   "cell_type": "code",
   "execution_count": 8,
   "metadata": {},
   "outputs": [
    {
     "data": {
      "text/html": [
       "<div>\n",
       "<style scoped>\n",
       "    .dataframe tbody tr th:only-of-type {\n",
       "        vertical-align: middle;\n",
       "    }\n",
       "\n",
       "    .dataframe tbody tr th {\n",
       "        vertical-align: top;\n",
       "    }\n",
       "\n",
       "    .dataframe thead th {\n",
       "        text-align: right;\n",
       "    }\n",
       "</style>\n",
       "<table border=\"1\" class=\"dataframe\">\n",
       "  <thead>\n",
       "    <tr style=\"text-align: right;\">\n",
       "      <th></th>\n",
       "      <th>magnitude</th>\n",
       "      <th>model_name</th>\n",
       "      <th>style</th>\n",
       "      <th>avg_displ</th>\n",
       "    </tr>\n",
       "  </thead>\n",
       "  <tbody>\n",
       "    <tr>\n",
       "      <th>0</th>\n",
       "      <td>5.0</td>\n",
       "      <td>bilinear</td>\n",
       "      <td>strike-slip</td>\n",
       "      <td>0.031562</td>\n",
       "    </tr>\n",
       "    <tr>\n",
       "      <th>1</th>\n",
       "      <td>5.0</td>\n",
       "      <td>elliptical</td>\n",
       "      <td>strike-slip</td>\n",
       "      <td>0.032800</td>\n",
       "    </tr>\n",
       "    <tr>\n",
       "      <th>2</th>\n",
       "      <td>5.0</td>\n",
       "      <td>quadratic</td>\n",
       "      <td>strike-slip</td>\n",
       "      <td>0.032735</td>\n",
       "    </tr>\n",
       "    <tr>\n",
       "      <th>3</th>\n",
       "      <td>5.1</td>\n",
       "      <td>bilinear</td>\n",
       "      <td>strike-slip</td>\n",
       "      <td>0.037705</td>\n",
       "    </tr>\n",
       "    <tr>\n",
       "      <th>4</th>\n",
       "      <td>5.1</td>\n",
       "      <td>elliptical</td>\n",
       "      <td>strike-slip</td>\n",
       "      <td>0.039240</td>\n",
       "    </tr>\n",
       "  </tbody>\n",
       "</table>\n",
       "</div>"
      ],
      "text/plain": [
       "   magnitude  model_name        style  avg_displ\n",
       "0        5.0    bilinear  strike-slip   0.031562\n",
       "1        5.0  elliptical  strike-slip   0.032800\n",
       "2        5.0   quadratic  strike-slip   0.032735\n",
       "3        5.1    bilinear  strike-slip   0.037705\n",
       "4        5.1  elliptical  strike-slip   0.039240"
      ]
     },
     "execution_count": 8,
     "metadata": {},
     "output_type": "execute_result"
    }
   ],
   "source": [
    "magnitudes = np.arange(5, 8.6, 0.1)\n",
    "models = [\"elliptical\", \"quadratic\", \"bilinear\"]\n",
    "\n",
    "results = run_average_displacement.run_ad(magnitude=magnitudes, submodel=models)\n",
    "results.head()"
   ]
  },
  {
   "cell_type": "code",
   "execution_count": 9,
   "metadata": {},
   "outputs": [
    {
     "data": {
      "image/png": "[encoded data removed]",
      "text/plain": [
       "<Figure size 576x288 with 1 Axes>"
      ]
     },
     "metadata": {
      "needs_background": "light"
     },
     "output_type": "display_data"
    }
   ],
   "source": [
    "fig, ax = plt.subplots(1, 1, figsize=(8, 4))\n",
    "\n",
    "for model, group in results.groupby([\"model_name\"]):\n",
    "    group = group.sort_values(by=\"magnitude\")\n",
    "    ax.semilogy(group[\"magnitude\"], group[\"avg_displ\"], label=model)\n",
    "\n",
    "ax.set(\n",
    "    xlabel=\"Magnitude\",\n",
    "    ylabel=\"Average (Principal) Displacement (m)\",\n",
    "    title=\"Magnitude Scaling\",\n",
    ")\n",
    "ax.set_ylim([0.1, 10])\n",
    "ax.legend(loc=\"lower right\");"
   ]
  }
 ],
 "metadata": {
  "kernelspec": {
   "display_name": "fdhi",
   "language": "python",
   "name": "fdhi"
  },
  "language_info": {
   "codemirror_mode": {
    "name": "ipython",
    "version": 3
   },
   "file_extension": ".py",
   "mimetype": "text/x-python",
   "name": "python",
   "nbconvert_exporter": "python",
   "pygments_lexer": "ipython3",
   "version": "3.8.3"
  },
  "toc": {
   "base_numbering": 1,
   "nav_menu": {},
   "number_sections": true,
   "sideBar": true,
   "skip_h1_title": false,
   "title_cell": "Table of Contents",
   "title_sidebar": "Contents",
   "toc_cell": false,
   "toc_position": {
    "height": "calc(100% - 180px)",
    "left": "10px",
    "top": "150px",
    "width": "307.2px"
   },
   "toc_section_display": true,
   "toc_window_display": true
  }
 },
 "nbformat": 4,
 "nbformat_minor": 4
}
