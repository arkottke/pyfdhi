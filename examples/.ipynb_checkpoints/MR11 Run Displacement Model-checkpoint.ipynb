{
 "cells": [
  {
   "cell_type": "markdown",
   "metadata": {},
   "source": [
    "# Import libraries"
   ]
  },
  {
   "cell_type": "code",
   "execution_count": 1,
   "metadata": {},
   "outputs": [],
   "source": [
    "import sys\n",
    "from pathlib import Path\n",
    "import matplotlib.pyplot as plt\n",
    "import numpy as np\n",
    "import pandas as pd\n",
    "\n",
    "%matplotlib inline"
   ]
  },
  {
   "cell_type": "markdown",
   "metadata": {},
   "source": [
    "# Import modules"
   ]
  },
  {
   "cell_type": "code",
   "execution_count": 2,
   "metadata": {},
   "outputs": [],
   "source": [
    "# Add path for module\n",
    "# FIXME: shouldn't need this with a package install (`__init__` should suffice?!)\n",
    "MODEL_DIR = Path().resolve().parent / \"MossRoss2011\"\n",
    "sys.path.append(str(MODEL_DIR))\n",
    "\n",
    "import run_displacement_model"
   ]
  },
  {
   "cell_type": "markdown",
   "metadata": {},
   "source": [
    "# View the docstrings"
   ]
  },
  {
   "cell_type": "code",
   "execution_count": 3,
   "metadata": {},
   "outputs": [
    {
     "name": "stdout",
     "output_type": "stream",
     "text": [
      "Help on module run_displacement_model:\n",
      "\n",
      "NAME\n",
      "    run_displacement_model\n",
      "\n",
      "DESCRIPTION\n",
      "    This file runs the MR11 principal fault displacement model.\n",
      "    - Any number of scenarios are allowed (e.g., user can enter multiple magnitudes).\n",
      "    - The results are returned in a pandas DataFrame.\n",
      "    - Results for with full aleatory variability and with location-only aleatory variability are always returned.\n",
      "    - The results with full aleatory variability are computed by convolving distributions for normalized\n",
      "    displacement (based on magnitude) and normalizat ratio (based on location) using the Monte Carlo sampling\n",
      "    method described in Moss and Ross (2011).\n",
      "    - Only the principal fault displacement models are implemented herein currently.\n",
      "    - Command-line use is supported; try `python run_displacement_model.py --help`\n",
      "    - Module use is supported; try `from run_displacement_model import run_model`\n",
      "    \n",
      "    # NOTE: Several helper functions are defined herein, but the main function is `run_model()`.\n",
      "    \n",
      "    Reference: https://doi.org/10.1785/0120100248\n",
      "\n",
      "FUNCTIONS\n",
      "    main()\n",
      "    \n",
      "    run_model(*, magnitude: Union[float, int, List[Union[float, int]], numpy.ndarray], location: Union[float, int, List[Union[float, int]], numpy.ndarray], percentile: Union[float, int, List[Union[float, int]], numpy.ndarray], submodel: Union[str, List[str], numpy.ndarray], style: Union[str, List[str], numpy.ndarray] = 'reverse') -> pandas.core.frame.DataFrame\n",
      "        Run MR11 principal fault displacement model. All parameters must be passed as keyword\n",
      "        arguments. Any number of scenarios (i.e., magnitude inputs, location inputs, etc.) are allowed.\n",
      "        \n",
      "        Parameters\n",
      "        ----------\n",
      "        magnitude : Union[float, list, numpy.ndarray]\n",
      "            Earthquake moment magnitude.\n",
      "        \n",
      "        location : Union[float, list, numpy.ndarray]\n",
      "            Normalized location along rupture length, range [0, 1.0].\n",
      "        \n",
      "        percentile : Union[float, list, numpy.ndarray]\n",
      "            Aleatory quantile value. Use -1 for mean.\n",
      "        \n",
      "        submodel : Union[str, list, numpy.ndarray]\n",
      "            MR11 normalization model name (case-insensitive). Valid options are \"d_ad\" or \"d_md\".\n",
      "        \n",
      "        style : Union[str, list, numpy.ndarray], optional\n",
      "            Style of faulting (case-insensitive). Default is \"reverse\".\n",
      "        \n",
      "        Returns\n",
      "        -------\n",
      "        pandas.DataFrame\n",
      "            A DataFrame with the following columns:\n",
      "            - 'magnitude': Earthquake moment magnitude [from user input].\n",
      "            - 'location':  Normalized location along rupture length [from user input].\n",
      "            - 'style': Style of faulting [from user input].\n",
      "            - 'percentile': Aleatory quantile value [from user input].\n",
      "            - 'model_name': Normalization ratio model name [from user input].\n",
      "            - 'mu': Log10 transform of mean average or maximum displacement in m.\n",
      "            - 'sigma': Standard deviation of average or maximum displacement in same units as `mu`.\n",
      "            - 'alpha': Shape parameter for Gamma distribution (D/AD) or Beta distribution (D/MD).\n",
      "            - 'beta': Scale parameter for Gamma distribution (D/AD) or shape parameter for Beta distribution (D/MD).\n",
      "            - 'xd': Median predicted displacement for AD or MD.\n",
      "            - 'd_xd': Normalization ratio D/AD or D/MD for aleatory quantile.\n",
      "            - 'displ_without_aleatory': Displacement in meters without aleatory variability on magntiude.\n",
      "            - 'displ_with_aleatory': Displacement in meters with full aleatory variability.\n",
      "        \n",
      "        Raises\n",
      "        ------\n",
      "        ValueError\n",
      "            If invalid `submodel` is provided.\n",
      "        \n",
      "        Warns\n",
      "        -----\n",
      "        UserWarning\n",
      "            If an unsupported `style` is provided. The user input will be over-ridden with \"reverse\".\n",
      "        \n",
      "        Notes\n",
      "        ------\n",
      "        Command-line interface usage\n",
      "            Run (e.g.) `python run_displacement_model.py --magnitude 7 --location 0.5 --percentile 0.5 --submodel d_ad`\n",
      "            Run `python run_displacement_model.py --help`\n",
      "        \n",
      "        #TODO\n",
      "        ------\n",
      "        Raise a ValueError for invalid location\n",
      "        Raise a ValueError for invalid percentile.\n",
      "        Raise a UserWarning for magntiudes outside recommended ranges.\n",
      "\n",
      "DATA\n",
      "    List = typing.List\n",
      "    N = 100000\n",
      "    SEED = 123\n",
      "    Union = typing.Union\n",
      "\n",
      "FILE\n",
      "    d:\\documents\\_mydocs\\work fdhi\\team\\journal\\kea23\\mossross2011\\run_displacement_model.py\n",
      "\n",
      "\n"
     ]
    }
   ],
   "source": [
    "help(run_displacement_model)"
   ]
  },
  {
   "cell_type": "markdown",
   "metadata": {},
   "source": [
    "# An important note: Capturing aleatory variabilty in models that predict normalized displacement"
   ]
  },
  {
   "cell_type": "markdown",
   "metadata": {},
   "source": [
    "The Moss and Ross (2011) model provides predictions based on normalized displacement $D/AD$ or $D/MD$ as a fuction of folded normalized location along the rupture. Accordingly, the aleatory variability associated with the position along the rupture is captured in the $D/AD$ and $D/MD$ formulations. Specifically, these models use Gamma and Beta distributions, respectively, to model the aleatory variability.\n",
    "\n",
    "To obtain the actual displacement $D$, relations for the normalization variables $AD$ or $MD$ are required. Moss and Ross (2011) provide models for $AD$ and $MD$. The models are in the form of $\\log_{10}(XD) \\sim f(\\mathbf{M})$, similar to the well-known Wells and Coppersmith (1994) models. The actual displacement is therefore calculated as $D = D/AD \\times AD$, for example. \n",
    "\n",
    "However, simply multiplying the normalization ratio by the median-predicted $AD$ or $MD$ under-estimates the total aleatory variability because the variability in the magnitude scaling of $AD$ or $MD$ is not captured. As described in Youngs et al. (2003) and Moss and Ross (2011), the distribution for $D/AD$ (or $D/MD$) must be convolved with the distribution for $AD$ (or $MD$) to capture the full aleatory variability for both location dependence and magnitude dependence.\n",
    "\n",
    "For completeness, the results with and without full aleatory variability are included in the outputs. The full aleatory variability is computed using Monte Carlo sampling, as described in Moss and Ross (2011). One hundred thousand (100,000) samples are drawn for each distribution. In general, neglecting the aleatory variability on magnitude will over-estimate  hazard at low percentiles (i.e., aleatory quantiles) and under-estimate hazard at high percentiles."
   ]
  },
  {
   "cell_type": "markdown",
   "metadata": {},
   "source": [
    "## Example"
   ]
  },
  {
   "cell_type": "markdown",
   "metadata": {},
   "source": [
    "Let's look at the results for a simple case: a $\\mathbf{M}$ 6.8 earthquake at $x/L$ position of 0.25. Let's use the $D/AD$ model formulation, and let's look at the 84th percentile prediction."
   ]
  },
  {
   "cell_type": "code",
   "execution_count": 4,
   "metadata": {},
   "outputs": [
    {
     "data": {
      "text/html": [
       "<div>\n",
       "<style scoped>\n",
       "    .dataframe tbody tr th:only-of-type {\n",
       "        vertical-align: middle;\n",
       "    }\n",
       "\n",
       "    .dataframe tbody tr th {\n",
       "        vertical-align: top;\n",
       "    }\n",
       "\n",
       "    .dataframe thead th {\n",
       "        text-align: right;\n",
       "    }\n",
       "</style>\n",
       "<table border=\"1\" class=\"dataframe\">\n",
       "  <thead>\n",
       "    <tr style=\"text-align: right;\">\n",
       "      <th></th>\n",
       "      <th>magnitude</th>\n",
       "      <th>location</th>\n",
       "      <th>style</th>\n",
       "      <th>percentile</th>\n",
       "      <th>model_name</th>\n",
       "      <th>mu</th>\n",
       "      <th>sigma</th>\n",
       "      <th>alpha</th>\n",
       "      <th>beta</th>\n",
       "      <th>xd</th>\n",
       "      <th>d_xd</th>\n",
       "      <th>displ_without_aleatory</th>\n",
       "      <th>displ_with_aleatory</th>\n",
       "    </tr>\n",
       "  </thead>\n",
       "  <tbody>\n",
       "    <tr>\n",
       "      <th>0</th>\n",
       "      <td>6.8</td>\n",
       "      <td>0.25</td>\n",
       "      <td>reverse</td>\n",
       "      <td>0.84</td>\n",
       "      <td>d_ad</td>\n",
       "      <td>-0.01328</td>\n",
       "      <td>0.17</td>\n",
       "      <td>2.160306</td>\n",
       "      <td>0.459984</td>\n",
       "      <td>0.969884</td>\n",
       "      <td>1.613752</td>\n",
       "      <td>1.565153</td>\n",
       "      <td>1.728073</td>\n",
       "    </tr>\n",
       "  </tbody>\n",
       "</table>\n",
       "</div>"
      ],
      "text/plain": [
       "   magnitude  location    style  percentile model_name       mu  sigma     alpha      beta        xd      d_xd  displ_without_aleatory  displ_with_aleatory\n",
       "0        6.8      0.25  reverse        0.84       d_ad -0.01328   0.17  2.160306  0.459984  0.969884  1.613752                1.565153             1.728073"
      ]
     },
     "execution_count": 4,
     "metadata": {},
     "output_type": "execute_result"
    }
   ],
   "source": [
    "mag, loc, perc, model = (6.8, 0.25, 0.84, \"d_ad\")\n",
    "\n",
    "results = run_displacement_model.run_model(\n",
    "    magnitude=mag, location=loc, percentile=perc, submodel=model\n",
    ")\n",
    "\n",
    "results"
   ]
  },
  {
   "cell_type": "markdown",
   "metadata": {},
   "source": [
    "Note that in the above table, the `model_name` is specified in the row as \"d_ad\". This means that the value in column `xd` is \"AD\" or average displacement. Similarly, the value in `d_xd` corresponds to \"D/AD\".\n",
    "\n",
    "As discussed abovery variability in the prediction. The predicted displacement (based on the magnitude, location, and percentile for a row) with full aleatory variability is in column `displ_with_aleatory`. The prediction with *only* location-based aleatory variability is in column `displ_without_aleatory`.\n",
    "\n",
    "The full aleatory variability is computed by convolving 100,000 samples from the $AD$ distribution, which is based on $\\mu$ and $\\sigma$ in the table, with 100,000 samples from the $D/AD$ distribution, which is based on the $\\alpha$ and $\\beta$ values in the table. Then, the 84th percentile of the convolved distributions is calculated to provide the `displ_with_aleatory` value.\n",
    "\n",
    "The `displ_without_aleatory` value represents the median-predicted $AD$, which is in column `xd`, and the 84th percentile $D/AD$, which is in column `d_xd`. In other words, it it is the value in `xd` multiplied by `d_xd`. "
   ]
  },
  {
   "cell_type": "markdown",
   "metadata": {},
   "source": [
    "In summary: \n",
    "- Each row contains results for the scenario (`magnitude`, `location`) and `model_name`. \n",
    "- Statistical distribution parameters `mu` and `sigma` are based on `magnitude` and the normalization variable provided in `model_name`.\n",
    "- Statistical distribution parameters `alpha` and `beta` are based on `location` and the model in `model_name`.\n",
    "- The `xd` value is the median prediction *Prob(50)* for the normalization variable. It is used in the final displacement calulation in column `displ_without_aleatory`.\n",
    "- The `d_xd` value is the based on the aleatory quantile of interest, given in the `percentile` column. It is the prediction *Prob(percentile)* for the normalized ratio. It is used in the final displacement calulation in column `displ_without_aleatory`.\n",
    "- The **recommended displacement with full aleatory variability** is provided in `displ_with_aleatory` and is based on the aleatory quantile of interest in the `percentile` column; specifically, it is the *Prob(percentile)* from 100,000 convolved distribution samples."
   ]
  },
  {
   "cell_type": "markdown",
   "metadata": {},
   "source": [
    "# Run displacement model"
   ]
  },
  {
   "cell_type": "markdown",
   "metadata": {},
   "source": [
    "## Single scenarios"
   ]
  },
  {
   "cell_type": "markdown",
   "metadata": {},
   "source": [
    "A single scenario is defined as a magnitude/location/percentile/style. Here is an example (note all parameters must be passed as keyword arguments)."
   ]
  },
  {
   "cell_type": "code",
   "execution_count": 5,
   "metadata": {},
   "outputs": [
    {
     "data": {
      "text/html": [
       "<div>\n",
       "<style scoped>\n",
       "    .dataframe tbody tr th:only-of-type {\n",
       "        vertical-align: middle;\n",
       "    }\n",
       "\n",
       "    .dataframe tbody tr th {\n",
       "        vertical-align: top;\n",
       "    }\n",
       "\n",
       "    .dataframe thead th {\n",
       "        text-align: right;\n",
       "    }\n",
       "</style>\n",
       "<table border=\"1\" class=\"dataframe\">\n",
       "  <thead>\n",
       "    <tr style=\"text-align: right;\">\n",
       "      <th></th>\n",
       "      <th>magnitude</th>\n",
       "      <th>location</th>\n",
       "      <th>style</th>\n",
       "      <th>percentile</th>\n",
       "      <th>model_name</th>\n",
       "      <th>mu</th>\n",
       "      <th>sigma</th>\n",
       "      <th>alpha</th>\n",
       "      <th>beta</th>\n",
       "      <th>xd</th>\n",
       "      <th>d_xd</th>\n",
       "      <th>displ_without_aleatory</th>\n",
       "      <th>displ_with_aleatory</th>\n",
       "    </tr>\n",
       "  </thead>\n",
       "  <tbody>\n",
       "    <tr>\n",
       "      <th>0</th>\n",
       "      <td>6.8</td>\n",
       "      <td>0.25</td>\n",
       "      <td>reverse</td>\n",
       "      <td>0.5</td>\n",
       "      <td>d_ad</td>\n",
       "      <td>-0.01328</td>\n",
       "      <td>0.17</td>\n",
       "      <td>2.160306</td>\n",
       "      <td>0.459984</td>\n",
       "      <td>0.969884</td>\n",
       "      <td>0.845298</td>\n",
       "      <td>0.819842</td>\n",
       "      <td>0.803748</td>\n",
       "    </tr>\n",
       "  </tbody>\n",
       "</table>\n",
       "</div>"
      ],
      "text/plain": [
       "   magnitude  location    style  percentile model_name       mu  sigma     alpha      beta        xd      d_xd  displ_without_aleatory  displ_with_aleatory\n",
       "0        6.8      0.25  reverse         0.5       d_ad -0.01328   0.17  2.160306  0.459984  0.969884  0.845298                0.819842             0.803748"
      ]
     },
     "execution_count": 5,
     "metadata": {},
     "output_type": "execute_result"
    }
   ],
   "source": [
    "mag, loc, perc, model = (6.8, 0.25, 0.5, \"d_ad\")\n",
    "\n",
    "results = run_displacement_model.run_model(\n",
    "    magnitude=mag, location=loc, percentile=perc, submodel=model\n",
    ")\n",
    "\n",
    "results"
   ]
  },
  {
   "cell_type": "markdown",
   "metadata": {},
   "source": [
    "This model should only be used for reverse faulting. That is the default style. A `UserWarning` will be issued and the user input will be over-ridden in the output table if another style is entered, such as `style=\"normal\"`:"
   ]
  },
  {
   "cell_type": "code",
   "execution_count": 6,
   "metadata": {},
   "outputs": [
    {
     "name": "stderr",
     "output_type": "stream",
     "text": [
      "D:\\Documents\\_mydocs\\Work FDHI\\TEAM\\Journal\\kea23\\MossRoss2011\\run_displacement_model.py:484: UserWarning: This model is only recommended for reverse faulting, but 'normal' was entered.User input will be over-ridden.\n",
      "  warnings.warn(\n"
     ]
    },
    {
     "data": {
      "text/html": [
       "<div>\n",
       "<style scoped>\n",
       "    .dataframe tbody tr th:only-of-type {\n",
       "        vertical-align: middle;\n",
       "    }\n",
       "\n",
       "    .dataframe tbody tr th {\n",
       "        vertical-align: top;\n",
       "    }\n",
       "\n",
       "    .dataframe thead th {\n",
       "        text-align: right;\n",
       "    }\n",
       "</style>\n",
       "<table border=\"1\" class=\"dataframe\">\n",
       "  <thead>\n",
       "    <tr style=\"text-align: right;\">\n",
       "      <th></th>\n",
       "      <th>magnitude</th>\n",
       "      <th>location</th>\n",
       "      <th>style</th>\n",
       "      <th>percentile</th>\n",
       "      <th>model_name</th>\n",
       "      <th>mu</th>\n",
       "      <th>sigma</th>\n",
       "      <th>alpha</th>\n",
       "      <th>beta</th>\n",
       "      <th>xd</th>\n",
       "      <th>d_xd</th>\n",
       "      <th>displ_without_aleatory</th>\n",
       "      <th>displ_with_aleatory</th>\n",
       "    </tr>\n",
       "  </thead>\n",
       "  <tbody>\n",
       "    <tr>\n",
       "      <th>0</th>\n",
       "      <td>6.8</td>\n",
       "      <td>0.25</td>\n",
       "      <td>reverse</td>\n",
       "      <td>0.5</td>\n",
       "      <td>d_ad</td>\n",
       "      <td>-0.01328</td>\n",
       "      <td>0.17</td>\n",
       "      <td>2.160306</td>\n",
       "      <td>0.459984</td>\n",
       "      <td>0.969884</td>\n",
       "      <td>0.845298</td>\n",
       "      <td>0.819842</td>\n",
       "      <td>0.803748</td>\n",
       "    </tr>\n",
       "  </tbody>\n",
       "</table>\n",
       "</div>"
      ],
      "text/plain": [
       "   magnitude  location    style  percentile model_name       mu  sigma     alpha      beta        xd      d_xd  displ_without_aleatory  displ_with_aleatory\n",
       "0        6.8      0.25  reverse         0.5       d_ad -0.01328   0.17  2.160306  0.459984  0.969884  0.845298                0.819842             0.803748"
      ]
     },
     "execution_count": 6,
     "metadata": {},
     "output_type": "execute_result"
    }
   ],
   "source": [
    "results = run_displacement_model.run_model(\n",
    "    magnitude=mag, location=loc, percentile=perc, submodel=model, style=\"normal\"\n",
    ")\n",
    "\n",
    "results"
   ]
  },
  {
   "cell_type": "markdown",
   "metadata": {},
   "source": [
    "The Moss and Ross (2011) model provides two alternative submodels: one is based on normalized displacement $D/AD$ and the other is $D/MD$. The user must specify which model is used; for example, `submodel=\"d_md\"`:"
   ]
  },
  {
   "cell_type": "code",
   "execution_count": 7,
   "metadata": {},
   "outputs": [
    {
     "data": {
      "text/html": [
       "<div>\n",
       "<style scoped>\n",
       "    .dataframe tbody tr th:only-of-type {\n",
       "        vertical-align: middle;\n",
       "    }\n",
       "\n",
       "    .dataframe tbody tr th {\n",
       "        vertical-align: top;\n",
       "    }\n",
       "\n",
       "    .dataframe thead th {\n",
       "        text-align: right;\n",
       "    }\n",
       "</style>\n",
       "<table border=\"1\" class=\"dataframe\">\n",
       "  <thead>\n",
       "    <tr style=\"text-align: right;\">\n",
       "      <th></th>\n",
       "      <th>magnitude</th>\n",
       "      <th>location</th>\n",
       "      <th>style</th>\n",
       "      <th>percentile</th>\n",
       "      <th>model_name</th>\n",
       "      <th>mu</th>\n",
       "      <th>sigma</th>\n",
       "      <th>alpha</th>\n",
       "      <th>beta</th>\n",
       "      <th>xd</th>\n",
       "      <th>d_xd</th>\n",
       "      <th>displ_without_aleatory</th>\n",
       "      <th>displ_with_aleatory</th>\n",
       "    </tr>\n",
       "  </thead>\n",
       "  <tbody>\n",
       "    <tr>\n",
       "      <th>0</th>\n",
       "      <td>6.8</td>\n",
       "      <td>0.25</td>\n",
       "      <td>reverse</td>\n",
       "      <td>0.5</td>\n",
       "      <td>d_md</td>\n",
       "      <td>0.27226</td>\n",
       "      <td>0.31</td>\n",
       "      <td>0.93825</td>\n",
       "      <td>1.275</td>\n",
       "      <td>1.871802</td>\n",
       "      <td>0.397799</td>\n",
       "      <td>0.744602</td>\n",
       "      <td>0.663981</td>\n",
       "    </tr>\n",
       "  </tbody>\n",
       "</table>\n",
       "</div>"
      ],
      "text/plain": [
       "   magnitude  location    style  percentile model_name       mu  sigma    alpha   beta        xd      d_xd  displ_without_aleatory  displ_with_aleatory\n",
       "0        6.8      0.25  reverse         0.5       d_md  0.27226   0.31  0.93825  1.275  1.871802  0.397799                0.744602             0.663981"
      ]
     },
     "execution_count": 7,
     "metadata": {},
     "output_type": "execute_result"
    }
   ],
   "source": [
    "results = run_displacement_model.run_model(\n",
    "    magnitude=mag, location=loc, percentile=perc, submodel=\"d_md\"\n",
    ")\n",
    "\n",
    "results"
   ]
  },
  {
   "cell_type": "markdown",
   "metadata": {},
   "source": [
    "An error results if the wrong submodel is entered:"
   ]
  },
  {
   "cell_type": "code",
   "execution_count": 8,
   "metadata": {},
   "outputs": [
    {
     "name": "stdout",
     "output_type": "stream",
     "text": [
      "Invalid submodel names: ['meow']. Supported submodels are ['d_ad', 'd_md'].\n"
     ]
    }
   ],
   "source": [
    "try:\n",
    "    results = run_displacement_model.run_model(\n",
    "        magnitude=mag, location=loc, percentile=perc, submodel=\"meow\"\n",
    "    )\n",
    "except ValueError as e:\n",
    "    print(e)"
   ]
  },
  {
   "cell_type": "code",
   "execution_count": 9,
   "metadata": {},
   "outputs": [],
   "source": [
    "del mag, loc, perc, model"
   ]
  },
  {
   "cell_type": "markdown",
   "metadata": {},
   "source": [
    "## Multiple scenarios"
   ]
  },
  {
   "cell_type": "markdown",
   "metadata": {},
   "source": [
    "Multiple magnitude/location/percentile/submodel scenarios can be run. All combinations of magnitudes, locations, percentiles, and submodels are run. Here is an example."
   ]
  },
  {
   "cell_type": "code",
   "execution_count": 10,
   "metadata": {},
   "outputs": [
    {
     "data": {
      "text/html": [
       "<div>\n",
       "<style scoped>\n",
       "    .dataframe tbody tr th:only-of-type {\n",
       "        vertical-align: middle;\n",
       "    }\n",
       "\n",
       "    .dataframe tbody tr th {\n",
       "        vertical-align: top;\n",
       "    }\n",
       "\n",
       "    .dataframe thead th {\n",
       "        text-align: right;\n",
       "    }\n",
       "</style>\n",
       "<table border=\"1\" class=\"dataframe\">\n",
       "  <thead>\n",
       "    <tr style=\"text-align: right;\">\n",
       "      <th></th>\n",
       "      <th>magnitude</th>\n",
       "      <th>location</th>\n",
       "      <th>style</th>\n",
       "      <th>percentile</th>\n",
       "      <th>model_name</th>\n",
       "      <th>mu</th>\n",
       "      <th>sigma</th>\n",
       "      <th>alpha</th>\n",
       "      <th>beta</th>\n",
       "      <th>xd</th>\n",
       "      <th>d_xd</th>\n",
       "      <th>displ_without_aleatory</th>\n",
       "      <th>displ_with_aleatory</th>\n",
       "    </tr>\n",
       "  </thead>\n",
       "  <tbody>\n",
       "    <tr>\n",
       "      <th>0</th>\n",
       "      <td>6.8</td>\n",
       "      <td>0.25</td>\n",
       "      <td>reverse</td>\n",
       "      <td>0.50</td>\n",
       "      <td>d_ad</td>\n",
       "      <td>-0.01328</td>\n",
       "      <td>0.17</td>\n",
       "      <td>2.160306</td>\n",
       "      <td>0.459984</td>\n",
       "      <td>0.969884</td>\n",
       "      <td>0.845298</td>\n",
       "      <td>0.819842</td>\n",
       "      <td>0.803748</td>\n",
       "    </tr>\n",
       "    <tr>\n",
       "      <th>1</th>\n",
       "      <td>6.8</td>\n",
       "      <td>0.25</td>\n",
       "      <td>reverse</td>\n",
       "      <td>0.84</td>\n",
       "      <td>d_ad</td>\n",
       "      <td>-0.01328</td>\n",
       "      <td>0.17</td>\n",
       "      <td>2.160306</td>\n",
       "      <td>0.459984</td>\n",
       "      <td>0.969884</td>\n",
       "      <td>1.613752</td>\n",
       "      <td>1.565153</td>\n",
       "      <td>1.728073</td>\n",
       "    </tr>\n",
       "    <tr>\n",
       "      <th>2</th>\n",
       "      <td>6.8</td>\n",
       "      <td>0.50</td>\n",
       "      <td>reverse</td>\n",
       "      <td>0.50</td>\n",
       "      <td>d_ad</td>\n",
       "      <td>-0.01328</td>\n",
       "      <td>0.17</td>\n",
       "      <td>1.829422</td>\n",
       "      <td>0.893597</td>\n",
       "      <td>0.969884</td>\n",
       "      <td>1.348468</td>\n",
       "      <td>1.307858</td>\n",
       "      <td>1.284480</td>\n",
       "    </tr>\n",
       "    <tr>\n",
       "      <th>3</th>\n",
       "      <td>6.8</td>\n",
       "      <td>0.50</td>\n",
       "      <td>reverse</td>\n",
       "      <td>0.84</td>\n",
       "      <td>d_ad</td>\n",
       "      <td>-0.01328</td>\n",
       "      <td>0.17</td>\n",
       "      <td>1.829422</td>\n",
       "      <td>0.893597</td>\n",
       "      <td>0.969884</td>\n",
       "      <td>2.726935</td>\n",
       "      <td>2.644812</td>\n",
       "      <td>2.888697</td>\n",
       "    </tr>\n",
       "    <tr>\n",
       "      <th>4</th>\n",
       "      <td>6.8</td>\n",
       "      <td>0.25</td>\n",
       "      <td>reverse</td>\n",
       "      <td>0.50</td>\n",
       "      <td>d_md</td>\n",
       "      <td>0.27226</td>\n",
       "      <td>0.31</td>\n",
       "      <td>0.938250</td>\n",
       "      <td>1.275000</td>\n",
       "      <td>1.871802</td>\n",
       "      <td>0.397799</td>\n",
       "      <td>0.744602</td>\n",
       "      <td>0.663981</td>\n",
       "    </tr>\n",
       "    <tr>\n",
       "      <th>5</th>\n",
       "      <td>6.8</td>\n",
       "      <td>0.25</td>\n",
       "      <td>reverse</td>\n",
       "      <td>0.84</td>\n",
       "      <td>d_md</td>\n",
       "      <td>0.27226</td>\n",
       "      <td>0.31</td>\n",
       "      <td>0.938250</td>\n",
       "      <td>1.275000</td>\n",
       "      <td>1.871802</td>\n",
       "      <td>0.750108</td>\n",
       "      <td>1.404055</td>\n",
       "      <td>1.813780</td>\n",
       "    </tr>\n",
       "    <tr>\n",
       "      <th>6</th>\n",
       "      <td>6.8</td>\n",
       "      <td>0.50</td>\n",
       "      <td>reverse</td>\n",
       "      <td>0.50</td>\n",
       "      <td>d_md</td>\n",
       "      <td>0.27226</td>\n",
       "      <td>0.31</td>\n",
       "      <td>1.163500</td>\n",
       "      <td>0.810000</td>\n",
       "      <td>1.871802</td>\n",
       "      <td>0.624306</td>\n",
       "      <td>1.168578</td>\n",
       "      <td>1.005237</td>\n",
       "    </tr>\n",
       "    <tr>\n",
       "      <th>7</th>\n",
       "      <td>6.8</td>\n",
       "      <td>0.50</td>\n",
       "      <td>reverse</td>\n",
       "      <td>0.84</td>\n",
       "      <td>d_md</td>\n",
       "      <td>0.27226</td>\n",
       "      <td>0.31</td>\n",
       "      <td>1.163500</td>\n",
       "      <td>0.810000</td>\n",
       "      <td>1.871802</td>\n",
       "      <td>0.910732</td>\n",
       "      <td>1.704711</td>\n",
       "      <td>2.408655</td>\n",
       "    </tr>\n",
       "  </tbody>\n",
       "</table>\n",
       "</div>"
      ],
      "text/plain": [
       "   magnitude  location    style  percentile model_name       mu  sigma     alpha      beta        xd      d_xd  displ_without_aleatory  displ_with_aleatory\n",
       "0        6.8      0.25  reverse        0.50       d_ad -0.01328   0.17  2.160306  0.459984  0.969884  0.845298                0.819842             0.803748\n",
       "1        6.8      0.25  reverse        0.84       d_ad -0.01328   0.17  2.160306  0.459984  0.969884  1.613752                1.565153             1.728073\n",
       "2        6.8      0.50  reverse        0.50       d_ad -0.01328   0.17  1.829422  0.893597  0.969884  1.348468                1.307858             1.284480\n",
       "3        6.8      0.50  reverse        0.84       d_ad -0.01328   0.17  1.829422  0.893597  0.969884  2.726935                2.644812             2.888697\n",
       "4        6.8      0.25  reverse        0.50       d_md  0.27226   0.31  0.938250  1.275000  1.871802  0.397799                0.744602             0.663981\n",
       "5        6.8      0.25  reverse        0.84       d_md  0.27226   0.31  0.938250  1.275000  1.871802  0.750108                1.404055             1.813780\n",
       "6        6.8      0.50  reverse        0.50       d_md  0.27226   0.31  1.163500  0.810000  1.871802  0.624306                1.168578             1.005237\n",
       "7        6.8      0.50  reverse        0.84       d_md  0.27226   0.31  1.163500  0.810000  1.871802  0.910732                1.704711             2.408655"
      ]
     },
     "execution_count": 10,
     "metadata": {},
     "output_type": "execute_result"
    }
   ],
   "source": [
    "mags, locs, percs, models = (\n",
    "    6.8,\n",
    "    [0.25, 0.5],\n",
    "    [0.5, 0.84],\n",
    "    [\"d_ad\", \"d_md\"],\n",
    ")\n",
    "\n",
    "results = run_displacement_model.run_model(\n",
    "    magnitude=mags, location=locs, percentile=percs, submodel=models\n",
    ")\n",
    "\n",
    "results"
   ]
  },
  {
   "cell_type": "code",
   "execution_count": 11,
   "metadata": {},
   "outputs": [],
   "source": [
    "del mags, locs, percs, models"
   ]
  },
  {
   "cell_type": "markdown",
   "metadata": {},
   "source": [
    "# Scratch"
   ]
  },
  {
   "cell_type": "code",
   "execution_count": 12,
   "metadata": {},
   "outputs": [],
   "source": [
    "mag = 7\n",
    "locs = np.arange(0, 1.01, 0.01)\n",
    "perc = 0.5\n",
    "models = [\"d_ad\", \"d_md\"]\n",
    "\n",
    "df = run_displacement_model.run_model(\n",
    "    magnitude=mag, location=locs, percentile=perc, submodel=models\n",
    ")"
   ]
  },
  {
   "cell_type": "code",
   "execution_count": 13,
   "metadata": {},
   "outputs": [
    {
     "data": {
      "image/png": "[encoded data removed]",
      "text/plain": [
       "<Figure size 1008x288 with 3 Axes>"
      ]
     },
     "metadata": {
      "needs_background": "light"
     },
     "output_type": "display_data"
    }
   ],
   "source": [
    "colors = {\"d_ad\": \"tab:blue\", \"d_md\": \"tab:orange\"}\n",
    "lines = {\"d_ad\": \"--\", \"d_md\": \":\"}\n",
    "\n",
    "fig, axs = plt.subplots(1, 3, figsize=(14, 4), sharex=True)\n",
    "\n",
    "for model, group in df.groupby([\"model_name\"]):\n",
    "    group = group.sort_values(by=\"location\")\n",
    "    axs[0].plot(\n",
    "        group[\"location\"], group[\"d_xd\"], c=colors[model], ls=lines[model], label=model\n",
    "    )\n",
    "    axs[1].plot(\n",
    "        group[\"location\"],\n",
    "        group[\"displ_without_aleatory\"],\n",
    "        c=colors[model],\n",
    "        ls=lines[model],\n",
    "        label=model,\n",
    "    )\n",
    "    axs[2].plot(\n",
    "        group[\"location\"],\n",
    "        group[\"displ_with_aleatory\"],\n",
    "        c=colors[model],\n",
    "        ls=lines[model],\n",
    "        label=model,\n",
    "    )\n",
    "\n",
    "for _ax in axs:\n",
    "    _ax.set(xlabel=\"x/L\", xlim=[0, 0.5], ylim=[0, 2])\n",
    "    _ax.legend(loc=\"upper left\")\n",
    "\n",
    "axs[0].set(ylabel=\"D/XD\", title=\"Normalized Displacment\")\n",
    "axs[1].set(ylabel=\"Displ. (m)\", title=\"Partial Aleatory\")\n",
    "axs[2].set(ylabel=\"Displ. (m)\", title=\"Full Aleatory\")\n",
    "\n",
    "ptile = \"Mean\" if perc == -1 else f\"P({int(perc*100)})\"\n",
    "fig.suptitle(f\"Magnitude {mag} for {ptile}\", y=1.025, fontsize=14)\n",
    "plt.savefig(f\"scratch-mr11 profiles {str(ptile)}.png\", bbox_inches=\"tight\")"
   ]
  },
  {
   "cell_type": "code",
   "execution_count": 14,
   "metadata": {},
   "outputs": [
    {
     "data": {
      "image/png": "[encoded data removed]",
      "text/plain": [
       "<Figure size 1008x288 with 3 Axes>"
      ]
     },
     "metadata": {
      "needs_background": "light"
     },
     "output_type": "display_data"
    }
   ],
   "source": [
    "colors = {\"d_ad\": \"tab:blue\", \"d_md\": \"tab:orange\"}\n",
    "lines = {\"d_ad\": \"--\", \"d_md\": \":\"}\n",
    "\n",
    "fig, axs = plt.subplots(1, 3, figsize=(14, 4), sharex=True)\n",
    "\n",
    "for model, group in df.groupby([\"model_name\"]):\n",
    "    group = group.sort_values(by=\"location\")\n",
    "    axs[0].semilogy(\n",
    "        group[\"location\"], group[\"d_xd\"], c=colors[model], ls=lines[model], label=model\n",
    "    )\n",
    "    axs[1].semilogy(\n",
    "        group[\"location\"],\n",
    "        group[\"displ_without_aleatory\"],\n",
    "        c=colors[model],\n",
    "        ls=lines[model],\n",
    "        label=model,\n",
    "    )\n",
    "    axs[2].semilogy(\n",
    "        group[\"location\"],\n",
    "        group[\"displ_with_aleatory\"],\n",
    "        c=colors[model],\n",
    "        ls=lines[model],\n",
    "        label=model,\n",
    "    )\n",
    "\n",
    "for _ax in axs:\n",
    "    _ax.set(xlabel=\"x/L\", xlim=[0, 0.5], ylim=[0.1, 10])\n",
    "    _ax.legend(loc=\"upper left\")\n",
    "\n",
    "axs[0].set(ylabel=\"D/XD\", title=\"Normalized Displacment\")\n",
    "axs[1].set(ylabel=\"Displ. (m)\", title=\"Partial Aleatory\")\n",
    "axs[2].set(ylabel=\"Displ. (m)\", title=\"Full Aleatory\")\n",
    "\n",
    "ptile = \"Mean\" if perc == -1 else f\"P({int(perc*100)})\"\n",
    "fig.suptitle(f\"Magnitude {mag} for {ptile}\", y=1.025, fontsize=14)\n",
    "plt.savefig(f\"scratch-mr11 profiles {str(ptile)} logY.png\", bbox_inches=\"tight\")"
   ]
  },
  {
   "cell_type": "code",
   "execution_count": 15,
   "metadata": {},
   "outputs": [],
   "source": [
    "del mag, locs, perc, models, df, fig, axs, ptile"
   ]
  },
  {
   "cell_type": "code",
   "execution_count": 16,
   "metadata": {},
   "outputs": [],
   "source": [
    "mag = 7\n",
    "locs = np.arange(0, 1.01, 0.01)\n",
    "perc = -1\n",
    "models = [\"d_ad\", \"d_md\"]\n",
    "\n",
    "df = run_displacement_model.run_model(\n",
    "    magnitude=mag, location=locs, percentile=perc, submodel=models\n",
    ")"
   ]
  },
  {
   "cell_type": "code",
   "execution_count": 17,
   "metadata": {},
   "outputs": [
    {
     "data": {
      "image/png": "[encoded data removed]",
      "text/plain": [
       "<Figure size 1008x288 with 3 Axes>"
      ]
     },
     "metadata": {
      "needs_background": "light"
     },
     "output_type": "display_data"
    }
   ],
   "source": [
    "colors = {\"d_ad\": \"tab:blue\", \"d_md\": \"tab:orange\"}\n",
    "lines = {\"d_ad\": \"--\", \"d_md\": \":\"}\n",
    "\n",
    "fig, axs = plt.subplots(1, 3, figsize=(14, 4), sharex=True)\n",
    "\n",
    "for model, group in df.groupby([\"model_name\"]):\n",
    "    group = group.sort_values(by=\"location\")\n",
    "    axs[0].plot(\n",
    "        group[\"location\"], group[\"d_xd\"], c=colors[model], ls=lines[model], label=model\n",
    "    )\n",
    "    axs[1].plot(\n",
    "        group[\"location\"],\n",
    "        group[\"displ_without_aleatory\"],\n",
    "        c=colors[model],\n",
    "        ls=lines[model],\n",
    "        label=model,\n",
    "    )\n",
    "    axs[2].plot(\n",
    "        group[\"location\"],\n",
    "        group[\"displ_with_aleatory\"],\n",
    "        c=colors[model],\n",
    "        ls=lines[model],\n",
    "        label=model,\n",
    "    )\n",
    "\n",
    "for _ax in axs:\n",
    "    _ax.set(xlabel=\"x/L\", xlim=[0, 0.5], ylim=[0, 2])\n",
    "    _ax.legend(loc=\"upper left\")\n",
    "\n",
    "axs[0].set(ylabel=\"D/XD\", title=\"Normalized Displacment\")\n",
    "axs[1].set(ylabel=\"Displ. (m)\", title=\"Partial Aleatory\")\n",
    "axs[2].set(ylabel=\"Displ. (m)\", title=\"Full Aleatory\")\n",
    "\n",
    "ptile = \"Mean\" if perc == -1 else f\"P({int(perc*100)})\"\n",
    "fig.suptitle(f\"Magnitude {mag} for {ptile}\", y=1.025, fontsize=14)\n",
    "plt.savefig(f\"scratch-mr11 profiles {str(ptile)}.png\", bbox_inches=\"tight\")"
   ]
  }
 ],
 "metadata": {
  "kernelspec": {
   "display_name": "fdhi",
   "language": "python",
   "name": "fdhi"
  },
  "language_info": {
   "codemirror_mode": {
    "name": "ipython",
    "version": 3
   },
   "file_extension": ".py",
   "mimetype": "text/x-python",
   "name": "python",
   "nbconvert_exporter": "python",
   "pygments_lexer": "ipython3",
   "version": "3.8.3"
  },
  "toc": {
   "base_numbering": 1,
   "nav_menu": {},
   "number_sections": true,
   "sideBar": true,
   "skip_h1_title": false,
   "title_cell": "Table of Contents",
   "title_sidebar": "Contents",
   "toc_cell": false,
   "toc_position": {
    "height": "calc(100% - 180px)",
    "left": "10px",
    "top": "150px",
    "width": "384px"
   },
   "toc_section_display": true,
   "toc_window_display": true
  }
 },
 "nbformat": 4,
 "nbformat_minor": 4
}
