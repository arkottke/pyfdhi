{
 "cells": [
  {
   "cell_type": "markdown",
   "metadata": {},
   "source": [
    "# Import libraries"
   ]
  },
  {
   "cell_type": "code",
   "execution_count": 1,
   "metadata": {},
   "outputs": [],
   "source": [
    "import sys\n",
    "from itertools import product\n",
    "from pathlib import Path\n",
    "import matplotlib.pyplot as plt\n",
    "import numpy as np\n",
    "import pandas as pd\n",
    "\n",
    "%matplotlib inline"
   ]
  },
  {
   "cell_type": "markdown",
   "metadata": {},
   "source": [
    "# Import modules"
   ]
  },
  {
   "cell_type": "code",
   "execution_count": 2,
   "metadata": {},
   "outputs": [],
   "source": [
    "# Add path for module\n",
    "# FIXME: shouldn't need this with a package install (`__init__` should suffice)\n",
    "SCRIPT_DIR = Path().resolve().parent\n",
    "sys.path.append(str(SCRIPT_DIR))\n",
    "\n",
    "from WellsCoppersmith1994 import run_average_displacement"
   ]
  },
  {
   "cell_type": "markdown",
   "metadata": {},
   "source": [
    "# Run Average Displacement"
   ]
  },
  {
   "cell_type": "markdown",
   "metadata": {},
   "source": [
    "## Single scenarios"
   ]
  },
  {
   "cell_type": "code",
   "execution_count": 3,
   "metadata": {},
   "outputs": [
    {
     "data": {
      "text/html": [
       "<div>\n",
       "<style scoped>\n",
       "    .dataframe tbody tr th:only-of-type {\n",
       "        vertical-align: middle;\n",
       "    }\n",
       "\n",
       "    .dataframe tbody tr th {\n",
       "        vertical-align: top;\n",
       "    }\n",
       "\n",
       "    .dataframe thead th {\n",
       "        text-align: right;\n",
       "    }\n",
       "</style>\n",
       "<table border=\"1\" class=\"dataframe\">\n",
       "  <thead>\n",
       "    <tr style=\"text-align: right;\">\n",
       "      <th></th>\n",
       "      <th>magnitude</th>\n",
       "      <th>style</th>\n",
       "      <th>percentile</th>\n",
       "      <th>mu</th>\n",
       "      <th>sigma</th>\n",
       "      <th>avg_displ</th>\n",
       "    </tr>\n",
       "  </thead>\n",
       "  <tbody>\n",
       "    <tr>\n",
       "      <th>0</th>\n",
       "      <td>7</td>\n",
       "      <td>strike-slip</td>\n",
       "      <td>0.5</td>\n",
       "      <td>-0.02</td>\n",
       "      <td>0.28</td>\n",
       "      <td>0.954993</td>\n",
       "    </tr>\n",
       "  </tbody>\n",
       "</table>\n",
       "</div>"
      ],
      "text/plain": [
       "   magnitude        style  percentile    mu  sigma  avg_displ\n",
       "0          7  strike-slip         0.5 -0.02   0.28   0.954993"
      ]
     },
     "execution_count": 3,
     "metadata": {},
     "output_type": "execute_result"
    }
   ],
   "source": [
    "df = run_average_displacement.run_ad(magnitude=7, style=\"strike-slip\")\n",
    "df"
   ]
  },
  {
   "cell_type": "code",
   "execution_count": 4,
   "metadata": {},
   "outputs": [
    {
     "name": "stderr",
     "output_type": "stream",
     "text": [
      "D:\\Documents\\_mydocs\\Work FDHI\\TEAM\\Journal\\kea23\\WellsCoppersmith1994\\run_average_displacement.py:95: UserWarning: Regressions for reverse-slip relationships are not significant at 95% probability level (per WC94). Use with caution.\n",
      "  warnings.warn(msg)\n"
     ]
    },
    {
     "data": {
      "text/html": [
       "<div>\n",
       "<style scoped>\n",
       "    .dataframe tbody tr th:only-of-type {\n",
       "        vertical-align: middle;\n",
       "    }\n",
       "\n",
       "    .dataframe tbody tr th {\n",
       "        vertical-align: top;\n",
       "    }\n",
       "\n",
       "    .dataframe thead th {\n",
       "        text-align: right;\n",
       "    }\n",
       "</style>\n",
       "<table border=\"1\" class=\"dataframe\">\n",
       "  <thead>\n",
       "    <tr style=\"text-align: right;\">\n",
       "      <th></th>\n",
       "      <th>magnitude</th>\n",
       "      <th>style</th>\n",
       "      <th>percentile</th>\n",
       "      <th>mu</th>\n",
       "      <th>sigma</th>\n",
       "      <th>avg_displ</th>\n",
       "    </tr>\n",
       "  </thead>\n",
       "  <tbody>\n",
       "    <tr>\n",
       "      <th>0</th>\n",
       "      <td>7</td>\n",
       "      <td>reverse</td>\n",
       "      <td>0.5</td>\n",
       "      <td>-0.18</td>\n",
       "      <td>0.38</td>\n",
       "      <td>0.660693</td>\n",
       "    </tr>\n",
       "  </tbody>\n",
       "</table>\n",
       "</div>"
      ],
      "text/plain": [
       "   magnitude    style  percentile    mu  sigma  avg_displ\n",
       "0          7  reverse         0.5 -0.18   0.38   0.660693"
      ]
     },
     "execution_count": 4,
     "metadata": {},
     "output_type": "execute_result"
    }
   ],
   "source": [
    "df = run_average_displacement.run_ad(magnitude=7, style=\"reverse\")\n",
    "df"
   ]
  },
  {
   "cell_type": "code",
   "execution_count": 5,
   "metadata": {},
   "outputs": [
    {
     "data": {
      "text/html": [
       "<div>\n",
       "<style scoped>\n",
       "    .dataframe tbody tr th:only-of-type {\n",
       "        vertical-align: middle;\n",
       "    }\n",
       "\n",
       "    .dataframe tbody tr th {\n",
       "        vertical-align: top;\n",
       "    }\n",
       "\n",
       "    .dataframe thead th {\n",
       "        text-align: right;\n",
       "    }\n",
       "</style>\n",
       "<table border=\"1\" class=\"dataframe\">\n",
       "  <thead>\n",
       "    <tr style=\"text-align: right;\">\n",
       "      <th></th>\n",
       "      <th>magnitude</th>\n",
       "      <th>style</th>\n",
       "      <th>percentile</th>\n",
       "      <th>mu</th>\n",
       "      <th>sigma</th>\n",
       "      <th>avg_displ</th>\n",
       "    </tr>\n",
       "  </thead>\n",
       "  <tbody>\n",
       "    <tr>\n",
       "      <th>0</th>\n",
       "      <td>7</td>\n",
       "      <td>all</td>\n",
       "      <td>0.5</td>\n",
       "      <td>0.03</td>\n",
       "      <td>0.36</td>\n",
       "      <td>1.071519</td>\n",
       "    </tr>\n",
       "  </tbody>\n",
       "</table>\n",
       "</div>"
      ],
      "text/plain": [
       "   magnitude style  percentile    mu  sigma  avg_displ\n",
       "0          7   all         0.5  0.03   0.36   1.071519"
      ]
     },
     "execution_count": 5,
     "metadata": {},
     "output_type": "execute_result"
    }
   ],
   "source": [
    "df = run_average_displacement.run_ad(magnitude=7, style=\"all\")\n",
    "df"
   ]
  },
  {
   "cell_type": "markdown",
   "metadata": {},
   "source": [
    "## Create magnitude scaling plots"
   ]
  },
  {
   "cell_type": "code",
   "execution_count": 6,
   "metadata": {},
   "outputs": [
    {
     "name": "stderr",
     "output_type": "stream",
     "text": [
      "D:\\Documents\\_mydocs\\Work FDHI\\TEAM\\Journal\\kea23\\WellsCoppersmith1994\\run_average_displacement.py:95: UserWarning: Regressions for reverse-slip relationships are not significant at 95% probability level (per WC94). Use with caution.\n",
      "  warnings.warn(msg)\n"
     ]
    },
    {
     "data": {
      "text/html": [
       "<div>\n",
       "<style scoped>\n",
       "    .dataframe tbody tr th:only-of-type {\n",
       "        vertical-align: middle;\n",
       "    }\n",
       "\n",
       "    .dataframe tbody tr th {\n",
       "        vertical-align: top;\n",
       "    }\n",
       "\n",
       "    .dataframe thead th {\n",
       "        text-align: right;\n",
       "    }\n",
       "</style>\n",
       "<table border=\"1\" class=\"dataframe\">\n",
       "  <thead>\n",
       "    <tr style=\"text-align: right;\">\n",
       "      <th></th>\n",
       "      <th>magnitude</th>\n",
       "      <th>style</th>\n",
       "      <th>percentile</th>\n",
       "      <th>mu</th>\n",
       "      <th>sigma</th>\n",
       "      <th>avg_displ</th>\n",
       "    </tr>\n",
       "  </thead>\n",
       "  <tbody>\n",
       "    <tr>\n",
       "      <th>0</th>\n",
       "      <td>5.0</td>\n",
       "      <td>strike-slip</td>\n",
       "      <td>0.5</td>\n",
       "      <td>-1.82</td>\n",
       "      <td>0.28</td>\n",
       "      <td>0.015136</td>\n",
       "    </tr>\n",
       "    <tr>\n",
       "      <th>1</th>\n",
       "      <td>5.2</td>\n",
       "      <td>strike-slip</td>\n",
       "      <td>0.5</td>\n",
       "      <td>-1.64</td>\n",
       "      <td>0.28</td>\n",
       "      <td>0.022909</td>\n",
       "    </tr>\n",
       "    <tr>\n",
       "      <th>2</th>\n",
       "      <td>5.4</td>\n",
       "      <td>strike-slip</td>\n",
       "      <td>0.5</td>\n",
       "      <td>-1.46</td>\n",
       "      <td>0.28</td>\n",
       "      <td>0.034674</td>\n",
       "    </tr>\n",
       "    <tr>\n",
       "      <th>3</th>\n",
       "      <td>5.6</td>\n",
       "      <td>strike-slip</td>\n",
       "      <td>0.5</td>\n",
       "      <td>-1.28</td>\n",
       "      <td>0.28</td>\n",
       "      <td>0.052481</td>\n",
       "    </tr>\n",
       "    <tr>\n",
       "      <th>4</th>\n",
       "      <td>5.8</td>\n",
       "      <td>strike-slip</td>\n",
       "      <td>0.5</td>\n",
       "      <td>-1.10</td>\n",
       "      <td>0.28</td>\n",
       "      <td>0.079433</td>\n",
       "    </tr>\n",
       "  </tbody>\n",
       "</table>\n",
       "</div>"
      ],
      "text/plain": [
       "   magnitude        style  percentile    mu  sigma  avg_displ\n",
       "0        5.0  strike-slip         0.5 -1.82   0.28   0.015136\n",
       "1        5.2  strike-slip         0.5 -1.64   0.28   0.022909\n",
       "2        5.4  strike-slip         0.5 -1.46   0.28   0.034674\n",
       "3        5.6  strike-slip         0.5 -1.28   0.28   0.052481\n",
       "4        5.8  strike-slip         0.5 -1.10   0.28   0.079433"
      ]
     },
     "execution_count": 6,
     "metadata": {},
     "output_type": "execute_result"
    }
   ],
   "source": [
    "magnitudes = np.arange(5, 8.7, 0.2).tolist()\n",
    "\n",
    "# Strike-slip calculations\n",
    "run_results = []\n",
    "for magnitude in magnitudes:\n",
    "    results = run_average_displacement.run_ad(magnitude=magnitude, style=\"strike-slip\")\n",
    "    run_results.append(results)\n",
    "\n",
    "df_ss = pd.concat(run_results, ignore_index=True)\n",
    "del run_results, results\n",
    "\n",
    "# Reverse calculations\n",
    "run_results = []\n",
    "for magnitude in magnitudes:\n",
    "    results = run_average_displacement.run_ad(magnitude=magnitude, style=\"reverse\")\n",
    "    run_results.append(results)\n",
    "\n",
    "df_rv = pd.concat(run_results, ignore_index=True)\n",
    "del run_results, results\n",
    "\n",
    "# Normal calculations\n",
    "run_results = []\n",
    "for magnitude in magnitudes:\n",
    "    results = run_average_displacement.run_ad(magnitude=magnitude, style=\"normal\")\n",
    "    run_results.append(results)\n",
    "\n",
    "df_nm = pd.concat(run_results, ignore_index=True)\n",
    "del run_results, results\n",
    "\n",
    "# All styles calculations\n",
    "run_results = []\n",
    "for magnitude in magnitudes:\n",
    "    results = run_average_displacement.run_ad(magnitude=magnitude, style=\"all\")\n",
    "    run_results.append(results)\n",
    "\n",
    "df_all = pd.concat(run_results, ignore_index=True)\n",
    "del run_results, results\n",
    "\n",
    "df_ss.head()"
   ]
  },
  {
   "cell_type": "code",
   "execution_count": 7,
   "metadata": {},
   "outputs": [
    {
     "data": {
      "text/plain": [
       "<matplotlib.legend.Legend at 0x1c30e43c190>"
      ]
     },
     "execution_count": 7,
     "metadata": {},
     "output_type": "execute_result"
    },
    {
     "data": {
      "image/png": "[encoded data removed]",
      "text/plain": [
       "<Figure size 576x288 with 1 Axes>"
      ]
     },
     "metadata": {
      "needs_background": "light"
     },
     "output_type": "display_data"
    }
   ],
   "source": [
    "fig, ax = plt.subplots(1, 1, figsize=(8, 4))\n",
    "ax.semilogy(df_ss[\"magnitude\"], df_ss[\"avg_displ\"], label=\"Strike-Slip\")\n",
    "ax.semilogy(df_rv[\"magnitude\"], df_rv[\"avg_displ\"], label=\"Reverse\")\n",
    "ax.semilogy(df_nm[\"magnitude\"], df_nm[\"avg_displ\"], label=\"Normal\")\n",
    "ax.semilogy(df_all[\"magnitude\"], df_all[\"avg_displ\"], label=\"All\")\n",
    "ax.set(\n",
    "    xlabel=\"Magnitude\",\n",
    "    ylabel=\"Average (Principal) Displacement (m)\",\n",
    "    title=\"Magnitude Scaling\",\n",
    ")\n",
    "ax.legend(loc=\"lower right\")"
   ]
  }
 ],
 "metadata": {
  "kernelspec": {
   "display_name": "fdhi",
   "language": "python",
   "name": "fdhi"
  },
  "language_info": {
   "codemirror_mode": {
    "name": "ipython",
    "version": 3
   },
   "file_extension": ".py",
   "mimetype": "text/x-python",
   "name": "python",
   "nbconvert_exporter": "python",
   "pygments_lexer": "ipython3",
   "version": "3.8.3"
  },
  "toc": {
   "base_numbering": 1,
   "nav_menu": {},
   "number_sections": true,
   "sideBar": true,
   "skip_h1_title": false,
   "title_cell": "Table of Contents",
   "title_sidebar": "Contents",
   "toc_cell": false,
   "toc_position": {
    "height": "calc(100% - 180px)",
    "left": "10px",
    "top": "150px",
    "width": "307.2px"
   },
   "toc_section_display": true,
   "toc_window_display": true
  }
 },
 "nbformat": 4,
 "nbformat_minor": 4
}
