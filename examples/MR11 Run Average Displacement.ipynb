{
 "cells": [
  {
   "cell_type": "markdown",
   "metadata": {},
   "source": [
    "# Import libraries"
   ]
  },
  {
   "cell_type": "code",
   "execution_count": 1,
   "metadata": {},
   "outputs": [],
   "source": [
    "import sys\n",
    "from itertools import product\n",
    "from pathlib import Path\n",
    "import matplotlib.pyplot as plt\n",
    "import numpy as np\n",
    "import pandas as pd\n",
    "\n",
    "%matplotlib inline"
   ]
  },
  {
   "cell_type": "markdown",
   "metadata": {},
   "source": [
    "# Import modules"
   ]
  },
  {
   "cell_type": "code",
   "execution_count": 2,
   "metadata": {},
   "outputs": [],
   "source": [
    "# Add path for module\n",
    "# FIXME: shouldn't need this with a package install (`__init__` should suffice?!)\n",
    "MODEL_DIR = Path().resolve().parent / \"MossRoss2011\"\n",
    "sys.path.append(str(MODEL_DIR))\n",
    "\n",
    "import run_average_displacement"
   ]
  },
  {
   "cell_type": "markdown",
   "metadata": {},
   "source": [
    "# Run Average Displacement"
   ]
  },
  {
   "cell_type": "markdown",
   "metadata": {},
   "source": [
    "## Single scenarios"
   ]
  },
  {
   "cell_type": "markdown",
   "metadata": {},
   "source": [
    "A single scenario is defined as one magnitude/percentile/style. The default `percentile` is \"0.5\" and the default `style` is \"reverse\". Here is an example (note all parameters must be passed as keyword arguments)."
   ]
  },
  {
   "cell_type": "code",
   "execution_count": 3,
   "metadata": {},
   "outputs": [
    {
     "data": {
      "text/html": [
       "<div>\n",
       "<style scoped>\n",
       "    .dataframe tbody tr th:only-of-type {\n",
       "        vertical-align: middle;\n",
       "    }\n",
       "\n",
       "    .dataframe tbody tr th {\n",
       "        vertical-align: top;\n",
       "    }\n",
       "\n",
       "    .dataframe thead th {\n",
       "        text-align: right;\n",
       "    }\n",
       "</style>\n",
       "<table border=\"1\" class=\"dataframe\">\n",
       "  <thead>\n",
       "    <tr style=\"text-align: right;\">\n",
       "      <th></th>\n",
       "      <th>magnitude</th>\n",
       "      <th>style</th>\n",
       "      <th>percentile</th>\n",
       "      <th>mu</th>\n",
       "      <th>sigma</th>\n",
       "      <th>avg_displ</th>\n",
       "    </tr>\n",
       "  </thead>\n",
       "  <tbody>\n",
       "    <tr>\n",
       "      <th>0</th>\n",
       "      <td>7.0</td>\n",
       "      <td>reverse</td>\n",
       "      <td>0.5</td>\n",
       "      <td>0.0516</td>\n",
       "      <td>0.17</td>\n",
       "      <td>1.12616</td>\n",
       "    </tr>\n",
       "  </tbody>\n",
       "</table>\n",
       "</div>"
      ],
      "text/plain": [
       "   magnitude    style  percentile      mu  sigma  avg_displ\n",
       "0        7.0  reverse         0.5  0.0516   0.17    1.12616"
      ]
     },
     "execution_count": 3,
     "metadata": {},
     "output_type": "execute_result"
    }
   ],
   "source": [
    "df = run_average_displacement.run_ad(magnitude=7)\n",
    "df"
   ]
  },
  {
   "cell_type": "code",
   "execution_count": 4,
   "metadata": {},
   "outputs": [
    {
     "data": {
      "text/html": [
       "<div>\n",
       "<style scoped>\n",
       "    .dataframe tbody tr th:only-of-type {\n",
       "        vertical-align: middle;\n",
       "    }\n",
       "\n",
       "    .dataframe tbody tr th {\n",
       "        vertical-align: top;\n",
       "    }\n",
       "\n",
       "    .dataframe thead th {\n",
       "        text-align: right;\n",
       "    }\n",
       "</style>\n",
       "<table border=\"1\" class=\"dataframe\">\n",
       "  <thead>\n",
       "    <tr style=\"text-align: right;\">\n",
       "      <th></th>\n",
       "      <th>magnitude</th>\n",
       "      <th>style</th>\n",
       "      <th>percentile</th>\n",
       "      <th>mu</th>\n",
       "      <th>sigma</th>\n",
       "      <th>avg_displ</th>\n",
       "    </tr>\n",
       "  </thead>\n",
       "  <tbody>\n",
       "    <tr>\n",
       "      <th>0</th>\n",
       "      <td>7.0</td>\n",
       "      <td>reverse</td>\n",
       "      <td>0.84</td>\n",
       "      <td>0.0516</td>\n",
       "      <td>0.17</td>\n",
       "      <td>1.662103</td>\n",
       "    </tr>\n",
       "  </tbody>\n",
       "</table>\n",
       "</div>"
      ],
      "text/plain": [
       "   magnitude    style  percentile      mu  sigma  avg_displ\n",
       "0        7.0  reverse        0.84  0.0516   0.17   1.662103"
      ]
     },
     "execution_count": 4,
     "metadata": {},
     "output_type": "execute_result"
    }
   ],
   "source": [
    "df = run_average_displacement.run_ad(magnitude=7, percentile=0.84, style=\"reverse\")\n",
    "df"
   ]
  },
  {
   "cell_type": "markdown",
   "metadata": {},
   "source": [
    "This model should only be used for reverse faulting. The user input will be over-ridden in other cases:"
   ]
  },
  {
   "cell_type": "code",
   "execution_count": 5,
   "metadata": {},
   "outputs": [
    {
     "name": "stderr",
     "output_type": "stream",
     "text": [
      "D:\\Documents\\_mydocs\\Work FDHI\\TEAM\\Journal\\kea23\\MossRoss2011\\run_average_displacement.py:85: UserWarning: This model is only recommended for strike-slip faulting, but 'strike-slip' was entered.User input will be over-ridden.\n",
      "  warnings.warn(\n"
     ]
    },
    {
     "data": {
      "text/html": [
       "<div>\n",
       "<style scoped>\n",
       "    .dataframe tbody tr th:only-of-type {\n",
       "        vertical-align: middle;\n",
       "    }\n",
       "\n",
       "    .dataframe tbody tr th {\n",
       "        vertical-align: top;\n",
       "    }\n",
       "\n",
       "    .dataframe thead th {\n",
       "        text-align: right;\n",
       "    }\n",
       "</style>\n",
       "<table border=\"1\" class=\"dataframe\">\n",
       "  <thead>\n",
       "    <tr style=\"text-align: right;\">\n",
       "      <th></th>\n",
       "      <th>magnitude</th>\n",
       "      <th>style</th>\n",
       "      <th>percentile</th>\n",
       "      <th>mu</th>\n",
       "      <th>sigma</th>\n",
       "      <th>avg_displ</th>\n",
       "    </tr>\n",
       "  </thead>\n",
       "  <tbody>\n",
       "    <tr>\n",
       "      <th>0</th>\n",
       "      <td>7.0</td>\n",
       "      <td>reverse</td>\n",
       "      <td>0.5</td>\n",
       "      <td>0.0516</td>\n",
       "      <td>0.17</td>\n",
       "      <td>1.12616</td>\n",
       "    </tr>\n",
       "  </tbody>\n",
       "</table>\n",
       "</div>"
      ],
      "text/plain": [
       "   magnitude    style  percentile      mu  sigma  avg_displ\n",
       "0        7.0  reverse         0.5  0.0516   0.17    1.12616"
      ]
     },
     "execution_count": 5,
     "metadata": {},
     "output_type": "execute_result"
    }
   ],
   "source": [
    "df = run_average_displacement.run_ad(magnitude=7, style=\"strike-slip\")\n",
    "df"
   ]
  },
  {
   "cell_type": "markdown",
   "metadata": {},
   "source": [
    "## Multiple scenarios"
   ]
  },
  {
   "cell_type": "markdown",
   "metadata": {},
   "source": [
    "Multiple magnitude/percentile/style scenarios can be run. All combinations are run. However, `style` inputs that are not \"reverse\" will be over-ridden. Note that `percentile=-1` returns the mean. Here is an example."
   ]
  },
  {
   "cell_type": "code",
   "execution_count": 6,
   "metadata": {},
   "outputs": [
    {
     "data": {
      "text/html": [
       "<div>\n",
       "<style scoped>\n",
       "    .dataframe tbody tr th:only-of-type {\n",
       "        vertical-align: middle;\n",
       "    }\n",
       "\n",
       "    .dataframe tbody tr th {\n",
       "        vertical-align: top;\n",
       "    }\n",
       "\n",
       "    .dataframe thead th {\n",
       "        text-align: right;\n",
       "    }\n",
       "</style>\n",
       "<table border=\"1\" class=\"dataframe\">\n",
       "  <thead>\n",
       "    <tr style=\"text-align: right;\">\n",
       "      <th></th>\n",
       "      <th>magnitude</th>\n",
       "      <th>style</th>\n",
       "      <th>percentile</th>\n",
       "      <th>mu</th>\n",
       "      <th>sigma</th>\n",
       "      <th>avg_displ</th>\n",
       "    </tr>\n",
       "  </thead>\n",
       "  <tbody>\n",
       "    <tr>\n",
       "      <th>0</th>\n",
       "      <td>7.0</td>\n",
       "      <td>reverse</td>\n",
       "      <td>0.16</td>\n",
       "      <td>0.0516</td>\n",
       "      <td>0.17</td>\n",
       "      <td>0.763031</td>\n",
       "    </tr>\n",
       "    <tr>\n",
       "      <th>1</th>\n",
       "      <td>7.0</td>\n",
       "      <td>reverse</td>\n",
       "      <td>0.50</td>\n",
       "      <td>0.0516</td>\n",
       "      <td>0.17</td>\n",
       "      <td>1.126160</td>\n",
       "    </tr>\n",
       "    <tr>\n",
       "      <th>2</th>\n",
       "      <td>7.0</td>\n",
       "      <td>reverse</td>\n",
       "      <td>0.84</td>\n",
       "      <td>0.0516</td>\n",
       "      <td>0.17</td>\n",
       "      <td>1.662103</td>\n",
       "    </tr>\n",
       "    <tr>\n",
       "      <th>3</th>\n",
       "      <td>7.0</td>\n",
       "      <td>reverse</td>\n",
       "      <td>-1.00</td>\n",
       "      <td>0.0516</td>\n",
       "      <td>0.17</td>\n",
       "      <td>1.215829</td>\n",
       "    </tr>\n",
       "  </tbody>\n",
       "</table>\n",
       "</div>"
      ],
      "text/plain": [
       "   magnitude    style  percentile      mu  sigma  avg_displ\n",
       "0        7.0  reverse        0.16  0.0516   0.17   0.763031\n",
       "1        7.0  reverse        0.50  0.0516   0.17   1.126160\n",
       "2        7.0  reverse        0.84  0.0516   0.17   1.662103\n",
       "3        7.0  reverse       -1.00  0.0516   0.17   1.215829"
      ]
     },
     "execution_count": 6,
     "metadata": {},
     "output_type": "execute_result"
    }
   ],
   "source": [
    "df = run_average_displacement.run_ad(magnitude=7, percentile=[0.16, 0.5, 0.84, -1])\n",
    "df"
   ]
  },
  {
   "cell_type": "markdown",
   "metadata": {},
   "source": [
    "## Create magnitude scaling plots"
   ]
  },
  {
   "cell_type": "code",
   "execution_count": 7,
   "metadata": {},
   "outputs": [
    {
     "data": {
      "text/html": [
       "<div>\n",
       "<style scoped>\n",
       "    .dataframe tbody tr th:only-of-type {\n",
       "        vertical-align: middle;\n",
       "    }\n",
       "\n",
       "    .dataframe tbody tr th {\n",
       "        vertical-align: top;\n",
       "    }\n",
       "\n",
       "    .dataframe thead th {\n",
       "        text-align: right;\n",
       "    }\n",
       "</style>\n",
       "<table border=\"1\" class=\"dataframe\">\n",
       "  <thead>\n",
       "    <tr style=\"text-align: right;\">\n",
       "      <th></th>\n",
       "      <th>magnitude</th>\n",
       "      <th>style</th>\n",
       "      <th>percentile</th>\n",
       "      <th>mu</th>\n",
       "      <th>sigma</th>\n",
       "      <th>avg_displ</th>\n",
       "    </tr>\n",
       "  </thead>\n",
       "  <tbody>\n",
       "    <tr>\n",
       "      <th>0</th>\n",
       "      <td>5.0</td>\n",
       "      <td>reverse</td>\n",
       "      <td>0.05</td>\n",
       "      <td>-0.5972</td>\n",
       "      <td>0.17</td>\n",
       "      <td>0.132793</td>\n",
       "    </tr>\n",
       "    <tr>\n",
       "      <th>1</th>\n",
       "      <td>5.0</td>\n",
       "      <td>reverse</td>\n",
       "      <td>0.16</td>\n",
       "      <td>-0.5972</td>\n",
       "      <td>0.17</td>\n",
       "      <td>0.171294</td>\n",
       "    </tr>\n",
       "    <tr>\n",
       "      <th>2</th>\n",
       "      <td>5.0</td>\n",
       "      <td>reverse</td>\n",
       "      <td>0.50</td>\n",
       "      <td>-0.5972</td>\n",
       "      <td>0.17</td>\n",
       "      <td>0.252813</td>\n",
       "    </tr>\n",
       "    <tr>\n",
       "      <th>3</th>\n",
       "      <td>5.0</td>\n",
       "      <td>reverse</td>\n",
       "      <td>0.84</td>\n",
       "      <td>-0.5972</td>\n",
       "      <td>0.17</td>\n",
       "      <td>0.373128</td>\n",
       "    </tr>\n",
       "    <tr>\n",
       "      <th>4</th>\n",
       "      <td>5.0</td>\n",
       "      <td>reverse</td>\n",
       "      <td>0.95</td>\n",
       "      <td>-0.5972</td>\n",
       "      <td>0.17</td>\n",
       "      <td>0.481310</td>\n",
       "    </tr>\n",
       "  </tbody>\n",
       "</table>\n",
       "</div>"
      ],
      "text/plain": [
       "   magnitude    style  percentile      mu  sigma  avg_displ\n",
       "0        5.0  reverse        0.05 -0.5972   0.17   0.132793\n",
       "1        5.0  reverse        0.16 -0.5972   0.17   0.171294\n",
       "2        5.0  reverse        0.50 -0.5972   0.17   0.252813\n",
       "3        5.0  reverse        0.84 -0.5972   0.17   0.373128\n",
       "4        5.0  reverse        0.95 -0.5972   0.17   0.481310"
      ]
     },
     "execution_count": 7,
     "metadata": {},
     "output_type": "execute_result"
    }
   ],
   "source": [
    "magnitudes = np.arange(5, 8.7, 0.2)\n",
    "percentiles = [0.05, 0.16, 0.5, 0.84, 0.95, -1]\n",
    "\n",
    "results = run_average_displacement.run_ad(magnitude=magnitudes, percentile=percentiles)\n",
    "results.head()"
   ]
  },
  {
   "cell_type": "code",
   "execution_count": 8,
   "metadata": {},
   "outputs": [
    {
     "data": {
      "image/png": "[encoded data removed]",
      "text/plain": [
       "<Figure size 576x288 with 1 Axes>"
      ]
     },
     "metadata": {
      "needs_background": "light"
     },
     "output_type": "display_data"
    }
   ],
   "source": [
    "fig, ax = plt.subplots(1, 1, figsize=(8, 4))\n",
    "\n",
    "for ptile, group in results.groupby([\"percentile\"]):\n",
    "    group = group.sort_values(by=\"magnitude\")\n",
    "    label = \"Mean\" if ptile == -1 else f\"P({int(ptile*100)})\"\n",
    "    ax.semilogy(group[\"magnitude\"], group[\"avg_displ\"], label=label)\n",
    "\n",
    "ax.set(\n",
    "    xlabel=\"Magnitude\",\n",
    "    ylabel=\"Average (Principal) Displacement (m)\",\n",
    "    title=\"Magnitude Scaling\",\n",
    ")\n",
    "ax.set_ylim([0.1, 10])\n",
    "ax.legend(loc=\"lower right\");"
   ]
  }
 ],
 "metadata": {
  "kernelspec": {
   "display_name": "fdhi",
   "language": "python",
   "name": "fdhi"
  },
  "language_info": {
   "codemirror_mode": {
    "name": "ipython",
    "version": 3
   },
   "file_extension": ".py",
   "mimetype": "text/x-python",
   "name": "python",
   "nbconvert_exporter": "python",
   "pygments_lexer": "ipython3",
   "version": "3.8.3"
  },
  "toc": {
   "base_numbering": 1,
   "nav_menu": {},
   "number_sections": true,
   "sideBar": true,
   "skip_h1_title": false,
   "title_cell": "Table of Contents",
   "title_sidebar": "Contents",
   "toc_cell": false,
   "toc_position": {
    "height": "calc(100% - 180px)",
    "left": "10px",
    "top": "150px",
    "width": "307.2px"
   },
   "toc_section_display": true,
   "toc_window_display": true
  }
 },
 "nbformat": 4,
 "nbformat_minor": 4
}
